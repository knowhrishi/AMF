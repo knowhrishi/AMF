{
  "cells": [
    {
      "cell_type": "markdown",
      "metadata": {
        "id": "view-in-github",
        "colab_type": "text"
      },
      "source": [
        "<a href=\"https://colab.research.google.com/github/knowhrishi/AMF/blob/main/doc2vec.ipynb\" target=\"_parent\"><img src=\"https://colab.research.google.com/assets/colab-badge.svg\" alt=\"Open In Colab\"/></a>"
      ]
    },
    {
      "cell_type": "code",
      "execution_count": null,
      "metadata": {
        "id": "p5osoDIF9OSk"
      },
      "outputs": [],
      "source": [
        ""
      ]
    },
    {
      "cell_type": "code",
      "execution_count": null,
      "metadata": {
        "colab": {
          "base_uri": "https://localhost:8080/"
        },
        "id": "RpaFghwv9ags",
        "outputId": "8579e108-c3c0-49f3-f8de-fed8479e917d"
      },
      "outputs": [
        {
          "output_type": "stream",
          "name": "stdout",
          "text": [
            "Drive already mounted at /content/drive; to attempt to forcibly remount, call drive.mount(\"/content/drive\", force_remount=True).\n"
          ]
        }
      ],
      "source": [
        "from google.colab import drive\n",
        "drive.mount('/content/drive')"
      ]
    },
    {
      "cell_type": "code",
      "execution_count": 1,
      "metadata": {
        "colab": {
          "base_uri": "https://localhost:8080/"
        },
        "id": "l3RsAPkR_ozX",
        "outputId": "65ba4e47-a3d0-454c-bf39-169dd4e56a57"
      },
      "outputs": [
        {
          "output_type": "stream",
          "name": "stderr",
          "text": [
            "[nltk_data] Downloading package punkt to /root/nltk_data...\n",
            "[nltk_data]   Package punkt is already up-to-date!\n",
            "[nltk_data] Downloading package stopwords to /root/nltk_data...\n",
            "[nltk_data]   Package stopwords is already up-to-date!\n",
            "[nltk_data] Downloading package wordnet to /root/nltk_data...\n",
            "[nltk_data]   Package wordnet is already up-to-date!\n",
            "[nltk_data] Downloading package omw-1.4 to /root/nltk_data...\n",
            "[nltk_data]   Package omw-1.4 is already up-to-date!\n"
          ]
        }
      ],
      "source": [
        "import pandas as pd\n",
        "# from sqlalchemy import create_engine, inspect\n",
        "\n",
        "# Progress bar\n",
        "import tqdm\n",
        "import string, time\n",
        "# Word2Vec\n",
        "from gensim.models.word2vec import Word2Vec\n",
        "from gensim.models.doc2vec import Doc2Vec,TaggedDocument\n",
        "\n",
        "# from nltk.tokenize import word_tokenize \n",
        "from scipy.spatial.distance import cdist\n",
        "import nltk\n",
        "from nltk.tokenize import word_tokenize\n",
        "nltk.download('punkt')\n",
        "nltk.download('stopwords')\n",
        "nltk.download('wordnet')\n",
        "nltk.download('omw-1.4')\n",
        "\n",
        "from nltk.tokenize import RegexpTokenizer\n",
        "from nltk.stem import WordNetLemmatizer,PorterStemmer\n",
        "from nltk.corpus import stopwords\n",
        "import re\n",
        "lemmatizer = WordNetLemmatizer()\n",
        "stemmer = PorterStemmer() \n",
        "\n",
        "import time"
      ]
    },
    {
      "cell_type": "code",
      "execution_count": null,
      "metadata": {
        "id": "83gALUGlB3q0"
      },
      "outputs": [],
      "source": [
        "df = pd.read_csv('/content/drive/MyDrive/amf_data/item7a.csv')"
      ]
    },
    {
      "cell_type": "code",
      "execution_count": null,
      "metadata": {
        "id": "O4nGqpNLB6WG"
      },
      "outputs": [],
      "source": [
        "import re, string\n",
        "from nltk.tokenize import RegexpTokenizer\n",
        "from nltk.stem import WordNetLemmatizer,PorterStemmer\n",
        "from nltk.corpus import stopwords\n",
        "lemmatizer = WordNetLemmatizer()\n",
        "stemmer = PorterStemmer() \n",
        "\n",
        "def preprocess(sentence):\n",
        "    sentence=str(sentence)\n",
        "    sentence = sentence.lower()\n",
        "    # print(sentence)\n",
        "    pat = r'[^a-zA-z0-9.,!?/:;\\\"\\'\\s]' \n",
        "    text = re.sub(pat, '', sentence)\n",
        "    text_2 = ''.join([c for c in text if c not in string.punctuation])\n",
        "    \n",
        "    # stemmer = nltk.porter.PorterStemmer()\n",
        "    # text_3 = ' '.join([stemmer.stem(word) for word in text_2.split()])\n",
        "\n",
        "    # pattern = r'^\\s*|\\s\\s*'\n",
        "    # text_4 = re.sub(pattern, ' ', text_3).strip()\n",
        "    \n",
        "    # tokenizer = RegexpTokenizer(r'\\w+')\n",
        "    # tokens = tokenizer.tokenize(text_4)  \n",
        "\n",
        "    # filtered_words = [w for w in tokens if len(w) > 2 if not w in stopwords.words('english')]\n",
        "\n",
        "    # stem_words=[stemmer.stem(w) for w in filtered_words]\n",
        "\n",
        "    # lemma_words=[lemmatizer.lemmatize(w) for w in stem_words]\n",
        "\n",
        "\n",
        "    # print('COMPLETED: ==> '+(\" \".join(filtered_words))[:150])\n",
        "\n",
        "    # return \" \".join(filtered_words)\n",
        "    return text_2"
      ]
    },
    {
      "cell_type": "code",
      "execution_count": null,
      "metadata": {
        "colab": {
          "base_uri": "https://localhost:8080/"
        },
        "id": "83_OXlcOCDRN",
        "outputId": "3e86be96-fdec-475a-e8f3-80a1057f0523"
      },
      "outputs": [
        {
          "output_type": "stream",
          "name": "stdout",
          "text": [
            "--- 0.016090289486779107 hrs ---\n"
          ]
        }
      ],
      "source": [
        "start_time = time.time()\n",
        "df['cleanText']=df['item7a'].map(lambda s:preprocess(s)) \n",
        "print(\"--- %s hrs ---\" % ((time.time() - start_time) / 3600))\n"
      ]
    },
    {
      "cell_type": "code",
      "execution_count": null,
      "metadata": {
        "id": "w1yO0CrYD75K"
      },
      "outputs": [],
      "source": [
        ""
      ]
    },
    {
      "cell_type": "code",
      "execution_count": null,
      "metadata": {
        "id": "4afIFZmjImd3"
      },
      "outputs": [],
      "source": [
        "df.rename(columns = {'cleanText':'item7a_cleaned'}, inplace = True)"
      ]
    },
    {
      "cell_type": "code",
      "source": [
        ""
      ],
      "metadata": {
        "id": "CpesPfEsnH6A"
      },
      "execution_count": null,
      "outputs": []
    },
    {
      "cell_type": "code",
      "source": [
        "df.to_csv('/content/drive/MyDrive/amf_data/item7a_cleaned.csv', index=False, encoding='utf-8')"
      ],
      "metadata": {
        "id": "TPyNLtmjm0E-"
      },
      "execution_count": null,
      "outputs": []
    },
    {
      "cell_type": "code",
      "source": [
        "# df['item7a_cleaned'].iloc[0]"
      ],
      "metadata": {
        "id": "EkLOIF0Sm6a5"
      },
      "execution_count": null,
      "outputs": []
    },
    {
      "cell_type": "code",
      "source": [
        "# df_copy = df.copy()"
      ],
      "metadata": {
        "id": "Lpkt3bxnoDJd"
      },
      "execution_count": null,
      "outputs": []
    },
    {
      "cell_type": "code",
      "source": [
        "df.dropna(inplace=True)"
      ],
      "metadata": {
        "id": "m2UvgIDOsoJB"
      },
      "execution_count": null,
      "outputs": []
    },
    {
      "cell_type": "code",
      "source": [
        "df['cleanText']"
      ],
      "metadata": {
        "colab": {
          "base_uri": "https://localhost:8080/"
        },
        "id": "yj4p2Nics4i1",
        "outputId": "abc04bc2-0c91-4012-cba2-2158b164aca6"
      },
      "execution_count": null,
      "outputs": [
        {
          "output_type": "execute_result",
          "data": {
            "text/plain": [
              "0        item 7a quantitative and qualitative disclosur...\n",
              "1        item 7a quantitative and qualitative disclosur...\n",
              "2        item 7a quantitative and qualitative disclosur...\n",
              "3        item 7a quantitative and qualitative disclosur...\n",
              "4        item 7a quantitative and qualitative disclosur...\n",
              "                               ...                        \n",
              "40344    item 7a quantitative and qualitative disclosur...\n",
              "40345    item 7a quantitative and qualitative disclosur...\n",
              "40346    item 7a quantitative and qualitative disclosur...\n",
              "40347    item 7a quantitative and qualitative disclosur...\n",
              "40348    item 7a quantitative and qualitative disclosur...\n",
              "Name: cleanText, Length: 40349, dtype: object"
            ]
          },
          "metadata": {},
          "execution_count": 48
        }
      ]
    },
    {
      "cell_type": "code",
      "source": [
        "for i in range(len(df['cleanText'])):\n",
        "  df['cleanText'][i] = re.sub(\"^.*?factors\",\"\",df['cleanText'][i])"
      ],
      "metadata": {
        "colab": {
          "base_uri": "https://localhost:8080/"
        },
        "id": "gJ9uhK4XnOt2",
        "outputId": "780aaabe-6ea0-4636-b0f7-f6f5d1d3152a"
      },
      "execution_count": null,
      "outputs": [
        {
          "output_type": "stream",
          "name": "stderr",
          "text": [
            "/usr/local/lib/python3.7/dist-packages/ipykernel_launcher.py:2: SettingWithCopyWarning: \n",
            "A value is trying to be set on a copy of a slice from a DataFrame\n",
            "\n",
            "See the caveats in the documentation: https://pandas.pydata.org/pandas-docs/stable/user_guide/indexing.html#returning-a-view-versus-a-copy\n",
            "  \n"
          ]
        }
      ]
    },
    {
      "cell_type": "code",
      "source": [
        "df['cleanText'][0]"
      ],
      "metadata": {
        "colab": {
          "base_uri": "https://localhost:8080/",
          "height": 261
        },
        "id": "NQO5osnfoKLk",
        "outputId": "8851bb71-9eb9-4c45-c984-4dd385eacfbb"
      },
      "execution_count": null,
      "outputs": [
        {
          "output_type": "execute_result",
          "data": {
            "text/plain": [
              "'item 7a quantitative and qualitative disclosures about market risk quantitative and qualitative disclosures about market risk we have operations both within the united states and internationally and we are exposed to market risks in the ordinary course of our business these risks include primarily foreign exchange risks interest rate and inflation 60 table of contents financial instruments financial instruments meeting fair value disclosure requirements consist of cash equivalents accounts receivable and accounts payable the fair value of these financial instruments approximates their carrying amount foreign currency exchange risk our results of operations and cash flows are subject to fluctuations due to changes in foreign currency exchange rates particularly changes in the euro british pound australian dollar and japanese yen except for revenue transactions in japan we enter into transactions directly with substantially all of our foreign customers percentage of revenues and expenses in foreign currency is as follows twelve months ended december 31 2017 2016 revenues generated in locations outside the united states 45  42  revenues in currencies other than the united states dollar 1 29  28  expenses in currencies other than the united states dollar 1 15  15  1 percentage of revenues and expenses denominated in foreign currency for the years ended december 31 2017 and 2016 twelve months endeddecember 31 2017 revenues expenses euro 6  1  british pound 7 6 japanese yen 11 4 other 5 4 total 29  15  twelve months endeddecember 31 2016 revenues expenses euro 7  2  british pound 7 6 japanese yen 10 4 other 4 3 total 28  15  as of december 31 2017 and 2016 we had 73 million and 56 million respectively of receivables denominated in currencies other than the us dollar we also maintain cash accounts denominated in currencies other than the local currency which exposes us to foreign exchange rate movements in addition although our foreign subsidiaries have intercompany accounts that are eliminated upon consolidation these accounts expose us to foreign currency exchange rate fluctuations exchange rate fluctuations on shortterm intercompany accounts are recorded in our consolidated statements of operations under other income expense net while exchange rate fluctuations on longterm intercompany accounts are recorded in our consolidated balance sheets under accumulated other comprehensive income in stockholders equity as they are considered part of our net investment and hence do not give rise to gains or losses 61 table of contents currently our largest foreign currency exposures are the euro and british pound primarily because our european operations have a higher proportion of our local currency denominated expenses relative to foreign currency exposures existing at december 31 2017 a 10 unfavorable movement in foreign currency exchange rates would expose us to significant losses in earnings or cash flows or significantly diminish the fair value of our foreign currency financial instruments for the year ended december 31 2017 we estimated that a 10 unfavorable movement in foreign currency exchange rates would have decreased revenues by 45 million decreased expenses by 26 million and decreased operating income by 19 million the estimates used assume that all currencies move in the same direction at the same time and the ratio of nonus dollar denominated revenue and expenses to us dollar denominated revenue and expenses does not change from current levels since a portion of our revenue is deferred revenue that is recorded at different foreign currency exchange rates the impact to revenue of a change in foreign currency exchange rates is recognized over time and the impact to expenses is more immediate as expenses are recognized at the current foreign currency exchange rate in effect at the time the expense is incurred all of the potential changes noted above are based on sensitivity analyses performed on our financial results as of december 31 2017 and 2016 interest rate risk we had unrestricted cash and cash equivalents totaling 261 million at december 31 2017 cash and cash equivalents were invested primarily in money market funds and are held for working capital purposes we do not use derivative financial instruments in our investment portfolio declines in interest rates however would reduce future interest income we incurred 26000 and 63000 of interest expense during the years ended december 31 2017 and 2016 respectively related to interest paid on capital leases and an equipment financing while we continue to incur interest expense in connection with our capital leases and equipment financing the interest expense is fixed and not subject to changes in market interest rates in the event that we borrow under our line of credit which bears interest at the prime rate or the libor rate plus the libor rate margin the related interest expense recorded would be subject to changes in the rate of interest inflation risk we do not believe that inflation has had a material effect on our business financial condition or results of operations if our costs were to become subject to significant inflationary pressures we may not be able to fully offset such higher costs through price increases our inability or failure to do so could harm our business financial condition and results of operations 62 table of contents'"
            ],
            "application/vnd.google.colaboratory.intrinsic+json": {
              "type": "string"
            }
          },
          "metadata": {},
          "execution_count": 51
        }
      ]
    },
    {
      "cell_type": "code",
      "source": [
        ""
      ],
      "metadata": {
        "id": "U4lq3cWwyB70"
      },
      "execution_count": null,
      "outputs": []
    },
    {
      "cell_type": "code",
      "source": [
        ""
      ],
      "metadata": {
        "id": "iC4-Zy9GyB4s"
      },
      "execution_count": null,
      "outputs": []
    },
    {
      "cell_type": "code",
      "source": [
        ""
      ],
      "metadata": {
        "id": "kU9gw_s0yBww"
      },
      "execution_count": null,
      "outputs": []
    },
    {
      "cell_type": "markdown",
      "source": [
        "New starts here\n"
      ],
      "metadata": {
        "id": "DtDEy0WLyCmj"
      }
    },
    {
      "cell_type": "code",
      "source": [
        "# df_copy['item7a_cleaned'][0]"
      ],
      "metadata": {
        "id": "s_0dMIiOoQkG"
      },
      "execution_count": null,
      "outputs": []
    },
    {
      "cell_type": "code",
      "source": [
        "pip install gensim"
      ],
      "metadata": {
        "colab": {
          "base_uri": "https://localhost:8080/"
        },
        "id": "mvMfDq2cvkpk",
        "outputId": "cd786aa9-9ee4-4f1a-f6b3-1b46fc6a247b"
      },
      "execution_count": null,
      "outputs": [
        {
          "output_type": "stream",
          "name": "stdout",
          "text": [
            "Looking in indexes: https://pypi.org/simple, https://us-python.pkg.dev/colab-wheels/public/simple/\n",
            "Requirement already satisfied: gensim in /usr/local/lib/python3.7/dist-packages (3.6.0)\n",
            "Requirement already satisfied: scipy>=0.18.1 in /usr/local/lib/python3.7/dist-packages (from gensim) (1.4.1)\n",
            "Requirement already satisfied: smart-open>=1.2.1 in /usr/local/lib/python3.7/dist-packages (from gensim) (5.2.1)\n",
            "Requirement already satisfied: numpy>=1.11.3 in /usr/local/lib/python3.7/dist-packages (from gensim) (1.21.6)\n",
            "Requirement already satisfied: six>=1.5.0 in /usr/local/lib/python3.7/dist-packages (from gensim) (1.15.0)\n"
          ]
        }
      ]
    },
    {
      "cell_type": "code",
      "source": [
        "import gensim"
      ],
      "metadata": {
        "id": "hO2l0Vcxv1c_"
      },
      "execution_count": null,
      "outputs": []
    },
    {
      "cell_type": "code",
      "source": [
        "# for i in range(1,len(df['cleanText'])):\n",
        "#   df['cleanText'][i] = gensim.utils.simple_preprocess(df['cleanText'][i])"
      ],
      "metadata": {
        "colab": {
          "base_uri": "https://localhost:8080/"
        },
        "id": "1Vqr7p9zuJYM",
        "outputId": "bd44a9f9-1f71-4c6f-e330-518fe1c4c089"
      },
      "execution_count": null,
      "outputs": [
        {
          "output_type": "stream",
          "name": "stderr",
          "text": [
            "/usr/local/lib/python3.7/dist-packages/ipykernel_launcher.py:2: SettingWithCopyWarning: \n",
            "A value is trying to be set on a copy of a slice from a DataFrame\n",
            "\n",
            "See the caveats in the documentation: https://pandas.pydata.org/pandas-docs/stable/user_guide/indexing.html#returning-a-view-versus-a-copy\n",
            "  \n"
          ]
        }
      ]
    },
    {
      "cell_type": "code",
      "source": [
        "df['cleanText'].iloc[0]"
      ],
      "metadata": {
        "colab": {
          "base_uri": "https://localhost:8080/",
          "height": 261
        },
        "outputId": "46a2154d-c581-44b3-f724-e5ef1c78e525",
        "id": "SWoUcs0VwbVz"
      },
      "execution_count": null,
      "outputs": [
        {
          "output_type": "execute_result",
          "data": {
            "text/plain": [
              "'item 7a quantitative and qualitative disclosures about market risk quantitative and qualitative disclosures about market risk we have operations both within the united states and internationally and we are exposed to market risks in the ordinary course of our business these risks include primarily foreign exchange risks interest rate and inflation 60 table of contents financial instruments financial instruments meeting fair value disclosure requirements consist of cash equivalents accounts receivable and accounts payable the fair value of these financial instruments approximates their carrying amount foreign currency exchange risk our results of operations and cash flows are subject to fluctuations due to changes in foreign currency exchange rates particularly changes in the euro british pound australian dollar and japanese yen except for revenue transactions in japan we enter into transactions directly with substantially all of our foreign customers percentage of revenues and expenses in foreign currency is as follows twelve months ended december 31 2017 2016 revenues generated in locations outside the united states 45  42  revenues in currencies other than the united states dollar 1 29  28  expenses in currencies other than the united states dollar 1 15  15  1 percentage of revenues and expenses denominated in foreign currency for the years ended december 31 2017 and 2016 twelve months endeddecember 31 2017 revenues expenses euro 6  1  british pound 7 6 japanese yen 11 4 other 5 4 total 29  15  twelve months endeddecember 31 2016 revenues expenses euro 7  2  british pound 7 6 japanese yen 10 4 other 4 3 total 28  15  as of december 31 2017 and 2016 we had 73 million and 56 million respectively of receivables denominated in currencies other than the us dollar we also maintain cash accounts denominated in currencies other than the local currency which exposes us to foreign exchange rate movements in addition although our foreign subsidiaries have intercompany accounts that are eliminated upon consolidation these accounts expose us to foreign currency exchange rate fluctuations exchange rate fluctuations on shortterm intercompany accounts are recorded in our consolidated statements of operations under other income expense net while exchange rate fluctuations on longterm intercompany accounts are recorded in our consolidated balance sheets under accumulated other comprehensive income in stockholders equity as they are considered part of our net investment and hence do not give rise to gains or losses 61 table of contents currently our largest foreign currency exposures are the euro and british pound primarily because our european operations have a higher proportion of our local currency denominated expenses relative to foreign currency exposures existing at december 31 2017 a 10 unfavorable movement in foreign currency exchange rates would expose us to significant losses in earnings or cash flows or significantly diminish the fair value of our foreign currency financial instruments for the year ended december 31 2017 we estimated that a 10 unfavorable movement in foreign currency exchange rates would have decreased revenues by 45 million decreased expenses by 26 million and decreased operating income by 19 million the estimates used assume that all currencies move in the same direction at the same time and the ratio of nonus dollar denominated revenue and expenses to us dollar denominated revenue and expenses does not change from current levels since a portion of our revenue is deferred revenue that is recorded at different foreign currency exchange rates the impact to revenue of a change in foreign currency exchange rates is recognized over time and the impact to expenses is more immediate as expenses are recognized at the current foreign currency exchange rate in effect at the time the expense is incurred all of the potential changes noted above are based on sensitivity analyses performed on our financial results as of december 31 2017 and 2016 interest rate risk we had unrestricted cash and cash equivalents totaling 261 million at december 31 2017 cash and cash equivalents were invested primarily in money market funds and are held for working capital purposes we do not use derivative financial instruments in our investment portfolio declines in interest rates however would reduce future interest income we incurred 26000 and 63000 of interest expense during the years ended december 31 2017 and 2016 respectively related to interest paid on capital leases and an equipment financing while we continue to incur interest expense in connection with our capital leases and equipment financing the interest expense is fixed and not subject to changes in market interest rates in the event that we borrow under our line of credit which bears interest at the prime rate or the libor rate plus the libor rate margin the related interest expense recorded would be subject to changes in the rate of interest inflation risk we do not believe that inflation has had a material effect on our business financial condition or results of operations if our costs were to become subject to significant inflationary pressures we may not be able to fully offset such higher costs through price increases our inability or failure to do so could harm our business financial condition and results of operations 62 table of contents'"
            ],
            "application/vnd.google.colaboratory.intrinsic+json": {
              "type": "string"
            }
          },
          "metadata": {},
          "execution_count": 58
        }
      ]
    },
    {
      "cell_type": "code",
      "source": [
        "# df_item7a = pd.read_csv('/content/drive/MyDrive/amf_data/item7a_cleaned.csv')\n",
        "df_item1a = pd.read_csv('/content/drive/MyDrive/amf_data/item1a_cleaned.csv')"
      ],
      "metadata": {
        "id": "C5uk40ONotLp"
      },
      "execution_count": null,
      "outputs": []
    },
    {
      "cell_type": "code",
      "source": [
        "df_item1a.head()"
      ],
      "metadata": {
        "colab": {
          "base_uri": "https://localhost:8080/",
          "height": 337
        },
        "id": "GUEDi2bdqCt8",
        "outputId": "3c7c518e-fbac-404b-a87e-74b3e1feb399"
      },
      "execution_count": null,
      "outputs": [
        {
          "output_type": "execute_result",
          "data": {
            "text/plain": [
              "                                              item1a      cik        date  \\\n",
              "0  >Item 1A. Risk Factors You should carefully re...  1313275  2018-02-28   \n",
              "1  >Item 1A. Risk Factors You should carefully re...  1313275  2017-02-21   \n",
              "2  >Item 1A. Risk Factors You should carefully co...  1313275  2014-03-11   \n",
              "3  >Item 1A. Risk Factors You should carefully co...  1313275  2013-03-05   \n",
              "4                          >Item 1A. Risk Factors 10  1313275  2015-03-05   \n",
              "\n",
              "  ticker                                          cleanText  \n",
              "0   BCOV  item risk factor care review risk factor descr...  \n",
              "1   BCOV  item risk factor care review risk factor descr...  \n",
              "2   BCOV  item risk factor care consid risk describ info...  \n",
              "3   BCOV  item risk factor care consid risk describ info...  \n",
              "4   BCOV                                   item risk factor  "
            ],
            "text/html": [
              "\n",
              "  <div id=\"df-d0b324f5-32b4-499a-9a53-17d7e9fe65d5\">\n",
              "    <div class=\"colab-df-container\">\n",
              "      <div>\n",
              "<style scoped>\n",
              "    .dataframe tbody tr th:only-of-type {\n",
              "        vertical-align: middle;\n",
              "    }\n",
              "\n",
              "    .dataframe tbody tr th {\n",
              "        vertical-align: top;\n",
              "    }\n",
              "\n",
              "    .dataframe thead th {\n",
              "        text-align: right;\n",
              "    }\n",
              "</style>\n",
              "<table border=\"1\" class=\"dataframe\">\n",
              "  <thead>\n",
              "    <tr style=\"text-align: right;\">\n",
              "      <th></th>\n",
              "      <th>item1a</th>\n",
              "      <th>cik</th>\n",
              "      <th>date</th>\n",
              "      <th>ticker</th>\n",
              "      <th>cleanText</th>\n",
              "    </tr>\n",
              "  </thead>\n",
              "  <tbody>\n",
              "    <tr>\n",
              "      <th>0</th>\n",
              "      <td>&gt;Item 1A. Risk Factors You should carefully re...</td>\n",
              "      <td>1313275</td>\n",
              "      <td>2018-02-28</td>\n",
              "      <td>BCOV</td>\n",
              "      <td>item risk factor care review risk factor descr...</td>\n",
              "    </tr>\n",
              "    <tr>\n",
              "      <th>1</th>\n",
              "      <td>&gt;Item 1A. Risk Factors You should carefully re...</td>\n",
              "      <td>1313275</td>\n",
              "      <td>2017-02-21</td>\n",
              "      <td>BCOV</td>\n",
              "      <td>item risk factor care review risk factor descr...</td>\n",
              "    </tr>\n",
              "    <tr>\n",
              "      <th>2</th>\n",
              "      <td>&gt;Item 1A. Risk Factors You should carefully co...</td>\n",
              "      <td>1313275</td>\n",
              "      <td>2014-03-11</td>\n",
              "      <td>BCOV</td>\n",
              "      <td>item risk factor care consid risk describ info...</td>\n",
              "    </tr>\n",
              "    <tr>\n",
              "      <th>3</th>\n",
              "      <td>&gt;Item 1A. Risk Factors You should carefully co...</td>\n",
              "      <td>1313275</td>\n",
              "      <td>2013-03-05</td>\n",
              "      <td>BCOV</td>\n",
              "      <td>item risk factor care consid risk describ info...</td>\n",
              "    </tr>\n",
              "    <tr>\n",
              "      <th>4</th>\n",
              "      <td>&gt;Item 1A. Risk Factors 10</td>\n",
              "      <td>1313275</td>\n",
              "      <td>2015-03-05</td>\n",
              "      <td>BCOV</td>\n",
              "      <td>item risk factor</td>\n",
              "    </tr>\n",
              "  </tbody>\n",
              "</table>\n",
              "</div>\n",
              "      <button class=\"colab-df-convert\" onclick=\"convertToInteractive('df-d0b324f5-32b4-499a-9a53-17d7e9fe65d5')\"\n",
              "              title=\"Convert this dataframe to an interactive table.\"\n",
              "              style=\"display:none;\">\n",
              "        \n",
              "  <svg xmlns=\"http://www.w3.org/2000/svg\" height=\"24px\"viewBox=\"0 0 24 24\"\n",
              "       width=\"24px\">\n",
              "    <path d=\"M0 0h24v24H0V0z\" fill=\"none\"/>\n",
              "    <path d=\"M18.56 5.44l.94 2.06.94-2.06 2.06-.94-2.06-.94-.94-2.06-.94 2.06-2.06.94zm-11 1L8.5 8.5l.94-2.06 2.06-.94-2.06-.94L8.5 2.5l-.94 2.06-2.06.94zm10 10l.94 2.06.94-2.06 2.06-.94-2.06-.94-.94-2.06-.94 2.06-2.06.94z\"/><path d=\"M17.41 7.96l-1.37-1.37c-.4-.4-.92-.59-1.43-.59-.52 0-1.04.2-1.43.59L10.3 9.45l-7.72 7.72c-.78.78-.78 2.05 0 2.83L4 21.41c.39.39.9.59 1.41.59.51 0 1.02-.2 1.41-.59l7.78-7.78 2.81-2.81c.8-.78.8-2.07 0-2.86zM5.41 20L4 18.59l7.72-7.72 1.47 1.35L5.41 20z\"/>\n",
              "  </svg>\n",
              "      </button>\n",
              "      \n",
              "  <style>\n",
              "    .colab-df-container {\n",
              "      display:flex;\n",
              "      flex-wrap:wrap;\n",
              "      gap: 12px;\n",
              "    }\n",
              "\n",
              "    .colab-df-convert {\n",
              "      background-color: #E8F0FE;\n",
              "      border: none;\n",
              "      border-radius: 50%;\n",
              "      cursor: pointer;\n",
              "      display: none;\n",
              "      fill: #1967D2;\n",
              "      height: 32px;\n",
              "      padding: 0 0 0 0;\n",
              "      width: 32px;\n",
              "    }\n",
              "\n",
              "    .colab-df-convert:hover {\n",
              "      background-color: #E2EBFA;\n",
              "      box-shadow: 0px 1px 2px rgba(60, 64, 67, 0.3), 0px 1px 3px 1px rgba(60, 64, 67, 0.15);\n",
              "      fill: #174EA6;\n",
              "    }\n",
              "\n",
              "    [theme=dark] .colab-df-convert {\n",
              "      background-color: #3B4455;\n",
              "      fill: #D2E3FC;\n",
              "    }\n",
              "\n",
              "    [theme=dark] .colab-df-convert:hover {\n",
              "      background-color: #434B5C;\n",
              "      box-shadow: 0px 1px 3px 1px rgba(0, 0, 0, 0.15);\n",
              "      filter: drop-shadow(0px 1px 2px rgba(0, 0, 0, 0.3));\n",
              "      fill: #FFFFFF;\n",
              "    }\n",
              "  </style>\n",
              "\n",
              "      <script>\n",
              "        const buttonEl =\n",
              "          document.querySelector('#df-d0b324f5-32b4-499a-9a53-17d7e9fe65d5 button.colab-df-convert');\n",
              "        buttonEl.style.display =\n",
              "          google.colab.kernel.accessAllowed ? 'block' : 'none';\n",
              "\n",
              "        async function convertToInteractive(key) {\n",
              "          const element = document.querySelector('#df-d0b324f5-32b4-499a-9a53-17d7e9fe65d5');\n",
              "          const dataTable =\n",
              "            await google.colab.kernel.invokeFunction('convertToInteractive',\n",
              "                                                     [key], {});\n",
              "          if (!dataTable) return;\n",
              "\n",
              "          const docLinkHtml = 'Like what you see? Visit the ' +\n",
              "            '<a target=\"_blank\" href=https://colab.research.google.com/notebooks/data_table.ipynb>data table notebook</a>'\n",
              "            + ' to learn more about interactive tables.';\n",
              "          element.innerHTML = '';\n",
              "          dataTable['output_type'] = 'display_data';\n",
              "          await google.colab.output.renderOutput(dataTable, element);\n",
              "          const docLink = document.createElement('div');\n",
              "          docLink.innerHTML = docLinkHtml;\n",
              "          element.appendChild(docLink);\n",
              "        }\n",
              "      </script>\n",
              "    </div>\n",
              "  </div>\n",
              "  "
            ]
          },
          "metadata": {},
          "execution_count": 6
        }
      ]
    },
    {
      "cell_type": "code",
      "source": [
        "df_item1a.drop(['item1a'], axis=1, inplace=True)"
      ],
      "metadata": {
        "id": "7km0zP4kqSZG"
      },
      "execution_count": null,
      "outputs": []
    },
    {
      "cell_type": "code",
      "source": [
        "df_item1a.head()"
      ],
      "metadata": {
        "colab": {
          "base_uri": "https://localhost:8080/",
          "height": 206
        },
        "id": "DdvQieY2qV_Q",
        "outputId": "a1b2078f-8de4-489a-9aa5-13be6dae9ab7"
      },
      "execution_count": null,
      "outputs": [
        {
          "output_type": "execute_result",
          "data": {
            "text/plain": [
              "       cik        date ticker  \\\n",
              "0  1313275  2018-02-28   BCOV   \n",
              "1  1313275  2017-02-21   BCOV   \n",
              "2  1313275  2014-03-11   BCOV   \n",
              "3  1313275  2013-03-05   BCOV   \n",
              "4  1313275  2015-03-05   BCOV   \n",
              "\n",
              "                                           cleanText  \n",
              "0  item risk factor care review risk factor descr...  \n",
              "1  item risk factor care review risk factor descr...  \n",
              "2  item risk factor care consid risk describ info...  \n",
              "3  item risk factor care consid risk describ info...  \n",
              "4                                   item risk factor  "
            ],
            "text/html": [
              "\n",
              "  <div id=\"df-b69347b1-b9b4-4e0a-a5be-7a53711f1dd6\">\n",
              "    <div class=\"colab-df-container\">\n",
              "      <div>\n",
              "<style scoped>\n",
              "    .dataframe tbody tr th:only-of-type {\n",
              "        vertical-align: middle;\n",
              "    }\n",
              "\n",
              "    .dataframe tbody tr th {\n",
              "        vertical-align: top;\n",
              "    }\n",
              "\n",
              "    .dataframe thead th {\n",
              "        text-align: right;\n",
              "    }\n",
              "</style>\n",
              "<table border=\"1\" class=\"dataframe\">\n",
              "  <thead>\n",
              "    <tr style=\"text-align: right;\">\n",
              "      <th></th>\n",
              "      <th>cik</th>\n",
              "      <th>date</th>\n",
              "      <th>ticker</th>\n",
              "      <th>cleanText</th>\n",
              "    </tr>\n",
              "  </thead>\n",
              "  <tbody>\n",
              "    <tr>\n",
              "      <th>0</th>\n",
              "      <td>1313275</td>\n",
              "      <td>2018-02-28</td>\n",
              "      <td>BCOV</td>\n",
              "      <td>item risk factor care review risk factor descr...</td>\n",
              "    </tr>\n",
              "    <tr>\n",
              "      <th>1</th>\n",
              "      <td>1313275</td>\n",
              "      <td>2017-02-21</td>\n",
              "      <td>BCOV</td>\n",
              "      <td>item risk factor care review risk factor descr...</td>\n",
              "    </tr>\n",
              "    <tr>\n",
              "      <th>2</th>\n",
              "      <td>1313275</td>\n",
              "      <td>2014-03-11</td>\n",
              "      <td>BCOV</td>\n",
              "      <td>item risk factor care consid risk describ info...</td>\n",
              "    </tr>\n",
              "    <tr>\n",
              "      <th>3</th>\n",
              "      <td>1313275</td>\n",
              "      <td>2013-03-05</td>\n",
              "      <td>BCOV</td>\n",
              "      <td>item risk factor care consid risk describ info...</td>\n",
              "    </tr>\n",
              "    <tr>\n",
              "      <th>4</th>\n",
              "      <td>1313275</td>\n",
              "      <td>2015-03-05</td>\n",
              "      <td>BCOV</td>\n",
              "      <td>item risk factor</td>\n",
              "    </tr>\n",
              "  </tbody>\n",
              "</table>\n",
              "</div>\n",
              "      <button class=\"colab-df-convert\" onclick=\"convertToInteractive('df-b69347b1-b9b4-4e0a-a5be-7a53711f1dd6')\"\n",
              "              title=\"Convert this dataframe to an interactive table.\"\n",
              "              style=\"display:none;\">\n",
              "        \n",
              "  <svg xmlns=\"http://www.w3.org/2000/svg\" height=\"24px\"viewBox=\"0 0 24 24\"\n",
              "       width=\"24px\">\n",
              "    <path d=\"M0 0h24v24H0V0z\" fill=\"none\"/>\n",
              "    <path d=\"M18.56 5.44l.94 2.06.94-2.06 2.06-.94-2.06-.94-.94-2.06-.94 2.06-2.06.94zm-11 1L8.5 8.5l.94-2.06 2.06-.94-2.06-.94L8.5 2.5l-.94 2.06-2.06.94zm10 10l.94 2.06.94-2.06 2.06-.94-2.06-.94-.94-2.06-.94 2.06-2.06.94z\"/><path d=\"M17.41 7.96l-1.37-1.37c-.4-.4-.92-.59-1.43-.59-.52 0-1.04.2-1.43.59L10.3 9.45l-7.72 7.72c-.78.78-.78 2.05 0 2.83L4 21.41c.39.39.9.59 1.41.59.51 0 1.02-.2 1.41-.59l7.78-7.78 2.81-2.81c.8-.78.8-2.07 0-2.86zM5.41 20L4 18.59l7.72-7.72 1.47 1.35L5.41 20z\"/>\n",
              "  </svg>\n",
              "      </button>\n",
              "      \n",
              "  <style>\n",
              "    .colab-df-container {\n",
              "      display:flex;\n",
              "      flex-wrap:wrap;\n",
              "      gap: 12px;\n",
              "    }\n",
              "\n",
              "    .colab-df-convert {\n",
              "      background-color: #E8F0FE;\n",
              "      border: none;\n",
              "      border-radius: 50%;\n",
              "      cursor: pointer;\n",
              "      display: none;\n",
              "      fill: #1967D2;\n",
              "      height: 32px;\n",
              "      padding: 0 0 0 0;\n",
              "      width: 32px;\n",
              "    }\n",
              "\n",
              "    .colab-df-convert:hover {\n",
              "      background-color: #E2EBFA;\n",
              "      box-shadow: 0px 1px 2px rgba(60, 64, 67, 0.3), 0px 1px 3px 1px rgba(60, 64, 67, 0.15);\n",
              "      fill: #174EA6;\n",
              "    }\n",
              "\n",
              "    [theme=dark] .colab-df-convert {\n",
              "      background-color: #3B4455;\n",
              "      fill: #D2E3FC;\n",
              "    }\n",
              "\n",
              "    [theme=dark] .colab-df-convert:hover {\n",
              "      background-color: #434B5C;\n",
              "      box-shadow: 0px 1px 3px 1px rgba(0, 0, 0, 0.15);\n",
              "      filter: drop-shadow(0px 1px 2px rgba(0, 0, 0, 0.3));\n",
              "      fill: #FFFFFF;\n",
              "    }\n",
              "  </style>\n",
              "\n",
              "      <script>\n",
              "        const buttonEl =\n",
              "          document.querySelector('#df-b69347b1-b9b4-4e0a-a5be-7a53711f1dd6 button.colab-df-convert');\n",
              "        buttonEl.style.display =\n",
              "          google.colab.kernel.accessAllowed ? 'block' : 'none';\n",
              "\n",
              "        async function convertToInteractive(key) {\n",
              "          const element = document.querySelector('#df-b69347b1-b9b4-4e0a-a5be-7a53711f1dd6');\n",
              "          const dataTable =\n",
              "            await google.colab.kernel.invokeFunction('convertToInteractive',\n",
              "                                                     [key], {});\n",
              "          if (!dataTable) return;\n",
              "\n",
              "          const docLinkHtml = 'Like what you see? Visit the ' +\n",
              "            '<a target=\"_blank\" href=https://colab.research.google.com/notebooks/data_table.ipynb>data table notebook</a>'\n",
              "            + ' to learn more about interactive tables.';\n",
              "          element.innerHTML = '';\n",
              "          dataTable['output_type'] = 'display_data';\n",
              "          await google.colab.output.renderOutput(dataTable, element);\n",
              "          const docLink = document.createElement('div');\n",
              "          docLink.innerHTML = docLinkHtml;\n",
              "          element.appendChild(docLink);\n",
              "        }\n",
              "      </script>\n",
              "    </div>\n",
              "  </div>\n",
              "  "
            ]
          },
          "metadata": {},
          "execution_count": 8
        }
      ]
    },
    {
      "cell_type": "code",
      "source": [
        "df_item1a.isnull().sum()"
      ],
      "metadata": {
        "colab": {
          "base_uri": "https://localhost:8080/"
        },
        "id": "RM1lENlT3KQQ",
        "outputId": "b867a790-aa09-4579-e449-513f777e4373"
      },
      "execution_count": null,
      "outputs": [
        {
          "output_type": "execute_result",
          "data": {
            "text/plain": [
              "cik             0\n",
              "date            0\n",
              "ticker          0\n",
              "cleanText    6590\n",
              "dtype: int64"
            ]
          },
          "metadata": {},
          "execution_count": 9
        }
      ]
    },
    {
      "cell_type": "code",
      "source": [
        "df_item1a.dropna(inplace=True)"
      ],
      "metadata": {
        "id": "quOSxxNd3QJJ"
      },
      "execution_count": null,
      "outputs": []
    },
    {
      "cell_type": "code",
      "source": [
        "df_item1a.isnull().sum()"
      ],
      "metadata": {
        "colab": {
          "base_uri": "https://localhost:8080/"
        },
        "id": "2WQrzbXj3XXb",
        "outputId": "a56ecb9c-fdb8-405c-de09-c4038450f0b9"
      },
      "execution_count": null,
      "outputs": [
        {
          "output_type": "execute_result",
          "data": {
            "text/plain": [
              "cik          0\n",
              "date         0\n",
              "ticker       0\n",
              "cleanText    0\n",
              "dtype: int64"
            ]
          },
          "metadata": {},
          "execution_count": 11
        }
      ]
    },
    {
      "cell_type": "code",
      "source": [
        "w2v_data_all = list(df_item1a['cleanText'])"
      ],
      "metadata": {
        "id": "aBc-L8H6qteQ"
      },
      "execution_count": null,
      "outputs": []
    },
    {
      "cell_type": "code",
      "source": [
        ""
      ],
      "metadata": {
        "id": "81dQNX3rqomm"
      },
      "execution_count": null,
      "outputs": []
    },
    {
      "cell_type": "code",
      "source": [
        "tag_data = [TaggedDocument(words=word_tokenize(_d.lower()), tags=[str(i)]) for i, _d in enumerate(w2v_data_all)]"
      ],
      "metadata": {
        "id": "bqftPXg6qp9E"
      },
      "execution_count": null,
      "outputs": []
    },
    {
      "cell_type": "code",
      "source": [
        "def build_model(max_epochs, vec_size, alpha, tagged_data):\n",
        "    \n",
        "    model = Doc2Vec(vector_size=vec_size,\n",
        "               alpha=alpha,\n",
        "               min_alpha=0.00025,\n",
        "               min_count=1,\n",
        "               dm=1)\n",
        "    \n",
        "    model.build_vocab(tag_data)\n",
        "    \n",
        "    # With the model built we simply train on the data.\n",
        "    \n",
        "    for epoch in range(max_epochs):\n",
        "        print(f\"Iteration {epoch}\")\n",
        "        model.train(tag_data,\n",
        "                   total_examples=model.corpus_count,\n",
        "                   epochs=model.epochs)\n",
        "\n",
        "        # Here I decrease the learning rate. \n",
        "\n",
        "        model.alpha -= 0.0002\n",
        "\n",
        "        model.min_alpha = model.alpha\n",
        "    \n",
        "    # Now simply save the model to avoid training again. \n",
        "    \n",
        "    model.save(\"/content/drive/MyDrive/amf_data/item1a.model\")\n",
        "    print(\"Model Saved\")\n",
        "    return model"
      ],
      "metadata": {
        "id": "acXHT1ehqrHy"
      },
      "execution_count": null,
      "outputs": []
    },
    {
      "cell_type": "code",
      "source": [
        "model = build_model(max_epochs=10, vec_size=300, alpha=0.025, window_size=5, tagged_data=tag_data)\n"
      ],
      "metadata": {
        "colab": {
          "base_uri": "https://localhost:8080/"
        },
        "id": "5B9BjrQy4qB4",
        "outputId": "018c1dba-992f-4b0d-f34b-08d71882f054"
      },
      "execution_count": null,
      "outputs": [
        {
          "output_type": "stream",
          "name": "stdout",
          "text": [
            "Iteration 0\n",
            "Iteration 1\n",
            "Iteration 2\n",
            "Iteration 3\n",
            "Iteration 4\n",
            "Iteration 5\n",
            "Iteration 6\n",
            "Iteration 7\n",
            "Iteration 8\n",
            "Iteration 9\n",
            "Model Saved\n"
          ]
        }
      ]
    },
    {
      "cell_type": "code",
      "source": [
        "model = Doc2Vec.load('/content/drive/MyDrive/amf_data/item1a.model')"
      ],
      "metadata": {
        "id": "hFK4Fd1wjagb"
      },
      "execution_count": null,
      "outputs": []
    },
    {
      "cell_type": "code",
      "source": [
        "# print(model.wv.vocab)\n",
        "len(model.wv.vocab)\n"
      ],
      "metadata": {
        "colab": {
          "base_uri": "https://localhost:8080/"
        },
        "id": "sRZXcuIDbsUv",
        "outputId": "f4e12984-bcb4-4918-c5e4-15f8f51922e8"
      },
      "execution_count": null,
      "outputs": [
        {
          "output_type": "execute_result",
          "data": {
            "text/plain": [
              "316793"
            ]
          },
          "metadata": {},
          "execution_count": 92
        }
      ]
    },
    {
      "cell_type": "code",
      "source": [
        "model.wv.similar_by_word(\"revenues\")"
      ],
      "metadata": {
        "colab": {
          "base_uri": "https://localhost:8080/",
          "height": 201
        },
        "id": "yddPT3ZF6s8_",
        "outputId": "1344065f-a7a6-4566-9fcc-1dc43a222ff2"
      },
      "execution_count": null,
      "outputs": [
        {
          "output_type": "error",
          "ename": "NameError",
          "evalue": "ignored",
          "traceback": [
            "\u001b[0;31m---------------------------------------------------------------------------\u001b[0m",
            "\u001b[0;31mNameError\u001b[0m                                 Traceback (most recent call last)",
            "\u001b[0;32m<ipython-input-88-787ff91ffa1a>\u001b[0m in \u001b[0;36m<module>\u001b[0;34m()\u001b[0m\n\u001b[0;32m----> 1\u001b[0;31m \u001b[0mmodel\u001b[0m\u001b[0;34m.\u001b[0m\u001b[0mwv\u001b[0m\u001b[0;34m.\u001b[0m\u001b[0msimilar_by_word\u001b[0m\u001b[0;34m(\u001b[0m\u001b[0;34m\"revenues\"\u001b[0m\u001b[0;34m)\u001b[0m\u001b[0;34m\u001b[0m\u001b[0;34m\u001b[0m\u001b[0m\n\u001b[0m",
            "\u001b[0;31mNameError\u001b[0m: name 'model' is not defined"
          ]
        }
      ]
    },
    {
      "cell_type": "code",
      "source": [
        ""
      ],
      "metadata": {
        "id": "vAz4gcpVab1d"
      },
      "execution_count": null,
      "outputs": []
    },
    {
      "cell_type": "code",
      "source": [
        ""
      ],
      "metadata": {
        "id": "R0Ztq6FDhPWq"
      },
      "execution_count": null,
      "outputs": []
    },
    {
      "cell_type": "markdown",
      "source": [
        "++++++++++++++++++++++++++++++++++++++++++++++++++++++++++++++++++++++++++++\n"
      ],
      "metadata": {
        "id": "SXfqdINuhPuR"
      }
    },
    {
      "cell_type": "code",
      "source": [
        "import gensim"
      ],
      "metadata": {
        "id": "NV6nKQKlmrg6"
      },
      "execution_count": 14,
      "outputs": []
    },
    {
      "cell_type": "code",
      "source": [
        "df = pd.read_csv('/content/drive/MyDrive/amf_data/item1a_cleaned_new.csv')"
      ],
      "metadata": {
        "id": "vxUh7gBKhPUL"
      },
      "execution_count": 4,
      "outputs": []
    },
    {
      "cell_type": "code",
      "source": [
        ""
      ],
      "metadata": {
        "id": "huRPcDrdMcvs"
      },
      "execution_count": null,
      "outputs": []
    },
    {
      "cell_type": "code",
      "source": [
        "df.isnull().sum()"
      ],
      "metadata": {
        "colab": {
          "base_uri": "https://localhost:8080/"
        },
        "id": "suy0WFaJhPQQ",
        "outputId": "3d308f1e-6de8-453e-c5a2-4dd266605f88"
      },
      "execution_count": 5,
      "outputs": [
        {
          "output_type": "execute_result",
          "data": {
            "text/plain": [
              "cik             0\n",
              "date            0\n",
              "ticker          0\n",
              "cleanTextNew    0\n",
              "dtype: int64"
            ]
          },
          "metadata": {},
          "execution_count": 5
        }
      ]
    },
    {
      "cell_type": "code",
      "source": [
        "# # imports\n",
        "# import re\n",
        "# # function to remove special characters\n",
        "# def remove_extra_whitespace_tabs(df['item7a']):\n",
        "#     #pattern = r'^\\s+$|\\s+$'\n",
        "#     pattern = r'^\\s*|\\s\\s*'\n",
        "#     return re.sub(pattern, ' ', text).strip()"
      ],
      "metadata": {
        "id": "bM3bubp4hPNl"
      },
      "execution_count": null,
      "outputs": []
    },
    {
      "cell_type": "code",
      "source": [
        "df.dropna(inplace=True)\n"
      ],
      "metadata": {
        "id": "YWPhhfQykn0j"
      },
      "execution_count": 19,
      "outputs": []
    },
    {
      "cell_type": "code",
      "source": [
        "df.isnull().sum()"
      ],
      "metadata": {
        "colab": {
          "base_uri": "https://localhost:8080/"
        },
        "id": "TCLsC5W2kspG",
        "outputId": "34332783-ca8f-4887-b5f5-b799cfc86865"
      },
      "execution_count": 20,
      "outputs": [
        {
          "output_type": "execute_result",
          "data": {
            "text/plain": [
              "item1a       0\n",
              "cik          0\n",
              "date         0\n",
              "ticker       0\n",
              "cleanText    0\n",
              "dtype: int64"
            ]
          },
          "metadata": {},
          "execution_count": 20
        }
      ]
    },
    {
      "cell_type": "code",
      "source": [
        "# df['item7a']=df['item7a'].fillna('').astype(str).map(preprocess)"
      ],
      "metadata": {
        "colab": {
          "base_uri": "https://localhost:8080/",
          "height": 201
        },
        "id": "Wbi6Dwv1nIdR",
        "outputId": "6d840bf3-78bd-4821-e253-2754ab5c8792"
      },
      "execution_count": null,
      "outputs": [
        {
          "output_type": "error",
          "ename": "NameError",
          "evalue": "ignored",
          "traceback": [
            "\u001b[0;31m---------------------------------------------------------------------------\u001b[0m",
            "\u001b[0;31mNameError\u001b[0m                                 Traceback (most recent call last)",
            "\u001b[0;32m<ipython-input-7-e8c1a290609c>\u001b[0m in \u001b[0;36m<module>\u001b[0;34m()\u001b[0m\n\u001b[0;32m----> 1\u001b[0;31m \u001b[0mdf\u001b[0m\u001b[0;34m[\u001b[0m\u001b[0;34m'item7a'\u001b[0m\u001b[0;34m]\u001b[0m\u001b[0;34m=\u001b[0m\u001b[0mdf\u001b[0m\u001b[0;34m[\u001b[0m\u001b[0;34m'item7a'\u001b[0m\u001b[0;34m]\u001b[0m\u001b[0;34m.\u001b[0m\u001b[0mfillna\u001b[0m\u001b[0;34m(\u001b[0m\u001b[0;34m''\u001b[0m\u001b[0;34m)\u001b[0m\u001b[0;34m.\u001b[0m\u001b[0mastype\u001b[0m\u001b[0;34m(\u001b[0m\u001b[0mstr\u001b[0m\u001b[0;34m)\u001b[0m\u001b[0;34m.\u001b[0m\u001b[0mmap\u001b[0m\u001b[0;34m(\u001b[0m\u001b[0mpreprocess\u001b[0m\u001b[0;34m)\u001b[0m\u001b[0;34m\u001b[0m\u001b[0;34m\u001b[0m\u001b[0m\n\u001b[0m",
            "\u001b[0;31mNameError\u001b[0m: name 'preprocess' is not defined"
          ]
        }
      ]
    },
    {
      "cell_type": "code",
      "source": [
        "def preprocess(sentence):\n",
        "    sentence=str(sentence)\n",
        "    sentence = sentence.lower()\n",
        "    # print(sentence)\n",
        "    pat = r'[^a-zA-z0-9.,!?/:;\\\"\\'\\s]' \n",
        "    text = re.sub(pat, '', sentence)\n",
        "    text_2 = ''.join([c for c in text if c not in string.punctuation])\n",
        "    \n",
        "    # stemmer = nltk.porter.PorterStemmer()\n",
        "    # text_3 = ' '.join([stemmer.stem(word) for word in text_2.split()])\n",
        "\n",
        "    pattern = r'^\\s*|\\s\\s*'\n",
        "    text_4 = re.sub(pattern, ' ', text_2).strip()\n",
        "    \n",
        "    # tokenizer = RegexpTokenizer(r'\\w+')\n",
        "    # tokens = tokenizer.tokenize(text_4)  \n",
        "\n",
        "    # filtered_words = [w for w in tokens if len(w) > 2 if not w in stopwords.words('english')]\n",
        "\n",
        "    # stem_words=[stemmer.stem(w) for w in filtered_words]\n",
        "\n",
        "    # lemma_words=[lemmatizer.lemmatize(w) for w in stem_words]\n",
        "\n",
        "\n",
        "    # print('COMPLETED: ==> '+(\" \".join(filtered_words))[:150])\n",
        "\n",
        "    # return \" \".join(filtered_words)\n",
        "    return text_4"
      ],
      "metadata": {
        "id": "S9OT8z96n0Nn"
      },
      "execution_count": 16,
      "outputs": []
    },
    {
      "cell_type": "code",
      "source": [
        "start_time = time.time()\n",
        "df['item1a']=df['item1a'].map(lambda s:preprocess(s)) \n",
        "print(\"--- %s hrs ---\" % ((time.time() - start_time) / 3600))"
      ],
      "metadata": {
        "colab": {
          "base_uri": "https://localhost:8080/"
        },
        "id": "ouyI3zx3oe8o",
        "outputId": "d8ad55e0-237d-4516-ec7a-829e80ab127a"
      },
      "execution_count": 21,
      "outputs": [
        {
          "output_type": "stream",
          "name": "stdout",
          "text": [
            "--- 0.18445425079928504 hrs ---\n"
          ]
        }
      ]
    },
    {
      "cell_type": "code",
      "source": [
        "df.drop(['cleanText'], axis=1, inplace=True)"
      ],
      "metadata": {
        "id": "8tsL_mwtz4Qo"
      },
      "execution_count": 23,
      "outputs": []
    },
    {
      "cell_type": "code",
      "source": [
        "df.head()"
      ],
      "metadata": {
        "colab": {
          "base_uri": "https://localhost:8080/",
          "height": 206
        },
        "id": "wS-wHNbk0E7F",
        "outputId": "b037d940-c0ce-44a6-9a84-4472cdff5c67"
      },
      "execution_count": 24,
      "outputs": [
        {
          "output_type": "execute_result",
          "data": {
            "text/plain": [
              "                                              item1a      cik        date  \\\n",
              "0  item 1a risk factors you should carefully revi...  1313275  2018-02-28   \n",
              "1  item 1a risk factors you should carefully revi...  1313275  2017-02-21   \n",
              "2  item 1a risk factors you should carefully cons...  1313275  2014-03-11   \n",
              "3  item 1a risk factors you should carefully cons...  1313275  2013-03-05   \n",
              "4                            item 1a risk factors 10  1313275  2015-03-05   \n",
              "\n",
              "  ticker  \n",
              "0   BCOV  \n",
              "1   BCOV  \n",
              "2   BCOV  \n",
              "3   BCOV  \n",
              "4   BCOV  "
            ],
            "text/html": [
              "\n",
              "  <div id=\"df-e4052f5b-efb6-4573-a803-1085c4302f28\">\n",
              "    <div class=\"colab-df-container\">\n",
              "      <div>\n",
              "<style scoped>\n",
              "    .dataframe tbody tr th:only-of-type {\n",
              "        vertical-align: middle;\n",
              "    }\n",
              "\n",
              "    .dataframe tbody tr th {\n",
              "        vertical-align: top;\n",
              "    }\n",
              "\n",
              "    .dataframe thead th {\n",
              "        text-align: right;\n",
              "    }\n",
              "</style>\n",
              "<table border=\"1\" class=\"dataframe\">\n",
              "  <thead>\n",
              "    <tr style=\"text-align: right;\">\n",
              "      <th></th>\n",
              "      <th>item1a</th>\n",
              "      <th>cik</th>\n",
              "      <th>date</th>\n",
              "      <th>ticker</th>\n",
              "    </tr>\n",
              "  </thead>\n",
              "  <tbody>\n",
              "    <tr>\n",
              "      <th>0</th>\n",
              "      <td>item 1a risk factors you should carefully revi...</td>\n",
              "      <td>1313275</td>\n",
              "      <td>2018-02-28</td>\n",
              "      <td>BCOV</td>\n",
              "    </tr>\n",
              "    <tr>\n",
              "      <th>1</th>\n",
              "      <td>item 1a risk factors you should carefully revi...</td>\n",
              "      <td>1313275</td>\n",
              "      <td>2017-02-21</td>\n",
              "      <td>BCOV</td>\n",
              "    </tr>\n",
              "    <tr>\n",
              "      <th>2</th>\n",
              "      <td>item 1a risk factors you should carefully cons...</td>\n",
              "      <td>1313275</td>\n",
              "      <td>2014-03-11</td>\n",
              "      <td>BCOV</td>\n",
              "    </tr>\n",
              "    <tr>\n",
              "      <th>3</th>\n",
              "      <td>item 1a risk factors you should carefully cons...</td>\n",
              "      <td>1313275</td>\n",
              "      <td>2013-03-05</td>\n",
              "      <td>BCOV</td>\n",
              "    </tr>\n",
              "    <tr>\n",
              "      <th>4</th>\n",
              "      <td>item 1a risk factors 10</td>\n",
              "      <td>1313275</td>\n",
              "      <td>2015-03-05</td>\n",
              "      <td>BCOV</td>\n",
              "    </tr>\n",
              "  </tbody>\n",
              "</table>\n",
              "</div>\n",
              "      <button class=\"colab-df-convert\" onclick=\"convertToInteractive('df-e4052f5b-efb6-4573-a803-1085c4302f28')\"\n",
              "              title=\"Convert this dataframe to an interactive table.\"\n",
              "              style=\"display:none;\">\n",
              "        \n",
              "  <svg xmlns=\"http://www.w3.org/2000/svg\" height=\"24px\"viewBox=\"0 0 24 24\"\n",
              "       width=\"24px\">\n",
              "    <path d=\"M0 0h24v24H0V0z\" fill=\"none\"/>\n",
              "    <path d=\"M18.56 5.44l.94 2.06.94-2.06 2.06-.94-2.06-.94-.94-2.06-.94 2.06-2.06.94zm-11 1L8.5 8.5l.94-2.06 2.06-.94-2.06-.94L8.5 2.5l-.94 2.06-2.06.94zm10 10l.94 2.06.94-2.06 2.06-.94-2.06-.94-.94-2.06-.94 2.06-2.06.94z\"/><path d=\"M17.41 7.96l-1.37-1.37c-.4-.4-.92-.59-1.43-.59-.52 0-1.04.2-1.43.59L10.3 9.45l-7.72 7.72c-.78.78-.78 2.05 0 2.83L4 21.41c.39.39.9.59 1.41.59.51 0 1.02-.2 1.41-.59l7.78-7.78 2.81-2.81c.8-.78.8-2.07 0-2.86zM5.41 20L4 18.59l7.72-7.72 1.47 1.35L5.41 20z\"/>\n",
              "  </svg>\n",
              "      </button>\n",
              "      \n",
              "  <style>\n",
              "    .colab-df-container {\n",
              "      display:flex;\n",
              "      flex-wrap:wrap;\n",
              "      gap: 12px;\n",
              "    }\n",
              "\n",
              "    .colab-df-convert {\n",
              "      background-color: #E8F0FE;\n",
              "      border: none;\n",
              "      border-radius: 50%;\n",
              "      cursor: pointer;\n",
              "      display: none;\n",
              "      fill: #1967D2;\n",
              "      height: 32px;\n",
              "      padding: 0 0 0 0;\n",
              "      width: 32px;\n",
              "    }\n",
              "\n",
              "    .colab-df-convert:hover {\n",
              "      background-color: #E2EBFA;\n",
              "      box-shadow: 0px 1px 2px rgba(60, 64, 67, 0.3), 0px 1px 3px 1px rgba(60, 64, 67, 0.15);\n",
              "      fill: #174EA6;\n",
              "    }\n",
              "\n",
              "    [theme=dark] .colab-df-convert {\n",
              "      background-color: #3B4455;\n",
              "      fill: #D2E3FC;\n",
              "    }\n",
              "\n",
              "    [theme=dark] .colab-df-convert:hover {\n",
              "      background-color: #434B5C;\n",
              "      box-shadow: 0px 1px 3px 1px rgba(0, 0, 0, 0.15);\n",
              "      filter: drop-shadow(0px 1px 2px rgba(0, 0, 0, 0.3));\n",
              "      fill: #FFFFFF;\n",
              "    }\n",
              "  </style>\n",
              "\n",
              "      <script>\n",
              "        const buttonEl =\n",
              "          document.querySelector('#df-e4052f5b-efb6-4573-a803-1085c4302f28 button.colab-df-convert');\n",
              "        buttonEl.style.display =\n",
              "          google.colab.kernel.accessAllowed ? 'block' : 'none';\n",
              "\n",
              "        async function convertToInteractive(key) {\n",
              "          const element = document.querySelector('#df-e4052f5b-efb6-4573-a803-1085c4302f28');\n",
              "          const dataTable =\n",
              "            await google.colab.kernel.invokeFunction('convertToInteractive',\n",
              "                                                     [key], {});\n",
              "          if (!dataTable) return;\n",
              "\n",
              "          const docLinkHtml = 'Like what you see? Visit the ' +\n",
              "            '<a target=\"_blank\" href=https://colab.research.google.com/notebooks/data_table.ipynb>data table notebook</a>'\n",
              "            + ' to learn more about interactive tables.';\n",
              "          element.innerHTML = '';\n",
              "          dataTable['output_type'] = 'display_data';\n",
              "          await google.colab.output.renderOutput(dataTable, element);\n",
              "          const docLink = document.createElement('div');\n",
              "          docLink.innerHTML = docLinkHtml;\n",
              "          element.appendChild(docLink);\n",
              "        }\n",
              "      </script>\n",
              "    </div>\n",
              "  </div>\n",
              "  "
            ]
          },
          "metadata": {},
          "execution_count": 24
        }
      ]
    },
    {
      "cell_type": "code",
      "source": [
        "df.to_csv('/content/drive/MyDrive/amf_data/item1a_cleaned_new.csv', index=False, encoding='utf-8')"
      ],
      "metadata": {
        "id": "JmOVczxouWtk"
      },
      "execution_count": null,
      "outputs": []
    },
    {
      "cell_type": "code",
      "source": [
        "df.isnull().sum()"
      ],
      "metadata": {
        "colab": {
          "base_uri": "https://localhost:8080/"
        },
        "id": "VQmutiQPnO6C",
        "outputId": "966ddeb8-ae08-401d-d2bc-00ed2628366a"
      },
      "execution_count": 5,
      "outputs": [
        {
          "output_type": "execute_result",
          "data": {
            "text/plain": [
              "item1a       6590\n",
              "cik             0\n",
              "date            0\n",
              "ticker          0\n",
              "cleanText    6590\n",
              "dtype: int64"
            ]
          },
          "metadata": {},
          "execution_count": 5
        }
      ]
    },
    {
      "cell_type": "code",
      "source": [
        "# from tqdm import tqdm, trange"
      ],
      "metadata": {
        "id": "OA3DSjKFqNqt"
      },
      "execution_count": null,
      "outputs": []
    },
    {
      "cell_type": "code",
      "source": [
        "# start_time = time.time()\n",
        "# df['item7a']=df['item7a'].astype(str).map(lambda s:preprocess(s)) \n",
        "# print(\"--- %s hrs ---\" % ((time.time() - start_time) / 3600))"
      ],
      "metadata": {
        "colab": {
          "base_uri": "https://localhost:8080/"
        },
        "id": "xV7boCe0o6Vk",
        "outputId": "dddf1783-dbc0-4354-8764-7afeec5602df"
      },
      "execution_count": null,
      "outputs": [
        {
          "output_type": "stream",
          "name": "stdout",
          "text": [
            "--- 0.018812615010473464 hrs ---\n"
          ]
        }
      ]
    },
    {
      "cell_type": "code",
      "source": [
        "df.head()"
      ],
      "metadata": {
        "colab": {
          "base_uri": "https://localhost:8080/",
          "height": 206
        },
        "id": "pQ-O-WA3DohT",
        "outputId": "10789483-9d92-4687-cde1-f70cdb85f99e"
      },
      "execution_count": 8,
      "outputs": [
        {
          "output_type": "execute_result",
          "data": {
            "text/plain": [
              "       cik        date ticker  \\\n",
              "0  1313275  2018-02-28   BCOV   \n",
              "1  1313275  2017-02-21   BCOV   \n",
              "2  1313275  2014-03-11   BCOV   \n",
              "3  1313275  2013-03-05   BCOV   \n",
              "4  1313275  2015-03-05   BCOV   \n",
              "\n",
              "                                        cleanTextNew  \n",
              "0  item 1a risk factors you should carefully revi...  \n",
              "1  item 1a risk factors you should carefully revi...  \n",
              "2  item 1a risk factors you should carefully cons...  \n",
              "3  item 1a risk factors you should carefully cons...  \n",
              "4                            item 1a risk factors 10  "
            ],
            "text/html": [
              "\n",
              "  <div id=\"df-e75158c2-2c42-4245-81a8-04c3bab4a3ba\">\n",
              "    <div class=\"colab-df-container\">\n",
              "      <div>\n",
              "<style scoped>\n",
              "    .dataframe tbody tr th:only-of-type {\n",
              "        vertical-align: middle;\n",
              "    }\n",
              "\n",
              "    .dataframe tbody tr th {\n",
              "        vertical-align: top;\n",
              "    }\n",
              "\n",
              "    .dataframe thead th {\n",
              "        text-align: right;\n",
              "    }\n",
              "</style>\n",
              "<table border=\"1\" class=\"dataframe\">\n",
              "  <thead>\n",
              "    <tr style=\"text-align: right;\">\n",
              "      <th></th>\n",
              "      <th>cik</th>\n",
              "      <th>date</th>\n",
              "      <th>ticker</th>\n",
              "      <th>cleanTextNew</th>\n",
              "    </tr>\n",
              "  </thead>\n",
              "  <tbody>\n",
              "    <tr>\n",
              "      <th>0</th>\n",
              "      <td>1313275</td>\n",
              "      <td>2018-02-28</td>\n",
              "      <td>BCOV</td>\n",
              "      <td>item 1a risk factors you should carefully revi...</td>\n",
              "    </tr>\n",
              "    <tr>\n",
              "      <th>1</th>\n",
              "      <td>1313275</td>\n",
              "      <td>2017-02-21</td>\n",
              "      <td>BCOV</td>\n",
              "      <td>item 1a risk factors you should carefully revi...</td>\n",
              "    </tr>\n",
              "    <tr>\n",
              "      <th>2</th>\n",
              "      <td>1313275</td>\n",
              "      <td>2014-03-11</td>\n",
              "      <td>BCOV</td>\n",
              "      <td>item 1a risk factors you should carefully cons...</td>\n",
              "    </tr>\n",
              "    <tr>\n",
              "      <th>3</th>\n",
              "      <td>1313275</td>\n",
              "      <td>2013-03-05</td>\n",
              "      <td>BCOV</td>\n",
              "      <td>item 1a risk factors you should carefully cons...</td>\n",
              "    </tr>\n",
              "    <tr>\n",
              "      <th>4</th>\n",
              "      <td>1313275</td>\n",
              "      <td>2015-03-05</td>\n",
              "      <td>BCOV</td>\n",
              "      <td>item 1a risk factors 10</td>\n",
              "    </tr>\n",
              "  </tbody>\n",
              "</table>\n",
              "</div>\n",
              "      <button class=\"colab-df-convert\" onclick=\"convertToInteractive('df-e75158c2-2c42-4245-81a8-04c3bab4a3ba')\"\n",
              "              title=\"Convert this dataframe to an interactive table.\"\n",
              "              style=\"display:none;\">\n",
              "        \n",
              "  <svg xmlns=\"http://www.w3.org/2000/svg\" height=\"24px\"viewBox=\"0 0 24 24\"\n",
              "       width=\"24px\">\n",
              "    <path d=\"M0 0h24v24H0V0z\" fill=\"none\"/>\n",
              "    <path d=\"M18.56 5.44l.94 2.06.94-2.06 2.06-.94-2.06-.94-.94-2.06-.94 2.06-2.06.94zm-11 1L8.5 8.5l.94-2.06 2.06-.94-2.06-.94L8.5 2.5l-.94 2.06-2.06.94zm10 10l.94 2.06.94-2.06 2.06-.94-2.06-.94-.94-2.06-.94 2.06-2.06.94z\"/><path d=\"M17.41 7.96l-1.37-1.37c-.4-.4-.92-.59-1.43-.59-.52 0-1.04.2-1.43.59L10.3 9.45l-7.72 7.72c-.78.78-.78 2.05 0 2.83L4 21.41c.39.39.9.59 1.41.59.51 0 1.02-.2 1.41-.59l7.78-7.78 2.81-2.81c.8-.78.8-2.07 0-2.86zM5.41 20L4 18.59l7.72-7.72 1.47 1.35L5.41 20z\"/>\n",
              "  </svg>\n",
              "      </button>\n",
              "      \n",
              "  <style>\n",
              "    .colab-df-container {\n",
              "      display:flex;\n",
              "      flex-wrap:wrap;\n",
              "      gap: 12px;\n",
              "    }\n",
              "\n",
              "    .colab-df-convert {\n",
              "      background-color: #E8F0FE;\n",
              "      border: none;\n",
              "      border-radius: 50%;\n",
              "      cursor: pointer;\n",
              "      display: none;\n",
              "      fill: #1967D2;\n",
              "      height: 32px;\n",
              "      padding: 0 0 0 0;\n",
              "      width: 32px;\n",
              "    }\n",
              "\n",
              "    .colab-df-convert:hover {\n",
              "      background-color: #E2EBFA;\n",
              "      box-shadow: 0px 1px 2px rgba(60, 64, 67, 0.3), 0px 1px 3px 1px rgba(60, 64, 67, 0.15);\n",
              "      fill: #174EA6;\n",
              "    }\n",
              "\n",
              "    [theme=dark] .colab-df-convert {\n",
              "      background-color: #3B4455;\n",
              "      fill: #D2E3FC;\n",
              "    }\n",
              "\n",
              "    [theme=dark] .colab-df-convert:hover {\n",
              "      background-color: #434B5C;\n",
              "      box-shadow: 0px 1px 3px 1px rgba(0, 0, 0, 0.15);\n",
              "      filter: drop-shadow(0px 1px 2px rgba(0, 0, 0, 0.3));\n",
              "      fill: #FFFFFF;\n",
              "    }\n",
              "  </style>\n",
              "\n",
              "      <script>\n",
              "        const buttonEl =\n",
              "          document.querySelector('#df-e75158c2-2c42-4245-81a8-04c3bab4a3ba button.colab-df-convert');\n",
              "        buttonEl.style.display =\n",
              "          google.colab.kernel.accessAllowed ? 'block' : 'none';\n",
              "\n",
              "        async function convertToInteractive(key) {\n",
              "          const element = document.querySelector('#df-e75158c2-2c42-4245-81a8-04c3bab4a3ba');\n",
              "          const dataTable =\n",
              "            await google.colab.kernel.invokeFunction('convertToInteractive',\n",
              "                                                     [key], {});\n",
              "          if (!dataTable) return;\n",
              "\n",
              "          const docLinkHtml = 'Like what you see? Visit the ' +\n",
              "            '<a target=\"_blank\" href=https://colab.research.google.com/notebooks/data_table.ipynb>data table notebook</a>'\n",
              "            + ' to learn more about interactive tables.';\n",
              "          element.innerHTML = '';\n",
              "          dataTable['output_type'] = 'display_data';\n",
              "          await google.colab.output.renderOutput(dataTable, element);\n",
              "          const docLink = document.createElement('div');\n",
              "          docLink.innerHTML = docLinkHtml;\n",
              "          element.appendChild(docLink);\n",
              "        }\n",
              "      </script>\n",
              "    </div>\n",
              "  </div>\n",
              "  "
            ]
          },
          "metadata": {},
          "execution_count": 8
        }
      ]
    },
    {
      "cell_type": "code",
      "source": [
        "type(df['cleanText'].iloc[0])"
      ],
      "metadata": {
        "colab": {
          "base_uri": "https://localhost:8080/"
        },
        "id": "TgCe6d1T9q3f",
        "outputId": "47c47fee-f27d-4e4e-b8b4-4fa729c19217"
      },
      "execution_count": 13,
      "outputs": [
        {
          "output_type": "execute_result",
          "data": {
            "text/plain": [
              "str"
            ]
          },
          "metadata": {},
          "execution_count": 13
        }
      ]
    },
    {
      "cell_type": "code",
      "source": [
        "# df.item7a.astype(\"str\")\n",
        "# df['item7a']=df['item7a'].apply(pd.to_string, errors='coerce')\n",
        "# df['item7a'] = df.item7a.astype(\"str\")\n",
        "df['item1a'] = pd.Series(df['item1a'], dtype=\"string\")"
      ],
      "metadata": {
        "id": "jMXed3V99-jf"
      },
      "execution_count": 30,
      "outputs": []
    },
    {
      "cell_type": "code",
      "source": [
        "df['cleanTextNew'].iloc[0]"
      ],
      "metadata": {
        "colab": {
          "base_uri": "https://localhost:8080/",
          "height": 140
        },
        "id": "wvrY9gmB-B1a",
        "outputId": "1651334f-0702-4509-be87-d2d098bbc043"
      },
      "execution_count": 9,
      "outputs": [
        {
          "output_type": "execute_result",
          "data": {
            "text/plain": [
              "'item 1a risk factors you should carefully review the risk factors described below and those described in other reports we file with the securities and exchange commission as well as the other information contained in this annual report on form 10k in evaluating our business our business prospects financial condition or operating results could be harmed by any of these risks as well as other risks not currently known to us or that we currently consider immaterial if any of such risks and uncertainties actually occurs our business financial condition or operating results could differ materially from the plans projections and other forwardlooking statements included in the section titled managements discussion and analysis of financial condition and results of operations and elsewhere in this report and in our other public filings the trading price of our common stock could decline due to any of these risks and as a result you may lose all or part of your investment we have a history of losses we expect to continue to incur losses and we may not achieve or sustain profitability in the future we have incurred significant losses in each fiscal year since our inception in 2004 we experienced a consolidated net loss of 76 million for the year ended december 31 2015 a consolidated net loss of 100 million for the year ended december 31 2016 and a consolidated net loss of 195 million for the year ended december 31 2017 these losses were due to the substantial investments we made to build our products and services grow and maintain our business and acquire customers key elements of our growth strategy include acquiring new customers and continuing to innovate and build our brand as a result we expect our operating expenses to increase in the future due to expected increased sales and marketing expenses operations 13 table of contents costs research and development costs and general and administrative costs and therefore our operating losses will continue or even potentially increase for the foreseeable future in addition as a public company we incur significant legal accounting and other expenses that we did not incur as a private company furthermore to the extent that we are successful in increasing our customer base we will also incur increased expenses because costs associated with generating and supporting customer agreements are generally incurred up front while revenue is generally recognized ratably over the committed term of the agreement you should not rely upon our recent bookings or revenue growth as indicative of our future performance we cannot assure you that we will reach profitability in the future or at any specific time in the future or that if and when we do become profitable we will sustain profitability if we are ultimately unable to generate sufficient revenue to meet our financial targets become profitable and have sustainable positive cash flows investors could lose their investment substantially all of our revenue has historically come from a single product video cloud we have historically been substantially dependent on revenue from a single product video cloud and we expect that revenue from video cloud will continue to comprise a significant portion of our revenue our business would be harmed by a decline in the market for video cloud increased competition in the market for online video platforms or our failure or inability to provide sufficient investment to support video cloud as needed to maintain or grow its competitive position if we are unable to retain our existing customers our revenue and results of operations will be adversely affected we sell our products pursuant to agreements that are generally for annual terms our customers have no obligation to renew their subscriptions after their subscription period expires and we have experienced losses of customers that elected not to renew in some cases for reasons beyond our control for example our largest customer during 2016 faced distressing financial circumstances and as a result we lost substantially all of the revenue we expected to generate from this customer in 2017 in addition even if subscriptions are renewed they may not be renewed on the same or on more profitable terms as a result our ability to retain our existing customers and grow depends in part on subscription renewals we may not be able to accurately predict future trends in customer renewals and our customers renewal rates have and may continue to decline or fluctuate because of several factors including their satisfaction or dissatisfaction with our services the cost of our services and the cost of services offered by our competitors reductions in our customers spending levels or the introduction by competitors of attractive features and functionality if our customer retention rate decreases we may need to increase the rate at which we add new customers in order to maintain and grow our revenue which may require us to incur significantly higher advertising and marketing expenses than we currently anticipate or our revenue may decline if our customers do not renew their subscriptions for our services renew on less favorable terms or do not purchase additional functionality or subscriptions our revenue may grow more slowly than expected or decline and our profitability and gross margins may be harmed or affected our long term financial targets are predicated on bookings and revenue growth and operating margin improvements that we may fail to achieve which could reduce our expected earnings and cause us to fail to meet the expectations of analysts or investors and cause the price of our securities to decline we are projecting longterm bookings revenue and earnings growth our projections are based on the expected growth potential in our premium customer base as well as the market for ondemand software solutions generally we may not achieve the expected bookings and revenue growth if the markets we serve do not grow at expected rates if customers do not purchase or renew subscriptions as we expect andor if we are not able to deliver products desired by customers and potential customers our longterm operating margin improvement targets are predicated on operating leverage as long term revenue increases and improved operating efficiencies from moving to additional cloudbased delivery of services together with lower cost of goods sold research and development expenses and general and administrative expenses as a percentage of total revenue if operating margins do not improve our earnings could be adversely affected and the price of our securities could decline 14 table of contents the actual market for our solutions could be significantly smaller than our estimates of our total potential market opportunity and if customer demand for our services does not meet expectations our ability to generate revenue and meet our financial targets could be adversely affected while we expect strong growth in the markets for our products it is possible that the growth in some or all of these markets may not meet our expectations or materialize at all the methodology on which our estimate of our total potential market opportunity is based includes several key assumptions based on our industry knowledge and customer experience if any of these assumptions proves to be inaccurate then the actual market for our solutions could be significantly smaller than our estimates of our total potential market opportunity if the customer demand for our services or the adoption rate in our target markets does not meet our expectations our ability to generate revenue from customers and meet our financial targets could be adversely affected our business is substantially dependent upon the continued growth of the market for ondemand software solutions we derive and expect to continue to derive substantially all of our revenue from the sale of our ondemand solutions as a result widespread acceptance and use of the ondemand business model is critical to our future growth and success under the perpetual or periodic license model for software procurement users of the software would typically install and operate the applications on their hardware because many companies are generally predisposed to maintaining control of their information technology or it systems and infrastructure there may be resistance to the concept of accessing software as a service provided by a third party in addition the market for ondemand software solutions is still evolving and competitive dynamics may cause pricing levels to change as the market matures and as existing and new market participants introduce new types of solutions and different approaches to enable organizations to address their technology needs as a result we may be forced to reduce the prices we charge for our products and may be unable to renew existing customer agreements or enter into new customer agreements at the same prices and upon the same terms that we have historically if the market for ondemand software solutions fails to grow grows more slowly than we currently anticipate or evolves and forces us to reduce the prices we charge for our products our bookings growth revenue gross margin and other operating results could be materially adversely affected our operating results may fluctuate from quarter to quarter which could make them difficult to predict our quarterly operating results are tied to certain financial and operational metrics that have fluctuated in the past and may fluctuate significantly in the future as a result you should not rely upon our past quarterly operating results as indicators of future performance our operating results depend on numerous factors many of which are outside of our control in addition to the other risks described in this risk factors section the following risks could cause our operating results to fluctuate our ability to retain existing customers and attract new customers the rates at which our customers renew the amount of revenue generated from our customers use of our products or services in excess of their committed contractual entitlements the timing and amount of costs of new and existing marketing and advertising efforts the timing and amount of operating costs and capital expenditures relating to expansion of our business operations and infrastructure the cost and timing of the development and introduction of new product and service offerings by us or our competitors and system or service failures security breaches or network downtime 15 table of contents we have a relatively short operating history in a relatively new and rapidly developing market which makes it difficult to evaluate our business and future prospects our business has a relatively short operating history and the market for our products and services is relatively new and rapidly developing which makes it difficult to evaluate our business and future prospects we have been in existence since 2004 and much of our growth has occurred in recent periods we have encountered and will continue to encounter risks and difficulties frequently experienced by growing companies in rapidly changing industries including those related to market acceptance of our current and future products and services customer renewal rates our ability to compete with other companies that are currently in or may in the future enter the market for our products our ability to successfully expand our business especially internationally our ability to control costs including our operating expenses the amount and timing of operating expenses particularly sales and marketing expenses related to the maintenance and expansion of our business operations and infrastructure network outages or security breaches and any associated expenses foreign currency exchange rate fluctuations writedowns impairment charges or unforeseen liabilities in connection with acquisitions our ability to successfully manage acquisitions and general economic and political conditions in our domestic and international markets if we do not manage these risks successfully our business will be harmed our longterm success depends in part on our ability to expand the sales of our products to customers located outside of the united states and thus our business is susceptible to risks associated with international sales and operations we currently maintain offices and have sales personnel in australia france india japan singapore south korea spain the united arab emirates and the united kingdom and we intend to expand our international operations any international expansion efforts that we may undertake may not be successful in addition conducting international operations subjects us to new risks that we have not generally faced in the united states these risks include unexpected costs and errors in the localization of our products including translation into foreign languages and adaptation for local practices and regulatory requirements lack of familiarity with and burdens of complying with foreign laws legal standards regulatory requirements tariffs and other barriers unexpected changes in regulatory requirements taxes trade laws tariffs export quotas custom duties or other trade restrictions difficulties in managing systems integrators and technology partners differing technology standards longer accounts receivable payment cycles and difficulties in collecting accounts receivable difficulties in managing and staffing international operations and differing employeremployee relationships 16 table of contents fluctuations in exchange rates that may increase the volatility of our foreignbased revenue potentially adverse tax consequences including the complexities of foreign value added tax or other tax systems and restrictions on the repatriation of earnings uncertain political and economic climates and reduced or varied protection for intellectual property rights in some countries these factors may cause our costs of doing business in these geographies to exceed our comparable domestic costs operating in international markets also requires significant management attention and financial resources any negative impact from our international business efforts could negatively impact our business results of operations and financial condition as a whole we must keep up with rapid technological change to remain competitive in a rapidly evolving industry our markets are characterized by rapid technological change frequent new product and service introductions and evolving industry standards our future success will depend on our ability to adapt quickly to rapidly changing technologies to adapt our services and products to evolving industry standards and to improve the performance and reliability of our services and products to achieve market acceptance for our products we must effectively anticipate and offer products that meet changing customer demands in a timely manner customers may require features and functionality that our current products do not have if we fail to develop products that satisfy customer preferences in a timely and costeffective manner our ability to renew our contracts with existing customers and our ability to create or increase demand for our products will be harmed we may experience difficulties with software development industry standards design or marketing that could delay or prevent our development introduction or implementation of new products and enhancements the introduction of new products by competitors the emergence of new industry standards or the development of entirely new technologies to replace existing offerings could render our existing or future products obsolete if we are unable to successfully develop or acquire new features and functionality enhance our existing products to anticipate and meet customer requirements or sell our products into new markets our bookings growth revenue and results of operations will be adversely affected we face significant competition and may be unsuccessful against current and future competitors if we do not compete effectively our operating results and future growth could be harmed we compete with video sharing sites inhouse solutions online video platforms and certain niche technology providers as well as larger companies that offer multiple services including those that may be used as substitute services for our products competition is already intense in these markets and with the introduction of new technologies and market entrants we expect competition to further intensify in the future in addition some of our competitors may make acquisitions be acquired or enter into strategic relationships to offer a more comprehensive service than we do these combinations may make it more difficult for us to compete effectively we expect these trends to continue as competitors attempt to strengthen or maintain their market positions demand for our services is sensitive to price many factors including our advertising customer acquisition and technology costs commoditization of our products and services and our current and future competitors pricing and marketing strategies can significantly affect our pricing strategies there can be no assurance that we will not be forced to engage in pricecutting initiatives or to increase our advertising and other expenses to attract and retain customers in response to competitive pressures either of which could have a material adverse effect on our revenue operating results and resources we will likely encounter significant growing competition in our business from many sources including portals and digital media retailers search engines social networking and consumersharing services companies 17 table of contents broadband media distribution platforms technology suppliers direct broadcast satellite television service companies and digital and traditional cable systems many of our present and likely future competitors have substantially greater financial marketing technological and other resources than we do some of these companies may even choose to offer services competitive with ours at no cost as a strategy to attract or retain customers of their other services technological and commercial developments may lead to the increasing commoditization of our products and services including data delivery and storage further increasing downward pressure on the prices we can charge if we are unable to compete successfully with traditional and other emerging providers of competing services our business financial condition and results of operations could be adversely affected we depend on the experience and expertise of our executive officers senior management team and key technical employees and the loss of any key employee could have an adverse effect on our business financial condition and results of operations our success depends upon the continued service of our executive officers senior management team and key technical employees as well as our ability to continue to attract and retain additional highly qualified personnel each of our executive officers senior management team key technical personnel and other employees could terminate his or her relationship with us at any time the loss of any member of our senior management team or key personnel might significantly delay or prevent the achievement of our business objectives and could materially harm our business and our customer relationships in addition because of the nature of our business the loss of any significant number of our existing engineering project management and sales personnel could have an adverse effect on our business financial condition and results of operations our business and operations have experienced rapid growth and organizational change in recent periods which has placed and may continue to place significant demands on our management and infrastructure if we fail to manage our growth effectively and successfully recruit additional highlyqualified employees we may be unable to execute our business plan maintain high levels of service or address competitive challenges adequately we increased our number of fulltime employees from 413 as of december 31 2015 to 490 as of december 31 2016 and to 498 as of december 31 2017 and our revenue grew from 1347 million in 2015 to 1503 million in 2016 and to 1559 million in 2017 our headcount and operations have grown both domestically and internationally since our inception this growth has placed and will continue to place a significant strain on our management administrative operational and financial infrastructure we anticipate further growth will be required to address increases in our product and service offerings and continued international expansion our success will depend in part upon the ability of our senior management team to manage this growth effectively to do so we must continue to recruit hire train manage and integrate a significant number of qualified managers technical personnel and employees in specialized roles within our company including in technology sales and marketing if our new employees perform poorly or if we are unsuccessful in recruiting hiring training managing and integrating these new employees or retaining these or our existing employees our business may suffer in addition to manage the expected continued growth of our headcount operations and geographic expansion we will need to continue to improve our information technology infrastructure operational financial and management systems and procedures our expected additional headcount and capital investments will increase our costs which will make it more difficult for us to address any future revenue shortfalls by reducing expenses in the short term if we fail to successfully manage our growth we will be unable to successfully execute our business plan which could have a negative impact on our business financial condition or results of operations 18 table of contents potential future acquisitions could be difficult to integrate divert the attention of key personnel disrupt our business dilute stockholder value and impair our financial results as part of our business strategy we intend to consider acquisitions of companies technologies and products that we believe could accelerate our ability to compete in our core markets or allow us to enter new markets acquisitions involve numerous risks any of which could harm our business including difficulties in integrating the technologies products operations and existing contracts of a target company and realizing the anticipated benefits of the combined businesses difficulties in integrating the personnel of a target company difficulties in supporting and transitioning customers if any of a target company diversion of financial and management resources from existing operations the price we pay or other resources that we devote may exceed the value we realize or the value we could have realized if we had allocated the purchase price or other resources to another opportunity risks of entering new markets in which we have limited or no experience potential loss of key employees customers and strategic alliances from either our current business or a target companys business and inability to generate sufficient revenue to offset acquisition costs acquisitions also frequently result in the recording of goodwill and other intangible assets which are subject to potential impairments in the future that could harm our financial results in addition if we finance acquisitions by issuing equity securities our existing stockholders may be diluted as a result if we fail to properly evaluate acquisitions or investments we may not achieve the anticipated benefits of any such acquisitions and we may incur costs in excess of what we anticipate the failure to successfully evaluate and execute acquisitions or investments or otherwise adequately address these risks could materially harm our business and financial results we may experience delays in product and service development including delays beyond our control which could prevent us from achieving our growth objectives and hurt our business many of the problems delays and expenses we may encounter may be beyond our control such problems may include but are not limited to problems related to the technical development of our products and services problems with the infrastructure for the distribution and delivery of online media the competitive environment in which we operate marketing problems consumer and advertiser acceptance and costs and expenses that may exceed current estimates problems delays or expenses in any of these areas could have a negative impact on our business financial conditions or results of operations delays in the timely design development deployment and commercial operation of our product and service offerings and consequently the achievement of our revenue targets and positive cash flow could result from a variety of causes including many causes that are beyond our control such delays include but are not limited to delays in the integration of new offers into our existing offering changes to our products and services made to correct or enhance their features performance or marketability or in response to regulatory developments or otherwise delays encountered in the development integration or testing of our products and services and the infrastructure for the distribution and delivery of online media and other systems unsuccessful commercial launches of new products and services delays in our ability to obtain financing insufficient or ineffective marketing efforts and slowerthananticipated consumer acceptance of our products delays in any of these matters could hinder or prevent our achievement of our growth objectives and hurt our business there is no assurance that the current cost of internet connectivity and network access will not rise with the increasing popularity of online media services we rely on thirdparty service providers for our principal connections to the internet and network access and to deliver media to consumers as demand for online media increases there can be no assurance that internet 19 table of contents and network service providers will continue to price their network access services on reasonable terms the distribution of online media requires delivery of digital content files and providers of network access and distribution may change their business models and increase their prices significantly which could slow the widespread adoption of such services in order for our services to be successful there must be a reasonable price model in place to allow for the continuous distribution of digital media files we have limited or no control over the extent to which any of these circumstances may occur and if network access or distribution prices rise our business financial condition and results of operations would likely be adversely affected failure of our infrastructure for the distribution and delivery of online media could adversely affect our business our success as a business depends in large part on our ability to provide a consistently highquality digital experience to consumers via our relationships and infrastructure for the distribution and delivery of online media generally there is no guarantee that our relationships and infrastructure will not experience problems or other performance issues which could seriously impair the quality and reliability of our delivery of digital media to end users for example we primarily use three content delivery networks or cdns to deliver content to end users if one or more of these cdns were to experience sustained technical failures it could cause delays in our service and we could lose customers if we do not accurately predict our infrastructure capacity requirements our customers could experience service outages or service degradation that may subject us to financial penalties and liabilities and result in customer losses in the past we have on limited occasions suffered temporary interruptions of certain aspects of our service including our customers ability to upload new content into our system our customers ability to access administrative control of their accounts and our ability to deliver content to end users in certain geographic locations these service interruptions were the results of human error hardware and software failures or failures of thirdparty networks on a limited number of occasions these service interruptions have required us to provide service credits to customers we cannot guarantee that service interruptions will not occur again or predict the duration of interruptions of our service or the impact of such interruptions on our customers failures and interruptions of our service may impact our reputation result in our payment of compensation or service credits to our customers result in loss of customers and adversely affect our financial results and ability to grow our business in addition if our hosting infrastructure capacity fails to keep pace with increased sales or if our delivery capabilities fail customers may experience delays as we seek to obtain additional capacity or enable alternative delivery capability which could harm our reputation and adversely affect our revenue growth we may have difficulty scaling and adapting our existing infrastructure to accommodate increased traffic and storage technology advances or customer requirements in the future advances in technology increases in traffic and storage and new customer requirements may require us to change our infrastructure expand our infrastructure or replace our infrastructure entirely scaling and adapting our infrastructure is likely to be complex and require additional technical expertise if we are required to make any changes to our infrastructure we may incur substantial costs and experience delays or interruptions in our service these delays or interruptions may cause customers and partners to become dissatisfied with our service and move to competing service providers our failure to accommodate increased traffic and storage increased costs inefficiencies or failures to adapt to new technologies or customer requirements and the associated adjustments to our infrastructure could harm our business financial condition and results of operations we rely on software and services licensed from other parties the loss of software or services from third parties could increase our costs and limit the features available in our products and services components of our service and product offerings include various types of software and services licensed from unaffiliated parties if any of the software or services we license from others or functional equivalents thereof were either no longer available to us or no longer offered on commercially reasonable terms we would be 20 table of contents required to either redesign our services and products to function with software or services available from other parties or develop these components ourselves in either case the transition to a new service provider or an internallydeveloped solution could result in increased costs and could result in delays in our product launches and the release of new service and product offerings furthermore we might be forced to temporarily limit the features available in our current or future products and services if we fail to maintain or renegotiate any of these software or service licenses we could face significant delays and diversion of resources in attempting to license and integrate functional equivalents if our software products contain serious errors or defects then we may lose revenue and market acceptance and may incur costs to defend or settle claims complex software applications such as ours often contain errors or defects particularly when first introduced or when new versions or enhancements are released despite internal testing and testing by our customers our current and future products may contain serious defects which could result in lost revenue lost customers slower growth or a delay in market acceptance since our customers use our products for critical business applications such as online video errors defects or other performance problems could result in damage to our customers they could seek significant compensation from us for the losses they suffer although our customer agreements typically contain provisions designed to limit our exposure to claims existing or future laws or unfavorable judicial decisions could negate these limitations even if not successful a claim brought against us would likely be timeconsuming and costly and could seriously damage our reputation in the marketplace making it harder for us to sell our products unauthorized disclosure of data unauthorized access to our service and misuse of our service could adversely affect our business any security breaches unauthorized access unauthorized usage virus or similar breach or disruption could result in loss of confidential information personal data and customer content damage to our reputation early termination of our contracts litigation regulatory investigations increased costs or other liabilities if our security measures or those of our partners or service providers are breached as a result of thirdparty action employee error malfeasance or otherwise and as a result someone obtains unauthorized access to confidential information personal data or customer content our reputation will be damaged our business may suffer or we could incur significant liability if the measures we have put in place to limit or restrict access to and use of functionality usage entitlements and support for customers or prospective customers are breached circumvented or ineffective as a result of thirdparty action employee error malfeasance or otherwise and as a result someone obtains unauthorized access to and use of functionality usage entitlements and support our business may suffer or we could incur significant liability andor costs techniques used to obtain unauthorized access or use or to sabotage systems change frequently and generally are not recognized until launched against a target as a result we may be unable to anticipate these techniques or to implement adequate preventative measures if an actual or perceived security breach occurs the market perception of our security measures could be harmed and we could lose sales and customers any significant violations of data privacy or unauthorized disclosure of information could result in the loss of business litigation and regulatory investigations and penalties that could damage our reputation and adversely impact our results of operations and financial condition moreover if a security breach occurs with respect to another software as a service or saas provider our customers and potential customers may lose trust in the security of the saas business model generally which could adversely impact our ability to retain existing customers or attract new ones we use a limited number of data centers and cloud computing services facilities to deliver our services any disruption of service at these facilities could harm our business we manage our services and serve all of our customers from a limited number of thirdparty data center facilities and cloud computing services facilities while we control the actual computer and storage systems upon 21 table of contents which our software runs and deploy them to the data center facilities we do not control the operation of these facilities the owners of these facilities have no obligation to renew their agreements with us on commercially reasonable terms or at all if we are unable to renew these agreements on commercially reasonable terms we may be required to transfer to new facilities and we may incur significant costs and possible service interruption in connection with doing so any changes in thirdparty service levels at these facilities or any errors defects disruptions or other performance problems at or related to these facilities that affect our services could harm our reputation and may damage our customers businesses interruptions in our services might reduce our revenue cause us to issue credits to customers subject us to potential liability and cause customers to terminate their subscriptions or harm our renewal rates these facilities are vulnerable to damage or service interruption resulting from human error intentional bad acts security breaches earthquakes hurricanes floods fires war terrorist attacks power losses hardware failures systems failures telecommunications failures and similar events for example on september 18 2014 we suffered a service disruption resulting from a distributed denialofservice attack at thirdparty data center facilities used by us by september 20 2014 we had restored the services impacted by the attack we contacted federal law enforcement authorities regarding the denialofservice attack and cooperated with them we also conducted an assessment of our internet service providers and data center providers potential future vulnerability to malicious activity and the sufficiency of our infrastructure to withstand and recover rapidly from such attacks while this matter did not have a material adverse effect on our operating results there can be no assurance that such incidents will not occur again and they could occur more frequently and on a more significant scale the occurrence of a natural disaster or an act of terrorism or vandalism or other misconduct or a decision to close the facilities without adequate notice or other unanticipated problems could result in lengthy interruptions in our services our business may be adversely affected by thirdparty claims including by governmental bodies regarding the content and advertising distributed through our service we rely on our customers to secure the rights to redistribute content over the internet and we do not screen the content that is distributed through our service there is no assurance that our customers have licensed all rights necessary for distribution including internet distribution other parties may claim certain rights in the content of our customers in the event that our customers do not have the necessary distribution rights related to content we may be required to cease distributing such content or we may be subject to lawsuits and claims of damages for infringement of such rights if these claims arise with frequency the likelihood of our business being adversely affected would rise significantly in some cases we may have rights to indemnification or claims against our customers if they do not have appropriate distribution rights related to specific content items however there is no assurance that we would be successful in any such claim we operate an open publishing platform and do not screen the content that is distributed through our service content may be distributed through our platform that is illegal or unlawful under international federal state or local laws or the laws of other countries we may face lawsuits claims or even criminal charges for such distribution and we may be subject to civil regulatory or criminal sanctions and damages for such distribution any such claims or investigations could adversely affect our business financial condition and results of operations 22 table of contents we could incur substantial costs as a result of any claim of infringement of another partys intellectual property rights in recent years there has been significant litigation in the united states involving patents and other intellectual property rights companies providing internetrelated products and services are increasingly bringing and becoming subject to suits alleging infringement of proprietary rights particularly patent rights these risks have been amplified by the increase in third parties whose sole or primary business is to assert such claims some of whom have sent letters to andor filed suit alleging infringement against some of our customers from time to time third parties claim that we are infringing upon their intellectual property rights for information regarding these claims see part i item 3 legal proceedings we could incur substantial costs in prosecuting or defending any intellectual property litigation additionally the defense or prosecution of claims could be timeconsuming and could divert our managements attention away from the execution of our business plan moreover any settlement or adverse judgment resulting from a claim could require us to pay substantial amounts or obtain a license to continue to use the technology that is the subject of the claim or otherwise restrict or prohibit our use of the technology there can be no assurance that we would be able to obtain a license from the third party asserting the claim on commercially reasonable terms if at all that we would be able to develop alternative technology on a timely basis if at all or that we would be able to obtain a license to use a suitable alternative technology to permit us to continue offering and our customers to continue using our affected product or service in addition we may be required to indemnify our customers for thirdparty intellectual property infringement claims which would increase the cost to us an adverse determination could also prevent us from offering our products or services to others infringement claims asserted against us may have an adverse effect on our business financial condition and results of operations our agreements with customers often include contractual obligations to indemnify them against claims that our products infringe the intellectual property rights of third parties the results of any intellectual property litigation to which we might become a party or for which we are required to provide indemnification may force us to do one or more of the following cease selling or using products or services that incorporate the challenged intellectual property make substantial payments for costs or damages obtain a license which may not be available on reasonable terms to sell or use the relevant technology or redesign those products or services to avoid infringement if we are required to make substantial payments or undertake any of the other actions noted above as a result of any intellectual property infringement claims against us or any obligation to indemnify our customers for such claims such payments or costs could have a material adverse effect upon our business and financial results failure to adequately protect our intellectual property could substantially harm our business and operating results because our business depends substantially on our intellectual property the protection of our intellectual property rights is important to the success of our business we rely upon a combination of trademark patent trade secret and copyright law and contractual restrictions to protect our intellectual property these afford only limited protection despite our efforts to protect our property rights unauthorized parties may attempt to copy aspects of our products service software and functionality or obtain and use information that we consider proprietary moreover policing our proprietary rights is difficult and may not always be effective in addition we may need to enforce our rights under the laws of countries that do not protect proprietary rights to as great an extent as do the laws of the united states litigation or proceedings before the us patent and trademark office or other governmental authorities and administrative bodies in the united states and abroad may be necessary in the future to enforce our 23 table of contents intellectual property rights to protect our patent rights trade secrets trademarks and domain names and to determine the validity and scope of the proprietary rights of others such litigation or proceedings may be very costly and impact our financial performance we may also incur substantial costs defending against frivolous litigation or be asked to indemnify our customers against the same our efforts to enforce or protect our proprietary rights may prove to be ineffective and could result in substantial costs and diversion of resources and could substantially harm our operating results our exposure to risks associated with the use of intellectual property may increase as a result of acquisitions as we have less opportunity to have visibility into the development process with respect to acquired technology or the care taken to safeguard against infringement risks third parties may make infringement and similar or related claims after we have acquired technology that had not been asserted prior to our acquisition confidentiality agreements with employees and others may not adequately prevent disclosure of trade secrets and other proprietary information we have devoted substantial resources to the development of our technology business operations and business plans in order to protect our trade secrets and proprietary information we rely in significant part on confidentiality agreements with our employees licensees independent contractors advisers and customers these agreements may not be effective to prevent disclosure of confidential information including trade secrets and may not provide an adequate remedy in the event of unauthorized disclosure of confidential information in addition others may independently discover trade secrets and proprietary information and in such cases we would not be able to assert trade secret rights against such parties to the extent that our employees and others with whom we do business use intellectual property owned by others in their work for us disputes may arise as to the rights in related or resulting knowhow and inventions laws regarding trade secret rights in certain markets in which we operate may afford little or no protection to our trade secrets the loss of trade secret protection could make it easier for third parties to compete with our products by copying functionality in addition any changes in or unexpected interpretations of the trade secret and other intellectual property laws in any country in which we operate may compromise our ability to enforce our trade secret and intellectual property rights costly and timeconsuming litigation could be necessary to enforce and determine the scope of our proprietary rights and failure to obtain or maintain trade secret protection could adversely affect our competitive business position our use of open source software could negatively affect our ability to sell our services and subject us to possible litigation a portion of the technology licensed by us incorporates open source software and we may incorporate open source software in the future such open source software is generally licensed by its authors or other third parties under open source licenses if we fail to comply with these licenses we may be subject to certain conditions including requirements that we offer our services that incorporate the open source software for no cost that we make available source code for modifications or derivative works we create based upon incorporating or using the open source software and that we license such modifications or alterations under the terms of the particular open source license if an author or other third party that distributes such open source software were to allege that we had not complied with the conditions of one or more of these licenses we could be required to incur significant legal expenses defending against such allegations and could be subject to significant damages enjoined from the sale of our services that contained the open source software and required to comply with the foregoing conditions which could disrupt the distribution and sale of some of our services fluctuations in the exchange rate of foreign currencies could result in currency translation losses we currently have foreign sales denominated in australian dollars british pound sterling euros japanese yen and new zealand dollars and may in the future have sales denominated in the currencies of additional countries in which we establish or have established sales offices in addition we incur a portion of our operating 24 table of contents expenses in british pound sterling euros japanese yen and to a lesser extent other foreign currencies any fluctuation in the exchange rate of these foreign currencies may negatively impact our business financial condition and operating results we have not previously engaged in foreign currency hedging if we decide to hedge our foreign currency exposure we may not be able to hedge effectively due to lack of experience unreasonable costs or illiquid markets we may be required to collect sales and use taxes on the services we sell in additional jurisdictions in the future which may decrease sales and we may be subject to liability for sales and use taxes and related interest and penalties on prior sales state and local taxing jurisdictions have differing rules and regulations governing sales and use taxes and these rules and regulations are subject to varying interpretations that may change over time in particular the applicability of sales and use taxes to our subscription services in various jurisdictions is unclear we cannot assure you that we will not be subject to sales and use taxes or related penalties for past sales in states where we presently believe sales and use taxes are not due we reserve estimated sales and use taxes in our financial statements but we cannot be certain that we have made sufficient reserves to cover all taxes that might be assessed if one or more taxing authorities determines that taxes should have but have not been paid with respect to our services we may be liable for past taxes in addition to being required to collect sales or similar taxes in respect of our services going forward liability for past taxes may also include substantial interest and penalty charges our client contracts typically provide that our clients must pay all applicable sales and similar taxes nevertheless clients may be reluctant to pay back taxes and may refuse responsibility for interest or penalties associated with those taxes or we may determine that it would not be feasible to seek reimbursement if we are required to collect and pay back taxes and the associated interest and penalties and if our clients do not reimburse us for all or a portion of these amounts we will incur unplanned expenses that may be substantial moreover imposition of such taxes on our services going forward will effectively increase the cost of such services to our clients and may adversely affect our ability to retain existing clients or to gain new clients in the areas in which such taxes are imposed government and industry regulation of the internet is evolving and could directly restrict our business or indirectly affect our business by limiting the growth of our markets unfavorable changes in government regulation or our failure to comply with regulations could harm our business and operating results federal state and foreign governments and agencies have adopted and could in the future adopt regulations covering issues such as user privacy content and taxation of products and services government regulations could limit the market for our products and services or impose burdensome requirements that render our business unprofitable our products enable our customers to collect manage and store a wide range of data the united states and various state governments have adopted or proposed limitations on the collection distribution and use of personal information several foreign jurisdictions including the european union and the united kingdom have adopted legislation including directives or regulations that increase or change the requirements governing data collection and storage in these jurisdictions if our privacy or data security measures fail to comply with current or future laws and regulations we may be subject to litigation regulatory investigations or other liabilities or our customers may terminate their relationships with us in addition although many regulations might not apply to our business directly we expect that laws regulating the solicitation collection or processing of personal and consumer information could affect our customers ability to use and share data potentially reducing demand for our services the telecommunications act of 1996 and the european union data protection directive along with other similar laws and regulations prohibit certain types of information and content from being transmitted over the internet the scope of this prohibition and the liability associated with a violation are currently unsettled in addition although substantial portions of the communications decency act were held to be unconstitutional we cannot be certain that similar 25 table of contents legislation will not be enacted and upheld in the future legislation like the telecommunications act and the communications decency act could dampen the growth in web usage and decrease its acceptance as a medium of communications and commerce moreover if future laws and regulations limit our customers ability to use and share consumer data or our ability to store process and share data with our customers over the internet demand for our products could decrease our costs could increase and our results of operations and financial condition could be harmed in addition taxation of services provided over the internet or other charges imposed by government agencies or by private organizations for accessing the internet may be imposed any regulation imposing greater fees for internet use or restricting information exchange over the internet could result in a decline in the use of the internet and the viability of internetbased services which could harm our business and operating results our stock price has been volatile and is likely to be volatile in the future the market price of our common stock has been and is likely to be highly volatile and could be subject to significant fluctuations in response to among other things the risk factors described in this report and other factors beyond our control market prices for securities of early stage companies have historically been particularly volatile some but not all of the factors that may cause the market price of our common stock to fluctuate include fluctuations in our quarterly or annual financial results or the quarterly or annual financial results of companies perceived to be similar to us or relevant for our business changes in estimates of our financial results or recommendations by securities analysts failure of our products to achieve or maintain market acceptance changes in market valuations of similar or relevant companies success of competitive service offerings or technologies changes in our capital structure such as the issuance of securities or the incurrence of debt announcements by us or by our competitors of significant services contracts acquisitions or strategic alliances regulatory developments in the united states foreign countries or both litigation additions or departures of key personnel investors general perceptions and changes in general economic industry or market conditions in addition if the market for technology stocks or the stock market in general experiences a loss of investor confidence the trading price of our common stock could decline for reasons unrelated to our business financial condition or results of operations if any of the foregoing occurs it could cause our stock price to fall and may expose us to lawsuits that even if unsuccessful could be costly to defend and a distraction to management our business and operations could be adversely affected if we are subject to stockholder activism which could cause us to incur significant expense and impact the market price of our common stock in recent years proxy contests and other forms of stockholder activism have been directed against numerous public companies stockholder activism including potential proxy contests could result in substantial costs and divert the attention of our management and our board of directors and resources from our business activist 26 table of contents campaigns can create perceived uncertainties as to our future direction strategy or leadership and may result in the loss of potential business opportunities and harm our ability to attract new customers employees and investors in addition we may be required to incur significant legal fees and other expenses related to any activist stockholder matters further the market price of our common stock could be subject to significant fluctuation or otherwise be adversely affected by the events risks and uncertainties of any stockholder activism if securities or industry analysts do not publish or cease publishing research or reports about us our business or our market or if they adversely change their recommendations regarding our stock our stock price and trading volume could decline the trading market for our common stock will be influenced by research and reports that industry or security analysts may publish about us our business our market or our competitors if any of the analysts who may cover us adversely change their recommendations regarding our stock or provide more favorable relative recommendations about our competitors our stock price would likely decline if any analyst who may cover us were to cease coverage of our company or fail to regularly publish reports on us we could lose visibility in the financial markets which in turn could cause our stock price or trading volume to decline we are an emerging growth company and we cannot be certain if the reduced disclosure requirements applicable to emerging growth companies will make our common stock less attractive to investors we are an emerging growth company as defined in the jumpstart our business startups act of 2012 or the jobs act and we may take advantage of certain exemptions from various reporting requirements that are applicable to other public companies that are not emerging growth companies including but not limited to reduced disclosure obligations regarding executive compensation in our periodic reports and proxy statements and exemptions from the requirements of holding a nonbinding advisory vote on executive compensation and shareholder approval of any golden parachute payments not previously approved we cannot predict if investors will find our common stock less attractive because we may rely on these exemptions if some investors find our common stock less attractive as a result there may be a less active trading market for our common stock and our stock price may be more volatile we may take advantage of these reporting exemptions until we are no longer an emerging growth company in addition section 107 of the jobs act also provides that an emerging growth company can take advantage of the extended transition period provided in section 7a2b of the securities act for complying with new or revised accounting standards in other words an emerging growth company can delay the adoption of certain accounting standards until those standards would otherwise apply to private companies however we chose to opt out of such extended transition period and as a result we will comply with new or revised accounting standards on the relevant dates on which adoption of such standards is required for nonemerging growth companies section 107 of the jobs act provides that our decision to opt out of the extended transition period for complying with new or revised accounting standards is irrevocable we do not expect to declare any dividends in the foreseeable future we do not anticipate declaring any dividends to holders of our common stock in the foreseeable future consequently investors may need to rely on sales of their common stock after price appreciation which may never occur as the only way to realize any future gains on their investment investors seeking dividends should not purchase our common stock we may be unable to meet our future capital requirements which could limit our ability to grow we believe our existing cash and cash equivalents will be sufficient to meet our anticipated working capital and capital expenditure needs over at least the next 12 months we may however need or could elect to seek additional funding at any time to the extent that existing resources are insufficient to fund our business 27 table of contents operations our future activities for the expansion of our service and our product offerings developing and sustaining our relationships and infrastructure for the distribution and delivery of digital media online marketing and supporting our office facilities we may need to raise additional funds through equity or debt financing additional funds may not be available on terms favorable to us or our stockholders furthermore if we issue equity securities our stockholders may experience additional dilution or the new equity securities may have rights preferences and privileges senior to those of our existing classes of stock if we cannot raise funds on acceptable terms we may not be able to develop or enhance our products take advantage of future opportunities or respond to competitive pressures or unanticipated requirements failure to maintain effective internal control over financial reporting could result in our failure to accurately report our financial results any inability to report and file our financial results accurately and timely could harm our business and adversely impact investor confidence in our company and as a result the value of our common stock we are required to evaluate our internal control over financial reporting in connection with section 404 of the sarbanesoxley act and our independent registered public accounting firm is required to attest to the effectiveness of our internal control over financial reporting this assessment includes the disclosure of any material weaknesses in our internal control over financial reporting identified by our management as well as our independent registered public accounting firms attestation report on our internal control over financial reporting during the evaluation and testing process if we identify one or more material weaknesses in our internal control over financial reporting we will be unable to assert that our internal control over financial reporting is effective if we are unable to assert that our internal control over financial reporting is effective or if our independent registered public accounting firm is unable to express an opinion on the effectiveness of our internal control over financial reporting we could lose investor confidence in the accuracy and completeness of our financial reports which could have a material adverse effect on the price of our common stock antitakeover provisions contained in our amended and restated certificate of incorporation and amended and restated bylaws as well as provisions of delaware law could impair a takeover attempt our amended and restated certificate of incorporation and bylaws and delaware law contain provisions that could have the effect of rendering more difficult or discouraging an acquisition deemed undesirable by our board of directors our corporate governance documents include provisions authorizing blank check preferred stock which could be issued with voting liquidation dividend and other rights superior to our common stock limiting the liability of and providing indemnification to our directors and officers limiting the ability of our stockholders to call and bring business before special meetings and to take action by written consent in lieu of a meeting requiring advance notice of stockholder proposals for business to be conducted at meetings of our stockholders and for nominations of candidates for election to our board of directors controlling the procedures for the conduct and scheduling of board of directors and stockholder meetings providing our board of directors with the express power to postpone previously scheduled annual meetings and to cancel previously scheduled special meetings establishing a classified board of directors so that not all members of our board are selected at one time limiting the determination of the number of directors on our board of directors and the filling of vacancies or newly created seats on the board to our board of directors then in office and providing that directors may be removed by stockholders only for cause 28 table of contents these provisions alone or together could delay hostile takeovers and changes in control of our company or changes in our management as a delaware corporation we are also subject to provisions of delaware law including section 203 of the delaware general corporation law which prevents some stockholders holding more than 15 of our outstanding common stock from engaging in certain business combinations without approval of the holders of substantially all of our outstanding common stock any provision of our amended and restated certificate of incorporation or bylaws or delaware law that has the effect of delaying or deterring a change in control could limit the opportunity for our stockholders to receive a premium for their shares of our common stock and could also affect the price that some investors are willing to pay for our common stock we record substantial expenses related to our issuance of equity awards that may have a material adverse impact on our operating results for the foreseeable future we expect our stockbased compensation expenses will continue to be significant in future periods which will have an adverse impact on our operating results the model used by us requires the input of highly subjective assumptions including the price volatility of the options underlying stock if facts and circumstances change and we employ different assumptions for estimating stockbased compensation expense in future periods or if we decide to use a different valuation model the future period expenses may differ significantly from what we have recorded in the current period and could materially affect the fair value estimate of stockbased payments our operating income net income and net income per share failure of our customers to pay the amounts owed to us or to pay such amounts in a timely manner may adversely affect our financial condition and operating results if any of our significant customers have insufficient liquidity we could encounter significant delays or defaults in payments owed to us by such customers and we may need to extend our payment terms or restructure the receivables owed to us which could have a significant adverse effect on our financial condition including impacting the timing of revenue recognition any deterioration in the financial condition of our customers will increase the risk of uncollectible receivables global economic uncertainty could also affect our customers ability to pay our receivables in a timely manner or at all or result in customers going into bankruptcy or reorganization proceedings which could also affect our ability to collect our receivables if we do not successfully manage the transition associated with the resignation of our former chief executive officer ceo and the appointment of a new ceo it could be viewed negatively by our customers and shareholders and could have an adverse impact on our business david mendels resigned from his position as the companys ceo and resigned from the board effective july 24 2017 andrew feinberg formerly the companys president and chief operations officer is serving as the companys acting ceo the board has an active search process underway to select the next ceo from internal and external candidates such leadership transitions can be inherently difficult to manage and an inadequate transition of our ceo may cause disruption to our business including to our relationships with customers vendors and employees in addition if we are unable to attract and retain a qualified candidate to become our permanent ceo in a timely manner our ability to meet our financial and operational goals and strategic plans may be adversely impacted as well as our financial performance it may also make it more difficult to retain and hire key employees changes in interpretations of financial accounting standards may cause an adverse impact to our reported results of operations in may 2014 the financial accounting standards board issued new revenue recognition rules under accounting standards codification 606 revenue from contracts with customers or asc 606 which is effective 29 table of contents for interim and annual periods beginning after december 31 2017 we have elected to adopt the new standard effective january 1 2018 using the modified retrospective method in order to comply with the requirements of asc 606 on january 1 2018 we are continuing to update and enhance our internal accounting systems and our internal controls over financial reporting if we are not successful in updating our policies procedures information systems and internal controls over financial reporting the revenue that we recognize and the related disclosures that we provide under asc 606 may not be complete or accurate which could harm our operating results or cause us to fail to meet our reporting obligations the effect of comprehensive us tax reform legislation on the company and its affiliates whether adverse or favorable is uncertain on december 22 2017 president trump signed into law hr 1 an act to provide for reconciliation pursuant to titles ii and v of the concurrent resolution on the budget for fiscal year 2018 informally titled the tax cuts and jobs act among a number of significant changes to the us federal income tax rules the tax cuts and jobs act reduces the marginal us corporate income tax rate from 35 to 21 limits the deduction for net interest expense shifts the united states toward a more territorial tax system and imposes new taxes to combat erosion of the us federal income tax base the effect of the tax cuts and jobs act on the company and its affiliates whether adverse or favorable is uncertain and may not become evident for some period of time'"
            ],
            "application/vnd.google.colaboratory.intrinsic+json": {
              "type": "string"
            }
          },
          "metadata": {},
          "execution_count": 9
        }
      ]
    },
    {
      "cell_type": "code",
      "source": [
        "import numpy as np\n"
      ],
      "metadata": {
        "id": "kgbN8hIh_Vpp"
      },
      "execution_count": 11,
      "outputs": []
    },
    {
      "cell_type": "code",
      "source": [
        "df = pd.read_csv('/content/drive/MyDrive/amf_data/item1a_split1_cleaned.csv')"
      ],
      "metadata": {
        "id": "TRSGZwzVKBQm"
      },
      "execution_count": 9,
      "outputs": []
    },
    {
      "cell_type": "code",
      "source": [
        "df.item1a.iloc[0]"
      ],
      "metadata": {
        "colab": {
          "base_uri": "https://localhost:8080/",
          "height": 140
        },
        "id": "N1juApjkKYKn",
        "outputId": "b2d5eae0-affc-4dd2-8cfb-3d9909e1bdd4"
      },
      "execution_count": 12,
      "outputs": [
        {
          "output_type": "execute_result",
          "data": {
            "text/plain": [
              "'item risk factors carefully review risk factors described described reports file securities exchange commission well information contained annual report form 10k evaluating business business prospects financial condition operating results could harmed risks well risks currently known currently consider immaterial risks uncertainties actually occurs business financial condition operating results could differ materially plans projections forwardlooking statements included section titled managements discussion analysis financial condition results operations elsewhere report public filings trading price common stock could decline due risks result may lose part investment history losses expect continue incur losses may achieve sustain profitability future incurred significant losses fiscal year since inception 2004 experienced consolidated net loss million year ended december 2015 consolidated net loss 100 million year ended december 2016 consolidated net loss 195 million year ended december 2017 losses due substantial investments made build products services grow maintain business acquire customers key elements growth strategy include acquiring new customers continuing innovate build brand result expect operating expenses increase future due expected increased sales marketing expenses operations table contents costs research development costs general administrative costs therefore operating losses continue even potentially increase foreseeable future addition public company incur significant legal accounting expenses incur private company furthermore extent successful increasing customer base also incur increased expenses costs associated generating supporting customer agreements generally incurred front revenue generally recognized ratably committed term agreement rely upon recent bookings revenue growth indicative future performance cannot assure reach profitability future specific time future become profitable sustain profitability ultimately unable generate sufficient revenue meet financial targets become profitable sustainable positive cash flows investors could lose investment substantially revenue historically come single product video cloud historically substantially dependent revenue single product video cloud expect revenue video cloud continue comprise significant portion revenue business would harmed decline market video cloud increased competition market online video platforms failure inability provide sufficient investment support video cloud needed maintain grow competitive position unable retain existing customers revenue results operations adversely affected sell products pursuant agreements generally annual terms customers obligation renew subscriptions subscription period expires experienced losses customers elected renew cases reasons beyond control example largest customer 2016 faced distressing financial circumstances result lost substantially revenue expected generate customer 2017 addition even subscriptions renewed may renewed profitable terms result ability retain existing customers grow depends part subscription renewals may able accurately predict future trends customer renewals customers renewal rates may continue decline fluctuate several factors including satisfaction dissatisfaction services cost services cost services offered competitors reductions customers spending levels introduction competitors attractive features functionality customer retention rate decreases may need increase rate add new customers order maintain grow revenue may require incur significantly higher advertising marketing expenses currently anticipate revenue may decline customers renew subscriptions services renew less favorable terms purchase additional functionality subscriptions revenue may grow slowly expected decline profitability gross margins may harmed affected long term financial targets predicated bookings revenue growth operating margin improvements may fail achieve could reduce expected earnings cause fail meet expectations analysts investors cause price securities decline projecting longterm bookings revenue earnings growth projections based expected growth potential premium customer base well market ondemand software solutions generally may achieve expected bookings revenue growth markets serve grow expected rates customers purchase renew subscriptions expect andor able deliver products desired customers potential customers longterm operating margin improvement targets predicated operating leverage long term revenue increases improved operating efficiencies moving additional cloudbased delivery services together lower cost goods sold research development expenses general administrative expenses percentage total revenue operating margins improve earnings could adversely affected price securities could decline table contents actual market solutions could significantly smaller estimates total potential market opportunity customer demand services meet expectations ability generate revenue meet financial targets could adversely affected expect strong growth markets products possible growth markets may meet expectations materialize methodology estimate total potential market opportunity based includes several key assumptions based industry knowledge customer experience assumptions proves inaccurate actual market solutions could significantly smaller estimates total potential market opportunity customer demand services adoption rate target markets meet expectations ability generate revenue customers meet financial targets could adversely affected business substantially dependent upon continued growth market ondemand software solutions derive expect continue derive substantially revenue sale ondemand solutions result widespread acceptance use ondemand business model critical future growth success perpetual periodic license model software procurement users software would typically install operate applications hardware many companies generally predisposed maintaining control information technology systems infrastructure may resistance concept accessing software service provided third party addition market ondemand software solutions still evolving competitive dynamics may cause pricing levels change market matures existing new market participants introduce new types solutions different approaches enable organizations address technology needs result may forced reduce prices charge products may unable renew existing customer agreements enter new customer agreements prices upon terms historically market ondemand software solutions fails grow grows slowly currently anticipate evolves forces reduce prices charge products bookings growth revenue gross margin operating results could materially adversely affected operating results may fluctuate quarter quarter could make difficult predict quarterly operating results tied certain financial operational metrics fluctuated past may fluctuate significantly future result rely upon past quarterly operating results indicators future performance operating results depend numerous factors many outside control addition risks described risk factors section following risks could cause operating results fluctuate ability retain existing customers attract new customers rates customers renew amount revenue generated customers use products services excess committed contractual entitlements timing amount costs new existing marketing advertising efforts timing amount operating costs capital expenditures relating expansion business operations infrastructure cost timing development introduction new product service offerings competitors system service failures security breaches network downtime table contents relatively short operating history relatively new rapidly developing market makes difficult evaluate business future prospects business relatively short operating history market products services relatively new rapidly developing makes difficult evaluate business future prospects existence since 2004 much growth occurred recent periods encountered continue encounter risks difficulties frequently experienced growing companies rapidly changing industries including related market acceptance current future products services customer renewal rates ability compete companies currently may future enter market products ability successfully expand business especially internationally ability control costs including operating expenses amount timing operating expenses particularly sales marketing expenses related maintenance expansion business operations infrastructure network outages security breaches associated expenses foreign currency exchange rate fluctuations writedowns impairment charges unforeseen liabilities connection acquisitions ability successfully manage acquisitions general economic political conditions domestic international markets manage risks successfully business harmed longterm success depends part ability expand sales products customers located outside united states thus business susceptible risks associated international sales operations currently maintain offices sales personnel australia france india japan singapore south korea spain united arab emirates united kingdom intend expand international operations international expansion efforts may undertake may successful addition conducting international operations subjects new risks generally faced united states risks include unexpected costs errors localization products including translation foreign languages adaptation local practices regulatory requirements lack familiarity burdens complying foreign laws legal standards regulatory requirements tariffs barriers unexpected changes regulatory requirements taxes trade laws tariffs export quotas custom duties trade restrictions difficulties managing systems integrators technology partners differing technology standards longer accounts receivable payment cycles difficulties collecting accounts receivable difficulties managing staffing international operations differing employeremployee relationships table contents fluctuations exchange rates may increase volatility foreignbased revenue potentially adverse tax consequences including complexities foreign value added tax tax systems restrictions repatriation earnings uncertain political economic climates reduced varied protection intellectual property rights countries factors may cause costs business geographies exceed comparable domestic costs operating international markets also requires significant management attention financial resources negative impact international business efforts could negatively impact business results operations financial condition whole must keep rapid technological change remain competitive rapidly evolving industry markets characterized rapid technological change frequent new product service introductions evolving industry standards future success depend ability adapt quickly rapidly changing technologies adapt services products evolving industry standards improve performance reliability services products achieve market acceptance products must effectively anticipate offer products meet changing customer demands timely manner customers may require features functionality current products fail develop products satisfy customer preferences timely costeffective manner ability renew contracts existing customers ability create increase demand products harmed may experience difficulties software development industry standards design marketing could delay prevent development introduction implementation new products enhancements introduction new products competitors emergence new industry standards development entirely new technologies replace existing offerings could render existing future products obsolete unable successfully develop acquire new features functionality enhance existing products anticipate meet customer requirements sell products new markets bookings growth revenue results operations adversely affected face significant competition may unsuccessful current future competitors compete effectively operating results future growth could harmed compete video sharing sites inhouse solutions online video platforms certain niche technology providers well larger companies offer multiple services including may used substitute services products competition already intense markets introduction new technologies market entrants expect competition intensify future addition competitors may make acquisitions acquired enter strategic relationships offer comprehensive service combinations may make difficult compete effectively expect trends continue competitors attempt strengthen maintain market positions demand services sensitive price many factors including advertising customer acquisition technology costs commoditization products services current future competitors pricing marketing strategies significantly affect pricing strategies assurance forced engage pricecutting initiatives increase advertising expenses attract retain customers response competitive pressures either could material adverse effect revenue operating results resources likely encounter significant growing competition business many sources including portals digital media retailers search engines social networking consumersharing services companies table contents broadband media distribution platforms technology suppliers direct broadcast satellite television service companies digital traditional cable systems many present likely future competitors substantially greater financial marketing technological resources companies may even choose offer services competitive cost strategy attract retain customers services technological commercial developments may lead increasing commoditization products services including data delivery storage increasing downward pressure prices charge unable compete successfully traditional emerging providers competing services business financial condition results operations could adversely affected depend experience expertise executive officers senior management team key technical employees loss key employee could adverse effect business financial condition results operations success depends upon continued service executive officers senior management team key technical employees well ability continue attract retain additional highly qualified personnel executive officers senior management team key technical personnel employees could terminate relationship time loss member senior management team key personnel might significantly delay prevent achievement business objectives could materially harm business customer relationships addition nature business loss significant number existing engineering project management sales personnel could adverse effect business financial condition results operations business operations experienced rapid growth organizational change recent periods placed may continue place significant demands management infrastructure fail manage growth effectively successfully recruit additional highlyqualified employees may unable execute business plan maintain high levels service address competitive challenges adequately increased number fulltime employees 413 december 2015 490 december 2016 498 december 2017 revenue grew 1347 million 2015 1503 million 2016 1559 million 2017 headcount operations grown domestically internationally since inception growth placed continue place significant strain management administrative operational financial infrastructure anticipate growth required address increases product service offerings continued international expansion success depend part upon ability senior management team manage growth effectively must continue recruit hire train manage integrate significant number qualified managers technical personnel employees specialized roles within company including technology sales marketing new employees perform poorly unsuccessful recruiting hiring training managing integrating new employees retaining existing employees business may suffer addition manage expected continued growth headcount operations geographic expansion need continue improve information technology infrastructure operational financial management systems procedures expected additional headcount capital investments increase costs make difficult address future revenue shortfalls reducing expenses short term fail successfully manage growth unable successfully execute business plan could negative impact business financial condition results operations table contents potential future acquisitions could difficult integrate divert attention key personnel disrupt business dilute stockholder value impair financial results part business strategy intend consider acquisitions companies technologies products believe could accelerate ability compete core markets allow enter new markets acquisitions involve numerous risks could harm business including difficulties integrating technologies products operations existing contracts target company realizing anticipated benefits combined businesses difficulties integrating personnel target company difficulties supporting transitioning customers target company diversion financial management resources existing operations price pay resources devote may exceed value realize value could realized allocated purchase price resources another opportunity risks entering new markets limited experience potential loss key employees customers strategic alliances either current business target companys business inability generate sufficient revenue offset acquisition costs acquisitions also frequently result recording goodwill intangible assets subject potential impairments future could harm financial results addition finance acquisitions issuing equity securities existing stockholders may diluted result fail properly evaluate acquisitions investments may achieve anticipated benefits acquisitions may incur costs excess anticipate failure successfully evaluate execute acquisitions investments otherwise adequately address risks could materially harm business financial results may experience delays product service development including delays beyond control could prevent achieving growth objectives hurt business many problems delays expenses may encounter may beyond control problems may include limited problems related technical development products services problems infrastructure distribution delivery online media competitive environment operate marketing problems consumer advertiser acceptance costs expenses may exceed current estimates problems delays expenses areas could negative impact business financial conditions results operations delays timely design development deployment commercial operation product service offerings consequently achievement revenue targets positive cash flow could result variety causes including many causes beyond control delays include limited delays integration new offers existing offering changes products services made correct enhance features performance marketability response regulatory developments otherwise delays encountered development integration testing products services infrastructure distribution delivery online media systems unsuccessful commercial launches new products services delays ability obtain financing insufficient ineffective marketing efforts slowerthananticipated consumer acceptance products delays matters could hinder prevent achievement growth objectives hurt business assurance current cost internet connectivity network access rise increasing popularity online media services rely thirdparty service providers principal connections internet network access deliver media consumers demand online media increases assurance internet table contents network service providers continue price network access services reasonable terms distribution online media requires delivery digital content files providers network access distribution may change business models increase prices significantly could slow widespread adoption services order services successful must reasonable price model place allow continuous distribution digital media files limited control extent circumstances may occur network access distribution prices rise business financial condition results operations would likely adversely affected failure infrastructure distribution delivery online media could adversely affect business success business depends large part ability provide consistently highquality digital experience consumers via relationships infrastructure distribution delivery online media generally guarantee relationships infrastructure experience problems performance issues could seriously impair quality reliability delivery digital media end users example primarily use three content delivery networks cdns deliver content end users one cdns experience sustained technical failures could cause delays service could lose customers accurately predict infrastructure capacity requirements customers could experience service outages service degradation may subject financial penalties liabilities result customer losses past limited occasions suffered temporary interruptions certain aspects service including customers ability upload new content system customers ability access administrative control accounts ability deliver content end users certain geographic locations service interruptions results human error hardware software failures failures thirdparty networks limited number occasions service interruptions required provide service credits customers cannot guarantee service interruptions occur predict duration interruptions service impact interruptions customers failures interruptions service may impact reputation result payment compensation service credits customers result loss customers adversely affect financial results ability grow business addition hosting infrastructure capacity fails keep pace increased sales delivery capabilities fail customers may experience delays seek obtain additional capacity enable alternative delivery capability could harm reputation adversely affect revenue growth may difficulty scaling adapting existing infrastructure accommodate increased traffic storage technology advances customer requirements future advances technology increases traffic storage new customer requirements may require change infrastructure expand infrastructure replace infrastructure entirely scaling adapting infrastructure likely complex require additional technical expertise required make changes infrastructure may incur substantial costs experience delays interruptions service delays interruptions may cause customers partners become dissatisfied service move competing service providers failure accommodate increased traffic storage increased costs inefficiencies failures adapt new technologies customer requirements associated adjustments infrastructure could harm business financial condition results operations rely software services licensed parties loss software services third parties could increase costs limit features available products services components service product offerings include various types software services licensed unaffiliated parties software services license others functional equivalents thereof either longer available longer offered commercially reasonable terms would table contents required either redesign services products function software services available parties develop components either case transition new service provider internallydeveloped solution could result increased costs could result delays product launches release new service product offerings furthermore might forced temporarily limit features available current future products services fail maintain renegotiate software service licenses could face significant delays diversion resources attempting license integrate functional equivalents software products contain serious errors defects may lose revenue market acceptance may incur costs defend settle claims complex software applications often contain errors defects particularly first introduced new versions enhancements released despite internal testing testing customers current future products may contain serious defects could result lost revenue lost customers slower growth delay market acceptance since customers use products critical business applications online video errors defects performance problems could result damage customers could seek significant compensation losses suffer although customer agreements typically contain provisions designed limit exposure claims existing future laws unfavorable judicial decisions could negate limitations even successful claim brought would likely timeconsuming costly could seriously damage reputation marketplace making harder sell products unauthorized disclosure data unauthorized access service misuse service could adversely affect business security breaches unauthorized access unauthorized usage virus similar breach disruption could result loss confidential information personal data customer content damage reputation early termination contracts litigation regulatory investigations increased costs liabilities security measures partners service providers breached result thirdparty action employee error malfeasance otherwise result someone obtains unauthorized access confidential information personal data customer content reputation damaged business may suffer could incur significant liability measures put place limit restrict access use functionality usage entitlements support customers prospective customers breached circumvented ineffective result thirdparty action employee error malfeasance otherwise result someone obtains unauthorized access use functionality usage entitlements support business may suffer could incur significant liability andor costs techniques used obtain unauthorized access use sabotage systems change frequently generally recognized launched target result may unable anticipate techniques implement adequate preventative measures actual perceived security breach occurs market perception security measures could harmed could lose sales customers significant violations data privacy unauthorized disclosure information could result loss business litigation regulatory investigations penalties could damage reputation adversely impact results operations financial condition moreover security breach occurs respect another software service saas provider customers potential customers may lose trust security saas business model generally could adversely impact ability retain existing customers attract new ones use limited number data centers cloud computing services facilities deliver services disruption service facilities could harm business manage services serve customers limited number thirdparty data center facilities cloud computing services facilities control actual computer storage systems upon table contents software runs deploy data center facilities control operation facilities owners facilities obligation renew agreements commercially reasonable terms unable renew agreements commercially reasonable terms may required transfer new facilities may incur significant costs possible service interruption connection changes thirdparty service levels facilities errors defects disruptions performance problems related facilities affect services could harm reputation may damage customers businesses interruptions services might reduce revenue cause issue credits customers subject potential liability cause customers terminate subscriptions harm renewal rates facilities vulnerable damage service interruption resulting human error intentional bad acts security breaches earthquakes hurricanes floods fires war terrorist attacks power losses hardware failures systems failures telecommunications failures similar events example september 2014 suffered service disruption resulting distributed denialofservice attack thirdparty data center facilities used september 2014 restored services impacted attack contacted federal law enforcement authorities regarding denialofservice attack cooperated also conducted assessment internet service providers data center providers potential future vulnerability malicious activity sufficiency infrastructure withstand recover rapidly attacks matter material adverse effect operating results assurance incidents occur could occur frequently significant scale occurrence natural disaster act terrorism vandalism misconduct decision close facilities without adequate notice unanticipated problems could result lengthy interruptions services business may adversely affected thirdparty claims including governmental bodies regarding content advertising distributed service rely customers secure rights redistribute content internet screen content distributed service assurance customers licensed rights necessary distribution including internet distribution parties may claim certain rights content customers event customers necessary distribution rights related content may required cease distributing content may subject lawsuits claims damages infringement rights claims arise frequency likelihood business adversely affected would rise significantly cases may rights indemnification claims customers appropriate distribution rights related specific content items however assurance would successful claim operate open publishing platform screen content distributed service content may distributed platform illegal unlawful international federal state local laws laws countries may face lawsuits claims even criminal charges distribution may subject civil regulatory criminal sanctions damages distribution claims investigations could adversely affect business financial condition results operations table contents could incur substantial costs result claim infringement another partys intellectual property rights recent years significant litigation united states involving patents intellectual property rights companies providing internetrelated products services increasingly bringing becoming subject suits alleging infringement proprietary rights particularly patent rights risks amplified increase third parties whose sole primary business assert claims sent letters andor filed suit alleging infringement customers time time third parties claim infringing upon intellectual property rights information regarding claims see part item legal proceedings could incur substantial costs prosecuting defending intellectual property litigation additionally defense prosecution claims could timeconsuming could divert managements attention away execution business plan moreover settlement adverse judgment resulting claim could require pay substantial amounts obtain license continue use technology subject claim otherwise restrict prohibit use technology assurance would able obtain license third party asserting claim commercially reasonable terms would able develop alternative technology timely basis would able obtain license use suitable alternative technology permit continue offering customers continue using affected product service addition may required indemnify customers thirdparty intellectual property infringement claims would increase cost adverse determination could also prevent offering products services others infringement claims asserted may adverse effect business financial condition results operations agreements customers often include contractual obligations indemnify claims products infringe intellectual property rights third parties results intellectual property litigation might become party required provide indemnification may force one following cease selling using products services incorporate challenged intellectual property make substantial payments costs damages obtain license may available reasonable terms sell use relevant technology redesign products services avoid infringement required make substantial payments undertake actions noted result intellectual property infringement claims obligation indemnify customers claims payments costs could material adverse effect upon business financial results failure adequately protect intellectual property could substantially harm business operating results business depends substantially intellectual property protection intellectual property rights important success business rely upon combination trademark patent trade secret copyright law contractual restrictions protect intellectual property afford limited protection despite efforts protect property rights unauthorized parties may attempt copy aspects products service software functionality obtain use information consider proprietary moreover policing proprietary rights difficult may always effective addition may need enforce rights laws countries protect proprietary rights great extent laws united states litigation proceedings patent trademark office governmental authorities administrative bodies united states abroad may necessary future enforce table contents intellectual property rights protect patent rights trade secrets trademarks domain names determine validity scope proprietary rights others litigation proceedings may costly impact financial performance may also incur substantial costs defending frivolous litigation asked indemnify customers efforts enforce protect proprietary rights may prove ineffective could result substantial costs diversion resources could substantially harm operating results exposure risks associated use intellectual property may increase result acquisitions less opportunity visibility development process respect acquired technology care taken safeguard infringement risks third parties may make infringement similar related claims acquired technology asserted prior acquisition confidentiality agreements employees others may adequately prevent disclosure trade secrets proprietary information devoted substantial resources development technology business operations business plans order protect trade secrets proprietary information rely significant part confidentiality agreements employees licensees independent contractors advisers customers agreements may effective prevent disclosure confidential information including trade secrets may provide adequate remedy event unauthorized disclosure confidential information addition others may independently discover trade secrets proprietary information cases would able assert trade secret rights parties extent employees others business use intellectual property owned others work disputes may arise rights related resulting knowhow inventions laws regarding trade secret rights certain markets operate may afford little protection trade secrets loss trade secret protection could make easier third parties compete products copying functionality addition changes unexpected interpretations trade secret intellectual property laws country operate may compromise ability enforce trade secret intellectual property rights costly timeconsuming litigation could necessary enforce determine scope proprietary rights failure obtain maintain trade secret protection could adversely affect competitive business position use open source software could negatively affect ability sell services subject possible litigation portion technology licensed incorporates open source software may incorporate open source software future open source software generally licensed authors third parties open source licenses fail comply licenses may subject certain conditions including requirements offer services incorporate open source software cost make available source code modifications derivative works create based upon incorporating using open source software license modifications alterations terms particular open source license author third party distributes open source software allege complied conditions one licenses could required incur significant legal expenses defending allegations could subject significant damages enjoined sale services contained open source software required comply foregoing conditions could disrupt distribution sale services fluctuations exchange rate foreign currencies could result currency translation losses currently foreign sales denominated australian dollars british pound sterling euros japanese yen new zealand dollars may future sales denominated currencies additional countries establish established sales offices addition incur portion operating table contents expenses british pound sterling euros japanese yen lesser extent foreign currencies fluctuation exchange rate foreign currencies may negatively impact business financial condition operating results previously engaged foreign currency hedging decide hedge foreign currency exposure may able hedge effectively due lack experience unreasonable costs illiquid markets may required collect sales use taxes services sell additional jurisdictions future may decrease sales may subject liability sales use taxes related interest penalties prior sales state local taxing jurisdictions differing rules regulations governing sales use taxes rules regulations subject varying interpretations may change time particular applicability sales use taxes subscription services various jurisdictions unclear cannot assure subject sales use taxes related penalties past sales states presently believe sales use taxes due reserve estimated sales use taxes financial statements cannot certain made sufficient reserves cover taxes might assessed one taxing authorities determines taxes paid respect services may liable past taxes addition required collect sales similar taxes respect services going forward liability past taxes may also include substantial interest penalty charges client contracts typically provide clients must pay applicable sales similar taxes nevertheless clients may reluctant pay back taxes may refuse responsibility interest penalties associated taxes may determine would feasible seek reimbursement required collect pay back taxes associated interest penalties clients reimburse portion amounts incur unplanned expenses may substantial moreover imposition taxes services going forward effectively increase cost services clients may adversely affect ability retain existing clients gain new clients areas taxes imposed government industry regulation internet evolving could directly restrict business indirectly affect business limiting growth markets unfavorable changes government regulation failure comply regulations could harm business operating results federal state foreign governments agencies adopted could future adopt regulations covering issues user privacy content taxation products services government regulations could limit market products services impose burdensome requirements render business unprofitable products enable customers collect manage store wide range data united states various state governments adopted proposed limitations collection distribution use personal information several foreign jurisdictions including european union united kingdom adopted legislation including directives regulations increase change requirements governing data collection storage jurisdictions privacy data security measures fail comply current future laws regulations may subject litigation regulatory investigations liabilities customers may terminate relationships addition although many regulations might apply business directly expect laws regulating solicitation collection processing personal consumer information could affect customers ability use share data potentially reducing demand services telecommunications act 1996 european union data protection directive along similar laws regulations prohibit certain types information content transmitted internet scope prohibition liability associated violation currently unsettled addition although substantial portions communications decency act held unconstitutional cannot certain similar table contents legislation enacted upheld future legislation like telecommunications act communications decency act could dampen growth web usage decrease acceptance medium communications commerce moreover future laws regulations limit customers ability use share consumer data ability store process share data customers internet demand products could decrease costs could increase results operations financial condition could harmed addition taxation services provided internet charges imposed government agencies private organizations accessing internet may imposed regulation imposing greater fees internet use restricting information exchange internet could result decline use internet viability internetbased services could harm business operating results stock price volatile likely volatile future market price common stock likely highly volatile could subject significant fluctuations response among things risk factors described report factors beyond control market prices securities early stage companies historically particularly volatile factors may cause market price common stock fluctuate include fluctuations quarterly annual financial results quarterly annual financial results companies perceived similar relevant business changes estimates financial results recommendations securities analysts failure products achieve maintain market acceptance changes market valuations similar relevant companies success competitive service offerings technologies changes capital structure issuance securities incurrence debt announcements competitors significant services contracts acquisitions strategic alliances regulatory developments united states foreign countries litigation additions departures key personnel investors general perceptions changes general economic industry market conditions addition market technology stocks stock market general experiences loss investor confidence trading price common stock could decline reasons unrelated business financial condition results operations foregoing occurs could cause stock price fall may expose lawsuits even unsuccessful could costly defend distraction management business operations could adversely affected subject stockholder activism could cause incur significant expense impact market price common stock recent years proxy contests forms stockholder activism directed numerous public companies stockholder activism including potential proxy contests could result substantial costs divert attention management board directors resources business activist table contents campaigns create perceived uncertainties future direction strategy leadership may result loss potential business opportunities harm ability attract new customers employees investors addition may required incur significant legal fees expenses related activist stockholder matters market price common stock could subject significant fluctuation otherwise adversely affected events risks uncertainties stockholder activism securities industry analysts publish cease publishing research reports business market adversely change recommendations regarding stock stock price trading volume could decline trading market common stock influenced research reports industry security analysts may publish business market competitors analysts may cover adversely change recommendations regarding stock provide favorable relative recommendations competitors stock price would likely decline analyst may cover cease coverage company fail regularly publish reports could lose visibility financial markets turn could cause stock price trading volume decline emerging growth company cannot certain reduced disclosure requirements applicable emerging growth companies make common stock less attractive investors emerging growth company defined jumpstart business startups act 2012 jobs act may take advantage certain exemptions various reporting requirements applicable public companies emerging growth companies including limited reduced disclosure obligations regarding executive compensation periodic reports proxy statements exemptions requirements holding nonbinding advisory vote executive compensation shareholder approval golden parachute payments previously approved cannot predict investors find common stock less attractive may rely exemptions investors find common stock less attractive result may less active trading market common stock stock price may volatile may take advantage reporting exemptions longer emerging growth company addition section 107 jobs act also provides emerging growth company take advantage extended transition period provided section 7a2b securities act complying new revised accounting standards words emerging growth company delay adoption certain accounting standards standards would otherwise apply private companies however chose opt extended transition period result comply new revised accounting standards relevant dates adoption standards required nonemerging growth companies section 107 jobs act provides decision opt extended transition period complying new revised accounting standards irrevocable expect declare dividends foreseeable future anticipate declaring dividends holders common stock foreseeable future consequently investors may need rely sales common stock price appreciation may never occur way realize future gains investment investors seeking dividends purchase common stock may unable meet future capital requirements could limit ability grow believe existing cash cash equivalents sufficient meet anticipated working capital capital expenditure needs least next months may however need could elect seek additional funding time extent existing resources insufficient fund business table contents operations future activities expansion service product offerings developing sustaining relationships infrastructure distribution delivery digital media online marketing supporting office facilities may need raise additional funds equity debt financing additional funds may available terms favorable stockholders furthermore issue equity securities stockholders may experience additional dilution new equity securities may rights preferences privileges senior existing classes stock cannot raise funds acceptable terms may able develop enhance products take advantage future opportunities respond competitive pressures unanticipated requirements failure maintain effective internal control financial reporting could result failure accurately report financial results inability report file financial results accurately timely could harm business adversely impact investor confidence company result value common stock required evaluate internal control financial reporting connection section 404 sarbanesoxley act independent registered public accounting firm required attest effectiveness internal control financial reporting assessment includes disclosure material weaknesses internal control financial reporting identified management well independent registered public accounting firms attestation report internal control financial reporting evaluation testing process identify one material weaknesses internal control financial reporting unable assert internal control financial reporting effective unable assert internal control financial reporting effective independent registered public accounting firm unable express opinion effectiveness internal control financial reporting could lose investor confidence accuracy completeness financial reports could material adverse effect price common stock antitakeover provisions contained amended restated certificate incorporation amended restated bylaws well provisions delaware law could impair takeover attempt amended restated certificate incorporation bylaws delaware law contain provisions could effect rendering difficult discouraging acquisition deemed undesirable board directors corporate governance documents include provisions authorizing blank check preferred stock could issued voting liquidation dividend rights superior common stock limiting liability providing indemnification directors officers limiting ability stockholders call bring business special meetings take action written consent lieu meeting requiring advance notice stockholder proposals business conducted meetings stockholders nominations candidates election board directors controlling procedures conduct scheduling board directors stockholder meetings providing board directors express power postpone previously scheduled annual meetings cancel previously scheduled special meetings establishing classified board directors members board selected one time limiting determination number directors board directors filling vacancies newly created seats board board directors office providing directors may removed stockholders cause table contents provisions alone together could delay hostile takeovers changes control company changes management delaware corporation also subject provisions delaware law including section 203 delaware general corporation law prevents stockholders holding outstanding common stock engaging certain business combinations without approval holders substantially outstanding common stock provision amended restated certificate incorporation bylaws delaware law effect delaying deterring change control could limit opportunity stockholders receive premium shares common stock could also affect price investors willing pay common stock record substantial expenses related issuance equity awards may material adverse impact operating results foreseeable future expect stockbased compensation expenses continue significant future periods adverse impact operating results model used requires input highly subjective assumptions including price volatility options underlying stock facts circumstances change employ different assumptions estimating stockbased compensation expense future periods decide use different valuation model future period expenses may differ significantly recorded current period could materially affect fair value estimate stockbased payments operating income net income net income per share failure customers pay amounts owed pay amounts timely manner may adversely affect financial condition operating results significant customers insufficient liquidity could encounter significant delays defaults payments owed customers may need extend payment terms restructure receivables owed could significant adverse effect financial condition including impacting timing revenue recognition deterioration financial condition customers increase risk uncollectible receivables global economic uncertainty could also affect customers ability pay receivables timely manner result customers going bankruptcy reorganization proceedings could also affect ability collect receivables successfully manage transition associated resignation former chief executive officer ceo appointment new ceo could viewed negatively customers shareholders could adverse impact business david mendels resigned position companys ceo resigned board effective july 2017 andrew feinberg formerly companys president chief operations officer serving companys acting ceo board active search process underway select next ceo internal external candidates leadership transitions inherently difficult manage inadequate transition ceo may cause disruption business including relationships customers vendors employees addition unable attract retain qualified candidate become permanent ceo timely manner ability meet financial operational goals strategic plans may adversely impacted well financial performance may also make difficult retain hire key employees changes interpretations financial accounting standards may cause adverse impact reported results operations may 2014 financial accounting standards board issued new revenue recognition rules accounting standards codification 606 revenue contracts customers asc 606 effective table contents interim annual periods beginning december 2017 elected adopt new standard effective january 2018 using modified retrospective method order comply requirements asc 606 january 2018 continuing update enhance internal accounting systems internal controls financial reporting successful updating policies procedures information systems internal controls financial reporting revenue recognize related disclosures provide asc 606 may complete accurate could harm operating results cause fail meet reporting obligations effect comprehensive tax reform legislation company affiliates whether adverse favorable uncertain december 2017 president trump signed law act provide reconciliation pursuant titles concurrent resolution budget fiscal year 2018 informally titled tax cuts jobs act among number significant changes federal income tax rules tax cuts jobs act reduces marginal corporate income tax rate limits deduction net interest expense shifts united states toward territorial tax system imposes new taxes combat erosion federal income tax base effect tax cuts jobs act company affiliates whether adverse favorable uncertain may become evident period time'"
            ],
            "application/vnd.google.colaboratory.intrinsic+json": {
              "type": "string"
            }
          },
          "metadata": {},
          "execution_count": 12
        }
      ]
    },
    {
      "cell_type": "code",
      "source": [
        "dfs = np.array_split(df, 3)\n",
        "\n",
        "for index, df in enumerate(dfs):\n",
        "    df.to_csv(f'/content/drive/MyDrive/amf_data/i_s_{index+1}.csv')"
      ],
      "metadata": {
        "id": "658md2ck_Hn3"
      },
      "execution_count": 54,
      "outputs": []
    },
    {
      "cell_type": "code",
      "source": [
        "df_item1a_split_1 = pd.read_csv('/content/drive/MyDrive/amf_data/i_s_1.csv')\n",
        "# df_item1a_split_2 = pd.read_csv('/content/drive/MyDrive/amf_data/item1a_split_2.csv')"
      ],
      "metadata": {
        "id": "DoSHXd22BZnQ"
      },
      "execution_count": 2,
      "outputs": []
    },
    {
      "cell_type": "code",
      "source": [
        "df_item1a_split_1.head()"
      ],
      "metadata": {
        "colab": {
          "base_uri": "https://localhost:8080/",
          "height": 206
        },
        "id": "exK2DCxnBZlI",
        "outputId": "fc8143c2-79a8-4eaa-b6a1-31bcbe8bf9ae"
      },
      "execution_count": 112,
      "outputs": [
        {
          "output_type": "execute_result",
          "data": {
            "text/plain": [
              "   Unnamed: 0                                             item1a      cik  \\\n",
              "0           0  >Item 1A. Risk Factors You should carefully re...  1313275   \n",
              "1           1  >Item 1A. Risk Factors You should carefully re...  1313275   \n",
              "2           2  >Item 1A. Risk Factors You should carefully co...  1313275   \n",
              "3           3  >Item 1A. Risk Factors You should carefully co...  1313275   \n",
              "4           4                          >Item 1A. Risk Factors 10  1313275   \n",
              "\n",
              "         date ticker                                          cleanText  \n",
              "0  2018-02-28   BCOV  item risk factor care review risk factor descr...  \n",
              "1  2017-02-21   BCOV  item risk factor care review risk factor descr...  \n",
              "2  2014-03-11   BCOV  item risk factor care consid risk describ info...  \n",
              "3  2013-03-05   BCOV  item risk factor care consid risk describ info...  \n",
              "4  2015-03-05   BCOV                                   item risk factor  "
            ],
            "text/html": [
              "\n",
              "  <div id=\"df-597ee7ce-b370-439e-b597-d6146ea1ca6d\">\n",
              "    <div class=\"colab-df-container\">\n",
              "      <div>\n",
              "<style scoped>\n",
              "    .dataframe tbody tr th:only-of-type {\n",
              "        vertical-align: middle;\n",
              "    }\n",
              "\n",
              "    .dataframe tbody tr th {\n",
              "        vertical-align: top;\n",
              "    }\n",
              "\n",
              "    .dataframe thead th {\n",
              "        text-align: right;\n",
              "    }\n",
              "</style>\n",
              "<table border=\"1\" class=\"dataframe\">\n",
              "  <thead>\n",
              "    <tr style=\"text-align: right;\">\n",
              "      <th></th>\n",
              "      <th>Unnamed: 0</th>\n",
              "      <th>item1a</th>\n",
              "      <th>cik</th>\n",
              "      <th>date</th>\n",
              "      <th>ticker</th>\n",
              "      <th>cleanText</th>\n",
              "    </tr>\n",
              "  </thead>\n",
              "  <tbody>\n",
              "    <tr>\n",
              "      <th>0</th>\n",
              "      <td>0</td>\n",
              "      <td>&gt;Item 1A. Risk Factors You should carefully re...</td>\n",
              "      <td>1313275</td>\n",
              "      <td>2018-02-28</td>\n",
              "      <td>BCOV</td>\n",
              "      <td>item risk factor care review risk factor descr...</td>\n",
              "    </tr>\n",
              "    <tr>\n",
              "      <th>1</th>\n",
              "      <td>1</td>\n",
              "      <td>&gt;Item 1A. Risk Factors You should carefully re...</td>\n",
              "      <td>1313275</td>\n",
              "      <td>2017-02-21</td>\n",
              "      <td>BCOV</td>\n",
              "      <td>item risk factor care review risk factor descr...</td>\n",
              "    </tr>\n",
              "    <tr>\n",
              "      <th>2</th>\n",
              "      <td>2</td>\n",
              "      <td>&gt;Item 1A. Risk Factors You should carefully co...</td>\n",
              "      <td>1313275</td>\n",
              "      <td>2014-03-11</td>\n",
              "      <td>BCOV</td>\n",
              "      <td>item risk factor care consid risk describ info...</td>\n",
              "    </tr>\n",
              "    <tr>\n",
              "      <th>3</th>\n",
              "      <td>3</td>\n",
              "      <td>&gt;Item 1A. Risk Factors You should carefully co...</td>\n",
              "      <td>1313275</td>\n",
              "      <td>2013-03-05</td>\n",
              "      <td>BCOV</td>\n",
              "      <td>item risk factor care consid risk describ info...</td>\n",
              "    </tr>\n",
              "    <tr>\n",
              "      <th>4</th>\n",
              "      <td>4</td>\n",
              "      <td>&gt;Item 1A. Risk Factors 10</td>\n",
              "      <td>1313275</td>\n",
              "      <td>2015-03-05</td>\n",
              "      <td>BCOV</td>\n",
              "      <td>item risk factor</td>\n",
              "    </tr>\n",
              "  </tbody>\n",
              "</table>\n",
              "</div>\n",
              "      <button class=\"colab-df-convert\" onclick=\"convertToInteractive('df-597ee7ce-b370-439e-b597-d6146ea1ca6d')\"\n",
              "              title=\"Convert this dataframe to an interactive table.\"\n",
              "              style=\"display:none;\">\n",
              "        \n",
              "  <svg xmlns=\"http://www.w3.org/2000/svg\" height=\"24px\"viewBox=\"0 0 24 24\"\n",
              "       width=\"24px\">\n",
              "    <path d=\"M0 0h24v24H0V0z\" fill=\"none\"/>\n",
              "    <path d=\"M18.56 5.44l.94 2.06.94-2.06 2.06-.94-2.06-.94-.94-2.06-.94 2.06-2.06.94zm-11 1L8.5 8.5l.94-2.06 2.06-.94-2.06-.94L8.5 2.5l-.94 2.06-2.06.94zm10 10l.94 2.06.94-2.06 2.06-.94-2.06-.94-.94-2.06-.94 2.06-2.06.94z\"/><path d=\"M17.41 7.96l-1.37-1.37c-.4-.4-.92-.59-1.43-.59-.52 0-1.04.2-1.43.59L10.3 9.45l-7.72 7.72c-.78.78-.78 2.05 0 2.83L4 21.41c.39.39.9.59 1.41.59.51 0 1.02-.2 1.41-.59l7.78-7.78 2.81-2.81c.8-.78.8-2.07 0-2.86zM5.41 20L4 18.59l7.72-7.72 1.47 1.35L5.41 20z\"/>\n",
              "  </svg>\n",
              "      </button>\n",
              "      \n",
              "  <style>\n",
              "    .colab-df-container {\n",
              "      display:flex;\n",
              "      flex-wrap:wrap;\n",
              "      gap: 12px;\n",
              "    }\n",
              "\n",
              "    .colab-df-convert {\n",
              "      background-color: #E8F0FE;\n",
              "      border: none;\n",
              "      border-radius: 50%;\n",
              "      cursor: pointer;\n",
              "      display: none;\n",
              "      fill: #1967D2;\n",
              "      height: 32px;\n",
              "      padding: 0 0 0 0;\n",
              "      width: 32px;\n",
              "    }\n",
              "\n",
              "    .colab-df-convert:hover {\n",
              "      background-color: #E2EBFA;\n",
              "      box-shadow: 0px 1px 2px rgba(60, 64, 67, 0.3), 0px 1px 3px 1px rgba(60, 64, 67, 0.15);\n",
              "      fill: #174EA6;\n",
              "    }\n",
              "\n",
              "    [theme=dark] .colab-df-convert {\n",
              "      background-color: #3B4455;\n",
              "      fill: #D2E3FC;\n",
              "    }\n",
              "\n",
              "    [theme=dark] .colab-df-convert:hover {\n",
              "      background-color: #434B5C;\n",
              "      box-shadow: 0px 1px 3px 1px rgba(0, 0, 0, 0.15);\n",
              "      filter: drop-shadow(0px 1px 2px rgba(0, 0, 0, 0.3));\n",
              "      fill: #FFFFFF;\n",
              "    }\n",
              "  </style>\n",
              "\n",
              "      <script>\n",
              "        const buttonEl =\n",
              "          document.querySelector('#df-597ee7ce-b370-439e-b597-d6146ea1ca6d button.colab-df-convert');\n",
              "        buttonEl.style.display =\n",
              "          google.colab.kernel.accessAllowed ? 'block' : 'none';\n",
              "\n",
              "        async function convertToInteractive(key) {\n",
              "          const element = document.querySelector('#df-597ee7ce-b370-439e-b597-d6146ea1ca6d');\n",
              "          const dataTable =\n",
              "            await google.colab.kernel.invokeFunction('convertToInteractive',\n",
              "                                                     [key], {});\n",
              "          if (!dataTable) return;\n",
              "\n",
              "          const docLinkHtml = 'Like what you see? Visit the ' +\n",
              "            '<a target=\"_blank\" href=https://colab.research.google.com/notebooks/data_table.ipynb>data table notebook</a>'\n",
              "            + ' to learn more about interactive tables.';\n",
              "          element.innerHTML = '';\n",
              "          dataTable['output_type'] = 'display_data';\n",
              "          await google.colab.output.renderOutput(dataTable, element);\n",
              "          const docLink = document.createElement('div');\n",
              "          docLink.innerHTML = docLinkHtml;\n",
              "          element.appendChild(docLink);\n",
              "        }\n",
              "      </script>\n",
              "    </div>\n",
              "  </div>\n",
              "  "
            ]
          },
          "metadata": {},
          "execution_count": 112
        }
      ]
    },
    {
      "cell_type": "code",
      "source": [
        "df_item1a_split_1.isnull().sum()"
      ],
      "metadata": {
        "colab": {
          "base_uri": "https://localhost:8080/"
        },
        "id": "sabg7QPJBZgK",
        "outputId": "58742823-cc7a-4d22-bd45-c6a5e293d971"
      },
      "execution_count": 99,
      "outputs": [
        {
          "output_type": "execute_result",
          "data": {
            "text/plain": [
              "Unnamed: 0       0\n",
              "item1a        2212\n",
              "cik              0\n",
              "date             0\n",
              "ticker           0\n",
              "cleanText     2212\n",
              "dtype: int64"
            ]
          },
          "metadata": {},
          "execution_count": 99
        }
      ]
    },
    {
      "cell_type": "code",
      "source": [
        "df_item1a_split_1.dropna(inplace=True)"
      ],
      "metadata": {
        "id": "KqZK9HApNseS"
      },
      "execution_count": 3,
      "outputs": []
    },
    {
      "cell_type": "code",
      "source": [
        "df_item1a_split_1.isnull().sum()"
      ],
      "metadata": {
        "colab": {
          "base_uri": "https://localhost:8080/"
        },
        "id": "Bgh_lUWMP0xQ",
        "outputId": "ad21e7b2-c3ea-40f1-a735-a36c588836c8"
      },
      "execution_count": 114,
      "outputs": [
        {
          "output_type": "execute_result",
          "data": {
            "text/plain": [
              "Unnamed: 0    0\n",
              "item1a        0\n",
              "cik           0\n",
              "date          0\n",
              "ticker        0\n",
              "cleanText     0\n",
              "dtype: int64"
            ]
          },
          "metadata": {},
          "execution_count": 114
        }
      ]
    },
    {
      "cell_type": "code",
      "source": [
        "df_item1a_split_1.columns"
      ],
      "metadata": {
        "colab": {
          "base_uri": "https://localhost:8080/"
        },
        "id": "zaKS9NZjOjwU",
        "outputId": "e34bc09e-961c-419c-b015-410444ed0bd4"
      },
      "execution_count": 4,
      "outputs": [
        {
          "output_type": "execute_result",
          "data": {
            "text/plain": [
              "Index(['Unnamed: 0', 'item1a', 'cik', 'date', 'ticker', 'cleanText'], dtype='object')"
            ]
          },
          "metadata": {},
          "execution_count": 4
        }
      ]
    },
    {
      "cell_type": "code",
      "source": [
        "df_item1a_split_1.drop(['cleanText', 'Unnamed: 0'], axis=1, inplace=True)"
      ],
      "metadata": {
        "id": "fxAN07-wOJ8X"
      },
      "execution_count": 5,
      "outputs": []
    },
    {
      "cell_type": "code",
      "source": [
        ""
      ],
      "metadata": {
        "id": "8xIAyEuROtEU"
      },
      "execution_count": null,
      "outputs": []
    },
    {
      "cell_type": "code",
      "source": [
        "df_item1a_split_1.head()"
      ],
      "metadata": {
        "colab": {
          "base_uri": "https://localhost:8080/",
          "height": 206
        },
        "id": "Sb9YnAjaOYl0",
        "outputId": "1314af01-ea67-4356-fa13-8bb9e1a5ddc7"
      },
      "execution_count": 104,
      "outputs": [
        {
          "output_type": "execute_result",
          "data": {
            "text/plain": [
              "                                              item1a      cik        date  \\\n",
              "0  >Item 1A. Risk Factors You should carefully re...  1313275  2018-02-28   \n",
              "1  >Item 1A. Risk Factors You should carefully re...  1313275  2017-02-21   \n",
              "2  >Item 1A. Risk Factors You should carefully co...  1313275  2014-03-11   \n",
              "3  >Item 1A. Risk Factors You should carefully co...  1313275  2013-03-05   \n",
              "4                          >Item 1A. Risk Factors 10  1313275  2015-03-05   \n",
              "\n",
              "  ticker  \n",
              "0   BCOV  \n",
              "1   BCOV  \n",
              "2   BCOV  \n",
              "3   BCOV  \n",
              "4   BCOV  "
            ],
            "text/html": [
              "\n",
              "  <div id=\"df-77e7795e-5e97-406d-adac-5296d7394c46\">\n",
              "    <div class=\"colab-df-container\">\n",
              "      <div>\n",
              "<style scoped>\n",
              "    .dataframe tbody tr th:only-of-type {\n",
              "        vertical-align: middle;\n",
              "    }\n",
              "\n",
              "    .dataframe tbody tr th {\n",
              "        vertical-align: top;\n",
              "    }\n",
              "\n",
              "    .dataframe thead th {\n",
              "        text-align: right;\n",
              "    }\n",
              "</style>\n",
              "<table border=\"1\" class=\"dataframe\">\n",
              "  <thead>\n",
              "    <tr style=\"text-align: right;\">\n",
              "      <th></th>\n",
              "      <th>item1a</th>\n",
              "      <th>cik</th>\n",
              "      <th>date</th>\n",
              "      <th>ticker</th>\n",
              "    </tr>\n",
              "  </thead>\n",
              "  <tbody>\n",
              "    <tr>\n",
              "      <th>0</th>\n",
              "      <td>&gt;Item 1A. Risk Factors You should carefully re...</td>\n",
              "      <td>1313275</td>\n",
              "      <td>2018-02-28</td>\n",
              "      <td>BCOV</td>\n",
              "    </tr>\n",
              "    <tr>\n",
              "      <th>1</th>\n",
              "      <td>&gt;Item 1A. Risk Factors You should carefully re...</td>\n",
              "      <td>1313275</td>\n",
              "      <td>2017-02-21</td>\n",
              "      <td>BCOV</td>\n",
              "    </tr>\n",
              "    <tr>\n",
              "      <th>2</th>\n",
              "      <td>&gt;Item 1A. Risk Factors You should carefully co...</td>\n",
              "      <td>1313275</td>\n",
              "      <td>2014-03-11</td>\n",
              "      <td>BCOV</td>\n",
              "    </tr>\n",
              "    <tr>\n",
              "      <th>3</th>\n",
              "      <td>&gt;Item 1A. Risk Factors You should carefully co...</td>\n",
              "      <td>1313275</td>\n",
              "      <td>2013-03-05</td>\n",
              "      <td>BCOV</td>\n",
              "    </tr>\n",
              "    <tr>\n",
              "      <th>4</th>\n",
              "      <td>&gt;Item 1A. Risk Factors 10</td>\n",
              "      <td>1313275</td>\n",
              "      <td>2015-03-05</td>\n",
              "      <td>BCOV</td>\n",
              "    </tr>\n",
              "  </tbody>\n",
              "</table>\n",
              "</div>\n",
              "      <button class=\"colab-df-convert\" onclick=\"convertToInteractive('df-77e7795e-5e97-406d-adac-5296d7394c46')\"\n",
              "              title=\"Convert this dataframe to an interactive table.\"\n",
              "              style=\"display:none;\">\n",
              "        \n",
              "  <svg xmlns=\"http://www.w3.org/2000/svg\" height=\"24px\"viewBox=\"0 0 24 24\"\n",
              "       width=\"24px\">\n",
              "    <path d=\"M0 0h24v24H0V0z\" fill=\"none\"/>\n",
              "    <path d=\"M18.56 5.44l.94 2.06.94-2.06 2.06-.94-2.06-.94-.94-2.06-.94 2.06-2.06.94zm-11 1L8.5 8.5l.94-2.06 2.06-.94-2.06-.94L8.5 2.5l-.94 2.06-2.06.94zm10 10l.94 2.06.94-2.06 2.06-.94-2.06-.94-.94-2.06-.94 2.06-2.06.94z\"/><path d=\"M17.41 7.96l-1.37-1.37c-.4-.4-.92-.59-1.43-.59-.52 0-1.04.2-1.43.59L10.3 9.45l-7.72 7.72c-.78.78-.78 2.05 0 2.83L4 21.41c.39.39.9.59 1.41.59.51 0 1.02-.2 1.41-.59l7.78-7.78 2.81-2.81c.8-.78.8-2.07 0-2.86zM5.41 20L4 18.59l7.72-7.72 1.47 1.35L5.41 20z\"/>\n",
              "  </svg>\n",
              "      </button>\n",
              "      \n",
              "  <style>\n",
              "    .colab-df-container {\n",
              "      display:flex;\n",
              "      flex-wrap:wrap;\n",
              "      gap: 12px;\n",
              "    }\n",
              "\n",
              "    .colab-df-convert {\n",
              "      background-color: #E8F0FE;\n",
              "      border: none;\n",
              "      border-radius: 50%;\n",
              "      cursor: pointer;\n",
              "      display: none;\n",
              "      fill: #1967D2;\n",
              "      height: 32px;\n",
              "      padding: 0 0 0 0;\n",
              "      width: 32px;\n",
              "    }\n",
              "\n",
              "    .colab-df-convert:hover {\n",
              "      background-color: #E2EBFA;\n",
              "      box-shadow: 0px 1px 2px rgba(60, 64, 67, 0.3), 0px 1px 3px 1px rgba(60, 64, 67, 0.15);\n",
              "      fill: #174EA6;\n",
              "    }\n",
              "\n",
              "    [theme=dark] .colab-df-convert {\n",
              "      background-color: #3B4455;\n",
              "      fill: #D2E3FC;\n",
              "    }\n",
              "\n",
              "    [theme=dark] .colab-df-convert:hover {\n",
              "      background-color: #434B5C;\n",
              "      box-shadow: 0px 1px 3px 1px rgba(0, 0, 0, 0.15);\n",
              "      filter: drop-shadow(0px 1px 2px rgba(0, 0, 0, 0.3));\n",
              "      fill: #FFFFFF;\n",
              "    }\n",
              "  </style>\n",
              "\n",
              "      <script>\n",
              "        const buttonEl =\n",
              "          document.querySelector('#df-77e7795e-5e97-406d-adac-5296d7394c46 button.colab-df-convert');\n",
              "        buttonEl.style.display =\n",
              "          google.colab.kernel.accessAllowed ? 'block' : 'none';\n",
              "\n",
              "        async function convertToInteractive(key) {\n",
              "          const element = document.querySelector('#df-77e7795e-5e97-406d-adac-5296d7394c46');\n",
              "          const dataTable =\n",
              "            await google.colab.kernel.invokeFunction('convertToInteractive',\n",
              "                                                     [key], {});\n",
              "          if (!dataTable) return;\n",
              "\n",
              "          const docLinkHtml = 'Like what you see? Visit the ' +\n",
              "            '<a target=\"_blank\" href=https://colab.research.google.com/notebooks/data_table.ipynb>data table notebook</a>'\n",
              "            + ' to learn more about interactive tables.';\n",
              "          element.innerHTML = '';\n",
              "          dataTable['output_type'] = 'display_data';\n",
              "          await google.colab.output.renderOutput(dataTable, element);\n",
              "          const docLink = document.createElement('div');\n",
              "          docLink.innerHTML = docLinkHtml;\n",
              "          element.appendChild(docLink);\n",
              "        }\n",
              "      </script>\n",
              "    </div>\n",
              "  </div>\n",
              "  "
            ]
          },
          "metadata": {},
          "execution_count": 104
        }
      ]
    },
    {
      "cell_type": "code",
      "source": [
        "# df_item1a_split_1['cleanTextNew'] = df_item1a_split_1['cleanTextNew'].apply(str)"
      ],
      "metadata": {
        "id": "6rPVqrpdF7FZ"
      },
      "execution_count": 85,
      "outputs": []
    },
    {
      "cell_type": "code",
      "source": [
        "df_item1a_split_1['item1a_'] = re.sub(\"^.*?factors\",\"\",str(df_item1a_split_1['item1a']))"
      ],
      "metadata": {
        "id": "0nKnm2N1E1q7"
      },
      "execution_count": 68,
      "outputs": []
    },
    {
      "cell_type": "code",
      "source": [
        "df_item1a_split_1['item1a_'].iloc[0]"
      ],
      "metadata": {
        "colab": {
          "base_uri": "https://localhost:8080/",
          "height": 105
        },
        "id": "9WhgQiv9HRPs",
        "outputId": "98e535aa-d782-495c-acbe-652bbe60e374"
      },
      "execution_count": 72,
      "outputs": [
        {
          "output_type": "execute_result",
          "data": {
            "text/plain": [
              "'0        >Item 1A. Risk Factors You should carefully re...\\n1        >Item 1A. Risk Factors You should carefully re...\\n2        >Item 1A. Risk Factors You should carefully co...\\n3        >Item 1A. Risk Factors You should carefully co...\\n4                                >Item 1A. Risk Factors 10\\n                               ...                        \\n13444    >ITEM 1A. Risk FactorsAs a financial services ...\\n13445    >ITEM 1A. Risk Factors (Continued) Competition...\\n13446    >ITEM 1A. Risk Factors (Continued) advantages,...\\n13447    >ITEM 1A. Risk FactorsAs a financial services ...\\n13448    >ITEM 1A. Risk FactorsAs a financial services ...\\nName: item1a, Length: 11238, dtype: object'"
            ],
            "application/vnd.google.colaboratory.intrinsic+json": {
              "type": "string"
            }
          },
          "metadata": {},
          "execution_count": 72
        }
      ]
    },
    {
      "cell_type": "code",
      "source": [
        "df_item1a_split_1['item1a'].iloc[0]"
      ],
      "metadata": {
        "colab": {
          "base_uri": "https://localhost:8080/",
          "height": 140
        },
        "id": "LnNN1I5sPMa8",
        "outputId": "d168eb08-7f01-4498-9942-73ebd19452de"
      },
      "execution_count": 73,
      "outputs": [
        {
          "output_type": "execute_result",
          "data": {
            "text/plain": [
              "'>Item 1A. Risk Factors You should carefully review the risk factors described below and those described in other reports we file with the Securities and Exchange Commission, as well as the other information contained in this Annual Report on Form 10-K, in evaluating our business. Our business, prospects, financial condition, or operating results could be harmed by any of these risks, as well as other risks not currently known to us or that we currently consider immaterial. If any of such risks and uncertainties actually occurs, our business, financial condition or operating results could differ materially from the plans, projections and other forward-looking statements included in the section titled \\x93Management\\x92s Discussion and Analysis of Financial Condition and Results of Operations\\x94 and elsewhere in this report and in our other public filings. The trading price of our common stock could decline due to any of these risks, and, as a result, you may lose all or part of your investment. We have a history of losses, we expect to continue to incur losses and we may not achieve or sustain profitability in the future. We have incurred significant losses in each fiscal year since our inception in 2004. We experienced a consolidated net loss of $7.6 million for the year ended December 31, 2015, a consolidated net loss of $10.0 million for the year ended December 31, 2016 and a consolidated net loss of $19.5 million for the year ended December 31, 2017. These losses were due to the substantial investments we made to build our products and services, grow and maintain our business and acquire customers. Key elements of our growth strategy include acquiring new customers and continuing to innovate and build our brand. As a result, we expect our operating expenses to increase in the future due to expected increased sales and marketing expenses, operations 13 Table of Contents costs, research and development costs and general and administrative costs and, therefore, our operating losses will continue or even potentially increase for the foreseeable future. In addition, as a public company we incur significant legal, accounting and other expenses that we did not incur as a private company. Furthermore, to the extent that we are successful in increasing our customer base, we will also incur increased expenses because costs associated with generating and supporting customer agreements are generally incurred up front, while revenue is generally recognized ratably over the committed term of the agreement. You should not rely upon our recent bookings or revenue growth as indicative of our future performance. We cannot assure you that we will reach profitability in the future or at any specific time in the future or that, if and when we do become profitable, we will sustain profitability. If we are ultimately unable to generate sufficient revenue to meet our financial targets, become profitable and have sustainable positive cash flows, investors could lose their investment. Substantially all of our revenue has historically come from a single product, Video Cloud. We have historically been substantially dependent on revenue from a single product, Video Cloud, and we expect that revenue from Video Cloud will continue to comprise a significant portion of our revenue. Our business would be harmed by a decline in the market for Video Cloud, increased competition in the market for online video platforms, or our failure or inability to provide sufficient investment to support Video Cloud as needed to maintain or grow its competitive position. If we are unable to retain our existing customers, our revenue and results of operations will be adversely affected. We sell our products pursuant to agreements that are generally for annual terms. Our customers have no obligation to renew their subscriptions after their subscription period expires, and we have experienced losses of customers that elected not to renew, in some cases, for reasons beyond our control. For example, our largest customer during 2016 faced distressing financial circumstances and, as a result, we lost substantially all of the revenue we expected to generate from this customer in 2017. In addition, even if subscriptions are renewed, they may not be renewed on the same or on more profitable terms. As a result, our ability to retain our existing customers and grow depends in part on subscription renewals. We may not be able to accurately predict future trends in customer renewals, and our customers\\x92 renewal rates have and may continue to decline or fluctuate because of several factors, including their satisfaction or dissatisfaction with our services, the cost of our services and the cost of services offered by our competitors, reductions in our customers\\x92 spending levels or the introduction by competitors of attractive features and functionality. If our customer retention rate decreases, we may need to increase the rate at which we add new customers in order to maintain and grow our revenue, which may require us to incur significantly higher advertising and marketing expenses than we currently anticipate, or our revenue may decline. If our customers do not renew their subscriptions for our services, renew on less favorable terms, or do not purchase additional functionality or subscriptions, our revenue may grow more slowly than expected or decline, and our profitability and gross margins may be harmed or affected. Our long term financial targets are predicated on bookings and revenue growth and operating margin improvements that we may fail to achieve, which could reduce our expected earnings and cause us to fail to meet the expectations of analysts or investors and cause the price of our securities to decline. We are projecting long-term bookings, revenue and earnings growth. Our projections are based on the expected growth potential in our premium customer base, as well as the market for on-demand software solutions generally. We may not achieve the expected bookings and revenue growth if the markets we serve do not grow at expected rates, if customers do not purchase or renew subscriptions as we expect, and/or if we are not able to deliver products desired by customers and potential customers. Our long-term operating margin improvement targets are predicated on operating leverage as long term revenue increases and improved operating efficiencies from moving to additional cloud-based delivery of services, together with lower cost of goods sold, research and development expenses and general and administrative expenses as a percentage of total revenue. If operating margins do not improve, our earnings could be adversely affected and the price of our securities could decline. 14 Table of Contents The actual market for our solutions could be significantly smaller than our estimates of our total potential market opportunity, and if customer demand for our services does not meet expectations, our ability to generate revenue and meet our financial targets could be adversely affected. While we expect strong growth in the markets for our products, it is possible that the growth in some or all of these markets may not meet our expectations, or materialize at all. The methodology on which our estimate of our total potential market opportunity is based includes several key assumptions based on our industry knowledge and customer experience. If any of these assumptions proves to be inaccurate, then the actual market for our solutions could be significantly smaller than our estimates of our total potential market opportunity. If the customer demand for our services or the adoption rate in our target markets does not meet our expectations, our ability to generate revenue from customers and meet our financial targets could be adversely affected. Our business is substantially dependent upon the continued growth of the market for on-demand software solutions. We derive, and expect to continue to derive, substantially all of our revenue from the sale of our on-demand solutions. As a result, widespread acceptance and use of the on-demand business model is critical to our future growth and success. Under the perpetual or periodic license model for software procurement, users of the software would typically install and operate the applications on their hardware. Because many companies are generally predisposed to maintaining control of their information technology, or IT, systems and infrastructure, there may be resistance to the concept of accessing software as a service provided by a third party. In addition, the market for on-demand software solutions is still evolving, and competitive dynamics may cause pricing levels to change as the market matures and as existing and new market participants introduce new types of solutions and different approaches to enable organizations to address their technology needs. As a result, we may be forced to reduce the prices we charge for our products and may be unable to renew existing customer agreements or enter into new customer agreements at the same prices and upon the same terms that we have historically. If the market for on-demand software solutions fails to grow, grows more slowly than we currently anticipate or evolves and forces us to reduce the prices we charge for our products, our bookings growth, revenue, gross margin and other operating results could be materially adversely affected. Our operating results may fluctuate from quarter to quarter, which could make them difficult to predict. Our quarterly operating results are tied to certain financial and operational metrics that have fluctuated in the past and may fluctuate significantly in the future. As a result, you should not rely upon our past quarterly operating results as indicators of future performance. Our operating results depend on numerous factors, many of which are outside of our control. In addition to the other risks described in this \\x93Risk Factors\\x94 section, the following risks could cause our operating results to fluctuate: \\x95 our ability to retain existing customers and attract new customers; \\x95 the rates at which our customers renew; \\x95 the amount of revenue generated from our customers\\x92 use of our products or services in excess of their committed contractual entitlements; \\x95 the timing and amount of costs of new and existing marketing and advertising efforts; \\x95 the timing and amount of operating costs and capital expenditures relating to expansion of our business, operations and infrastructure; \\x95 the cost and timing of the development and introduction of new product and service offerings by us or our competitors; and \\x95 system or service failures, security breaches or network downtime. 15 Table of Contents We have a relatively short operating history in a relatively new and rapidly developing market, which makes it difficult to evaluate our business and future prospects. Our business has a relatively short operating history and the market for our products and services is relatively new and rapidly developing, which makes it difficult to evaluate our business and future prospects. We have been in existence since 2004, and much of our growth has occurred in recent periods. We have encountered, and will continue to encounter, risks and difficulties frequently experienced by growing companies in rapidly changing industries, including those related to: \\x95 market acceptance of our current and future products and services; \\x95 customer renewal rates; \\x95 our ability to compete with other companies that are currently in, or may in the future enter, the market for our products; \\x95 our ability to successfully expand our business, especially internationally; \\x95 our ability to control costs, including our operating expenses; \\x95 the amount and timing of operating expenses, particularly sales and marketing expenses, related to the maintenance and expansion of our business, operations and infrastructure; \\x95 network outages or security breaches and any associated expenses; \\x95 foreign currency exchange rate fluctuations; \\x95 write-downs, impairment charges or unforeseen liabilities in connection with acquisitions; \\x95 our ability to successfully manage acquisitions; and \\x95 general economic and political conditions in our domestic and international markets. If we do not manage these risks successfully, our business will be harmed. Our long-term success depends, in part, on our ability to expand the sales of our products to customers located outside of the United States, and thus our business is susceptible to risks associated with international sales and operations. We currently maintain offices and have sales personnel in Australia, France, India, Japan, Singapore, South Korea, Spain, the United Arab Emirates and the United Kingdom, and we intend to expand our international operations. Any international expansion efforts that we may undertake may not be successful. In addition, conducting international operations subjects us to new risks that we have not generally faced in the United States. These risks include: \\x95 unexpected costs and errors in the localization of our products, including translation into foreign languages and adaptation for local practices and regulatory requirements; \\x95 lack of familiarity with and burdens of complying with foreign laws, legal standards, regulatory requirements, tariffs, and other barriers; \\x95 unexpected changes in regulatory requirements, taxes, trade laws, tariffs, export quotas, custom duties or other trade restrictions; \\x95 difficulties in managing systems integrators and technology partners; \\x95 differing technology standards; \\x95 longer accounts receivable payment cycles and difficulties in collecting accounts receivable; \\x95 difficulties in managing and staffing international operations and differing employer/employee relationships; 16 Table of Contents \\x95 fluctuations in exchange rates that may increase the volatility of our foreign-based revenue; \\x95 potentially adverse tax consequences, including the complexities of foreign value added tax (or other tax) systems and restrictions on the repatriation of earnings; \\x95 uncertain political and economic climates; and \\x95 reduced or varied protection for intellectual property rights in some countries. These factors may cause our costs of doing business in these geographies to exceed our comparable domestic costs. Operating in international markets also requires significant management attention and financial resources. Any negative impact from our international business efforts could negatively impact our business, results of operations and financial condition as a whole. We must keep up with rapid technological change to remain competitive in a rapidly evolving industry. Our markets are characterized by rapid technological change, frequent new product and service introductions and evolving industry standards. Our future success will depend on our ability to adapt quickly to rapidly changing technologies, to adapt our services and products to evolving industry standards and to improve the performance and reliability of our services and products. To achieve market acceptance for our products, we must effectively anticipate and offer products that meet changing customer demands in a timely manner. Customers may require features and functionality that our current products do not have. If we fail to develop products that satisfy customer preferences in a timely and cost-effective manner, our ability to renew our contracts with existing customers and our ability to create or increase demand for our products will be harmed. We may experience difficulties with software development, industry standards, design or marketing that could delay or prevent our development, introduction or implementation of new products and enhancements. The introduction of new products by competitors, the emergence of new industry standards or the development of entirely new technologies to replace existing offerings could render our existing or future products obsolete. If we are unable to successfully develop or acquire new features and functionality, enhance our existing products to anticipate and meet customer requirements or sell our products into new markets, our bookings growth, revenue and results of operations will be adversely affected. We face significant competition and may be unsuccessful against current and future competitors. If we do not compete effectively, our operating results and future growth could be harmed. We compete with video sharing sites, in-house solutions, online video platforms and certain niche technology providers, as well as larger companies that offer multiple services, including those that may be used as substitute services for our products. Competition is already intense in these markets and, with the introduction of new technologies and market entrants, we expect competition to further intensify in the future. In addition, some of our competitors may make acquisitions, be acquired, or enter into strategic relationships to offer a more comprehensive service than we do. These combinations may make it more difficult for us to compete effectively. We expect these trends to continue as competitors attempt to strengthen or maintain their market positions. Demand for our services is sensitive to price. Many factors, including our advertising, customer acquisition and technology costs, commoditization of our products and services and our current and future competitors\\x92 pricing and marketing strategies, can significantly affect our pricing strategies. There can be no assurance that we will not be forced to engage in price-cutting initiatives, or to increase our advertising and other expenses to attract and retain customers in response to competitive pressures, either of which could have a material adverse effect on our revenue, operating results and resources. We will likely encounter significant, growing competition in our business from many sources, including portals and digital media retailers, search engines, social networking and consumer-sharing services companies, 17 Table of Contents broadband media distribution platforms, technology suppliers, direct broadcast satellite television service companies and digital and traditional cable systems. Many of our present and likely future competitors have substantially greater financial, marketing, technological and other resources than we do. Some of these companies may even choose to offer services competitive with ours at no cost as a strategy to attract or retain customers of their other services. Technological and commercial developments may lead to the increasing commoditization of our products and services, including data delivery and storage, further increasing downward pressure on the prices we can charge. If we are unable to compete successfully with traditional and other emerging providers of competing services, our business, financial condition and results of operations could be adversely affected. We depend on the experience and expertise of our executive officers, senior management team and key technical employees, and the loss of any key employee could have an adverse effect on our business, financial condition and results of operations. Our success depends upon the continued service of our executive officers, senior management team and key technical employees, as well as our ability to continue to attract and retain additional highly qualified personnel. Each of our executive officers, senior management team, key technical personnel and other employees could terminate his or her relationship with us at any time. The loss of any member of our senior management team or key personnel might significantly delay or prevent the achievement of our business objectives and could materially harm our business and our customer relationships. In addition, because of the nature of our business, the loss of any significant number of our existing engineering, project management and sales personnel could have an adverse effect on our business, financial condition and results of operations. Our business and operations have experienced rapid growth and organizational change in recent periods, which has placed, and may continue to place, significant demands on our management and infrastructure. If we fail to manage our growth effectively and successfully recruit additional highly-qualified employees, we may be unable to execute our business plan, maintain high levels of service or address competitive challenges adequately. We increased our number of full-time employees from 413 as of December 31, 2015, to 490 as of December 31, 2016 and to 498 as of December 31, 2017, and our revenue grew from $134.7 million in 2015 to $150.3 million in 2016 and to $155.9 million in 2017. Our headcount and operations have grown, both domestically and internationally, since our inception. This growth has placed, and will continue to place, a significant strain on our management, administrative, operational and financial infrastructure. We anticipate further growth will be required to address increases in our product and service offerings and continued international expansion. Our success will depend in part upon the ability of our senior management team to manage this growth effectively. To do so, we must continue to recruit, hire, train, manage and integrate a significant number of qualified managers, technical personnel and employees in specialized roles within our company, including in technology, sales and marketing. If our new employees perform poorly, or if we are unsuccessful in recruiting, hiring, training, managing and integrating these new employees, or retaining these or our existing employees, our business may suffer. In addition, to manage the expected continued growth of our headcount, operations and geographic expansion, we will need to continue to improve our information technology infrastructure, operational, financial and management systems and procedures. Our expected additional headcount and capital investments will increase our costs, which will make it more difficult for us to address any future revenue shortfalls by reducing expenses in the short term. If we fail to successfully manage our growth we will be unable to successfully execute our business plan, which could have a negative impact on our business, financial condition or results of operations. 18 Table of Contents Potential future acquisitions could be difficult to integrate, divert the attention of key personnel, disrupt our business, dilute stockholder value and impair our financial results. As part of our business strategy, we intend to consider acquisitions of companies, technologies and products that we believe could accelerate our ability to compete in our core markets or allow us to enter new markets. Acquisitions involve numerous risks, any of which could harm our business, including: \\x95 difficulties in integrating the technologies, products, operations and existing contracts of a target company and realizing the anticipated benefits of the combined businesses; \\x95 difficulties in integrating the personnel of a target company; \\x95 difficulties in supporting and transitioning customers, if any, of a target company; \\x95 diversion of financial and management resources from existing operations; \\x95 the price we pay or other resources that we devote may exceed the value we realize, or the value we could have realized if we had allocated the purchase price or other resources to another opportunity; \\x95 risks of entering new markets in which we have limited or no experience; \\x95 potential loss of key employees, customers and strategic alliances from either our current business or a target company\\x92s business; and \\x95 inability to generate sufficient revenue to offset acquisition costs. Acquisitions also frequently result in the recording of goodwill and other intangible assets which are subject to potential impairments in the future that could harm our financial results. In addition, if we finance acquisitions by issuing equity securities, our existing stockholders may be diluted. As a result, if we fail to properly evaluate acquisitions or investments, we may not achieve the anticipated benefits of any such acquisitions, and we may incur costs in excess of what we anticipate. The failure to successfully evaluate and execute acquisitions or investments or otherwise adequately address these risks could materially harm our business and financial results. We may experience delays in product and service development, including delays beyond our control, which could prevent us from achieving our growth objectives and hurt our business. Many of the problems, delays and expenses we may encounter may be beyond our control. Such problems may include, but are not limited to, problems related to the technical development of our products and services, problems with the infrastructure for the distribution and delivery of online media, the competitive environment in which we operate, marketing problems, consumer and advertiser acceptance and costs and expenses that may exceed current estimates. Problems, delays or expenses in any of these areas could have a negative impact on our business, financial conditions or results of operations. Delays in the timely design, development, deployment and commercial operation of our product and service offerings, and consequently the achievement of our revenue targets and positive cash flow, could result from a variety of causes, including many causes that are beyond our control. Such delays include, but are not limited to, delays in the integration of new offers into our existing offering, changes to our products and services made to correct or enhance their features, performance or marketability or in response to regulatory developments or otherwise, delays encountered in the development, integration or testing of our products and services and the infrastructure for the distribution and delivery of online media and other systems, unsuccessful commercial launches of new products and services, delays in our ability to obtain financing, insufficient or ineffective marketing efforts and slower-than-anticipated consumer acceptance of our products. Delays in any of these matters could hinder or prevent our achievement of our growth objectives and hurt our business. There is no assurance that the current cost of Internet connectivity and network access will not rise with the increasing popularity of online media services. We rely on third-party service providers for our principal connections to the Internet and network access, and to deliver media to consumers. As demand for online media increases, there can be no assurance that Internet 19 Table of Contents and network service providers will continue to price their network access services on reasonable terms. The distribution of online media requires delivery of digital content files and providers of network access and distribution may change their business models and increase their prices significantly, which could slow the widespread adoption of such services. In order for our services to be successful, there must be a reasonable price model in place to allow for the continuous distribution of digital media files. We have limited or no control over the extent to which any of these circumstances may occur, and if network access or distribution prices rise, our business, financial condition and results of operations would likely be adversely affected. Failure of our infrastructure for the distribution and delivery of online media could adversely affect our business. Our success as a business depends, in large part, on our ability to provide a consistently high-quality digital experience to consumers via our relationships and infrastructure for the distribution and delivery of online media generally. There is no guarantee that our relationships and infrastructure will not experience problems or other performance issues, which could seriously impair the quality and reliability of our delivery of digital media to end users. For example, we primarily use three content delivery networks, or CDNs, to deliver content to end users. If one or more of these CDNs were to experience sustained technical failures, it could cause delays in our service and we could lose customers. If we do not accurately predict our infrastructure capacity requirements, our customers could experience service outages or service degradation that may subject us to financial penalties and liabilities and result in customer losses. In the past we have, on limited occasions, suffered temporary interruptions of certain aspects of our service, including our customers\\x92 ability to upload new content into our system, our customers\\x92 ability to access administrative control of their accounts, and our ability to deliver content to end users in certain geographic locations. These service interruptions were the results of human error, hardware and software failures or failures of third-party networks. On a limited number of occasions, these service interruptions have required us to provide service credits to customers. We cannot guarantee that service interruptions will not occur again or predict the duration of interruptions of our service or the impact of such interruptions on our customers. Failures and interruptions of our service may impact our reputation, result in our payment of compensation or service credits to our customers, result in loss of customers and adversely affect our financial results and ability to grow our business. In addition, if our hosting infrastructure capacity fails to keep pace with increased sales or if our delivery capabilities fail, customers may experience delays as we seek to obtain additional capacity or enable alternative delivery capability, which could harm our reputation and adversely affect our revenue growth. We may have difficulty scaling and adapting our existing infrastructure to accommodate increased traffic and storage, technology advances or customer requirements. In the future, advances in technology, increases in traffic and storage, and new customer requirements may require us to change our infrastructure, expand our infrastructure or replace our infrastructure entirely. Scaling and adapting our infrastructure is likely to be complex and require additional technical expertise. If we are required to make any changes to our infrastructure, we may incur substantial costs and experience delays or interruptions in our service. These delays or interruptions may cause customers and partners to become dissatisfied with our service and move to competing service providers. Our failure to accommodate increased traffic and storage, increased costs, inefficiencies or failures to adapt to new technologies or customer requirements and the associated adjustments to our infrastructure could harm our business, financial condition and results of operations. We rely on software and services licensed from other parties. The loss of software or services from third parties could increase our costs and limit the features available in our products and services. Components of our service and product offerings include various types of software and services licensed from unaffiliated parties. If any of the software or services we license from others or functional equivalents thereof were either no longer available to us or no longer offered on commercially reasonable terms, we would be 20 Table of Contents required to either redesign our services and products to function with software or services available from other parties or develop these components ourselves. In either case, the transition to a new service provider or an internally-developed solution could result in increased costs and could result in delays in our product launches and the release of new service and product offerings. Furthermore, we might be forced to temporarily limit the features available in our current or future products and services. If we fail to maintain or renegotiate any of these software or service licenses, we could face significant delays and diversion of resources in attempting to license and integrate functional equivalents. If our software products contain serious errors or defects, then we may lose revenue and market acceptance and may incur costs to defend or settle claims. Complex software applications such as ours often contain errors or defects, particularly when first introduced or when new versions or enhancements are released. Despite internal testing and testing by our customers, our current and future products may contain serious defects, which could result in lost revenue, lost customers, slower growth or a delay in market acceptance. Since our customers use our products for critical business applications, such as online video, errors, defects or other performance problems could result in damage to our customers. They could seek significant compensation from us for the losses they suffer. Although our customer agreements typically contain provisions designed to limit our exposure to claims, existing or future laws or unfavorable judicial decisions could negate these limitations. Even if not successful, a claim brought against us would likely be time-consuming and costly and could seriously damage our reputation in the marketplace, making it harder for us to sell our products. Unauthorized disclosure of data, unauthorized access to our service and misuse of our service could adversely affect our business. Any security breaches, unauthorized access, unauthorized usage, virus or similar breach or disruption could result in loss of confidential information, personal data and customer content, damage to our reputation, early termination of our contracts, litigation, regulatory investigations, increased costs or other liabilities. If our security measures, or those of our partners or service providers, are breached as a result of third-party action, employee error, malfeasance or otherwise and, as a result, someone obtains unauthorized access to confidential information, personal data or customer content, our reputation will be damaged, our business may suffer or we could incur significant liability. If the measures we have put in place to limit or restrict access to and use of functionality, usage entitlements and support for customers or prospective customers are breached, circumvented or ineffective as a result of third-party action, employee error, malfeasance or otherwise and, as a result, someone obtains unauthorized access to and use of functionality, usage entitlements and support, our business may suffer or we could incur significant liability and/or costs. Techniques used to obtain unauthorized access or use or to sabotage systems change frequently and generally are not recognized until launched against a target. As a result, we may be unable to anticipate these techniques or to implement adequate preventative measures. If an actual or perceived security breach occurs, the market perception of our security measures could be harmed and we could lose sales and customers. Any significant violations of data privacy or unauthorized disclosure of information could result in the loss of business, litigation and regulatory investigations and penalties that could damage our reputation and adversely impact our results of operations and financial condition. Moreover, if a security breach occurs with respect to another software as a service, or SaaS, provider, our customers and potential customers may lose trust in the security of the SaaS business model generally, which could adversely impact our ability to retain existing customers or attract new ones. We use a limited number of data centers and cloud computing services facilities to deliver our services. Any disruption of service at these facilities could harm our business. We manage our services and serve all of our customers from a limited number of third-party data center facilities and cloud computing services facilities. While we control the actual computer and storage systems upon 21 Table of Contents which our software runs, and deploy them to the data center facilities, we do not control the operation of these facilities. The owners of these facilities have no obligation to renew their agreements with us on commercially reasonable terms, or at all. If we are unable to renew these agreements on commercially reasonable terms, we may be required to transfer to new facilities, and we may incur significant costs and possible service interruption in connection with doing so. Any changes in third-party service levels at these facilities or any errors, defects, disruptions or other performance problems at or related to these facilities that affect our services could harm our reputation and may damage our customers\\x92 businesses. Interruptions in our services might reduce our revenue, cause us to issue credits to customers, subject us to potential liability, and cause customers to terminate their subscriptions or harm our renewal rates. These facilities are vulnerable to damage or service interruption resulting from human error, intentional bad acts, security breaches, earthquakes, hurricanes, floods, fires, war, terrorist attacks, power losses, hardware failures, systems failures, telecommunications failures and similar events. For example, on September 18, 2014, we suffered a service disruption resulting from a distributed denial-of-service attack at third-party data center facilities used by us. By September 20, 2014, we had restored the services impacted by the attack. We contacted federal law enforcement authorities regarding the denial-of-service attack and cooperated with them. We also conducted an assessment of our internet service providers and data center providers, potential future vulnerability to malicious activity, and the sufficiency of our infrastructure to withstand and recover rapidly from such attacks. While this matter did not have a material adverse effect on our operating results, there can be no assurance that such incidents will not occur again, and they could occur more frequently and on a more significant scale. The occurrence of a natural disaster or an act of terrorism, or vandalism or other misconduct, or a decision to close the facilities without adequate notice or other unanticipated problems could result in lengthy interruptions in our services. Our business may be adversely affected by third-party claims, including by governmental bodies, regarding the content and advertising distributed through our service. We rely on our customers to secure the rights to redistribute content over the Internet, and we do not screen the content that is distributed through our service. There is no assurance that our customers have licensed all rights necessary for distribution, including Internet distribution. Other parties may claim certain rights in the content of our customers. In the event that our customers do not have the necessary distribution rights related to content, we may be required to cease distributing such content, or we may be subject to lawsuits and claims of damages for infringement of such rights. If these claims arise with frequency, the likelihood of our business being adversely affected would rise significantly. In some cases, we may have rights to indemnification or claims against our customers if they do not have appropriate distribution rights related to specific content items, however there is no assurance that we would be successful in any such claim. We operate an \\x93open\\x94 publishing platform and do not screen the content that is distributed through our service. Content may be distributed through our platform that is illegal or unlawful under international, federal, state or local laws or the laws of other countries. We may face lawsuits, claims or even criminal charges for such distribution, and we may be subject to civil, regulatory or criminal sanctions and damages for such distribution. Any such claims or investigations could adversely affect our business, financial condition and results of operations. 22 Table of Contents We could incur substantial costs as a result of any claim of infringement of another party\\x92s intellectual property rights. In recent years, there has been significant litigation in the United States involving patents and other intellectual property rights. Companies providing Internet-related products and services are increasingly bringing and becoming subject to suits alleging infringement of proprietary rights, particularly patent rights. These risks have been amplified by the increase in third parties whose sole or primary business is to assert such claims, some of whom have sent letters to and/or filed suit alleging infringement against some of our customers. From time to time, third parties claim that we are infringing upon their intellectual property rights. For information regarding these claims, see Part I, Item 3, \\x93Legal Proceedings.\\x94 We could incur substantial costs in prosecuting or defending any intellectual property litigation. Additionally, the defense or prosecution of claims could be time-consuming, and could divert our management\\x92s attention away from the execution of our business plan. Moreover, any settlement or adverse judgment resulting from a claim could require us to pay substantial amounts or obtain a license to continue to use the technology that is the subject of the claim, or otherwise restrict or prohibit our use of the technology. There can be no assurance that we would be able to obtain a license from the third party asserting the claim on commercially reasonable terms, if at all, that we would be able to develop alternative technology on a timely basis, if at all, or that we would be able to obtain a license to use a suitable alternative technology to permit us to continue offering, and our customers to continue using, our affected product or service. In addition, we may be required to indemnify our customers for third-party intellectual property infringement claims, which would increase the cost to us. An adverse determination could also prevent us from offering our products or services to others. Infringement claims asserted against us may have an adverse effect on our business, financial condition and results of operations. Our agreements with customers often include contractual obligations to indemnify them against claims that our products infringe the intellectual property rights of third parties. The results of any intellectual property litigation to which we might become a party, or for which we are required to provide indemnification, may force us to do one or more of the following: \\x95 cease selling or using products or services that incorporate the challenged intellectual property; \\x95 make substantial payments for costs or damages; \\x95 obtain a license, which may not be available on reasonable terms, to sell or use the relevant technology; or \\x95 redesign those products or services to avoid infringement. If we are required to make substantial payments or undertake any of the other actions noted above as a result of any intellectual property infringement claims against us or any obligation to indemnify our customers for such claims, such payments or costs could have a material adverse effect upon our business and financial results. Failure to adequately protect our intellectual property could substantially harm our business and operating results. Because our business depends substantially on our intellectual property, the protection of our intellectual property rights is important to the success of our business. We rely upon a combination of trademark, patent, trade secret and copyright law and contractual restrictions to protect our intellectual property. These afford only limited protection. Despite our efforts to protect our property rights, unauthorized parties may attempt to copy aspects of our products, service, software and functionality or obtain and use information that we consider proprietary. Moreover, policing our proprietary rights is difficult and may not always be effective. In addition, we may need to enforce our rights under the laws of countries that do not protect proprietary rights to as great an extent as do the laws of the United States. Litigation or proceedings before the U.S. Patent and Trademark Office or other governmental authorities and administrative bodies in the United States and abroad may be necessary in the future to enforce our 23 Table of Contents intellectual property rights, to protect our patent rights, trade secrets, trademarks and domain names, and to determine the validity and scope of the proprietary rights of others. Such litigation or proceedings may be very costly and impact our financial performance. We may also incur substantial costs defending against frivolous litigation or be asked to indemnify our customers against the same. Our efforts to enforce or protect our proprietary rights may prove to be ineffective and could result in substantial costs and diversion of resources and could substantially harm our operating results. Our exposure to risks associated with the use of intellectual property may increase as a result of acquisitions, as we have less opportunity to have visibility into the development process with respect to acquired technology or the care taken to safeguard against infringement risks. Third parties may make infringement and similar or related claims after we have acquired technology that had not been asserted prior to our acquisition. Confidentiality agreements with employees and others may not adequately prevent disclosure of trade secrets and other proprietary information. We have devoted substantial resources to the development of our technology, business operations and business plans. In order to protect our trade secrets and proprietary information, we rely in significant part on confidentiality agreements with our employees, licensees, independent contractors, advisers and customers. These agreements may not be effective to prevent disclosure of confidential information, including trade secrets, and may not provide an adequate remedy in the event of unauthorized disclosure of confidential information. In addition, others may independently discover trade secrets and proprietary information, and in such cases we would not be able to assert trade secret rights against such parties. To the extent that our employees and others with whom we do business use intellectual property owned by others in their work for us, disputes may arise as to the rights in related or resulting know-how and inventions. Laws regarding trade secret rights in certain markets in which we operate may afford little or no protection to our trade secrets. The loss of trade secret protection could make it easier for third parties to compete with our products by copying functionality. In addition, any changes in, or unexpected interpretations of, the trade secret and other intellectual property laws in any country in which we operate may compromise our ability to enforce our trade secret and intellectual property rights. Costly and time-consuming litigation could be necessary to enforce and determine the scope of our proprietary rights, and failure to obtain or maintain trade secret protection could adversely affect our competitive business position. Our use of \\x93open source\\x94 software could negatively affect our ability to sell our services and subject us to possible litigation. A portion of the technology licensed by us incorporates \\x93open source\\x94 software, and we may incorporate open source software in the future. Such open source software is generally licensed by its authors or other third parties under open source licenses. If we fail to comply with these licenses, we may be subject to certain conditions, including requirements that we offer our services that incorporate the open source software for no cost, that we make available source code for modifications or derivative works we create based upon, incorporating or using the open source software and that we license such modifications or alterations under the terms of the particular open source license. If an author or other third party that distributes such open source software were to allege that we had not complied with the conditions of one or more of these licenses, we could be required to incur significant legal expenses defending against such allegations and could be subject to significant damages, enjoined from the sale of our services that contained the open source software and required to comply with the foregoing conditions, which could disrupt the distribution and sale of some of our services. Fluctuations in the exchange rate of foreign currencies could result in currency translation losses. We currently have foreign sales denominated in Australian dollars, British pound sterling, Euros, Japanese yen and New Zealand dollars and may, in the future, have sales denominated in the currencies of additional countries in which we establish or have established sales offices. In addition, we incur a portion of our operating 24 Table of Contents expenses in British pound sterling, Euros, Japanese yen and, to a lesser extent, other foreign currencies. Any fluctuation in the exchange rate of these foreign currencies may negatively impact our business, financial condition and operating results. We have not previously engaged in foreign currency hedging. If we decide to hedge our foreign currency exposure, we may not be able to hedge effectively due to lack of experience, unreasonable costs or illiquid markets. We may be required to collect sales and use taxes on the services we sell in additional jurisdictions in the future, which may decrease sales, and we may be subject to liability for sales and use taxes and related interest and penalties on prior sales. State and local taxing jurisdictions have differing rules and regulations governing sales and use taxes and these rules and regulations are subject to varying interpretations that may change over time. In particular, the applicability of sales and use taxes to our subscription services in various jurisdictions is unclear. We cannot assure you that we will not be subject to sales and use taxes or related penalties for past sales in states where we presently believe sales and use taxes are not due. We reserve estimated sales and use taxes in our financial statements but we cannot be certain that we have made sufficient reserves to cover all taxes that might be assessed. If one or more taxing authorities determines that taxes should have, but have not, been paid with respect to our services, we may be liable for past taxes in addition to being required to collect sales or similar taxes in respect of our services going forward. Liability for past taxes may also include substantial interest and penalty charges. Our client contracts typically provide that our clients must pay all applicable sales and similar taxes. Nevertheless, clients may be reluctant to pay back taxes and may refuse responsibility for interest or penalties associated with those taxes or we may determine that it would not be feasible to seek reimbursement. If we are required to collect and pay back taxes and the associated interest and penalties and if our clients do not reimburse us for all or a portion of these amounts, we will incur unplanned expenses that may be substantial. Moreover, imposition of such taxes on our services going forward will effectively increase the cost of such services to our clients and may adversely affect our ability to retain existing clients or to gain new clients in the areas in which such taxes are imposed. Government and industry regulation of the Internet is evolving and could directly restrict our business or indirectly affect our business by limiting the growth of our markets. Unfavorable changes in government regulation or our failure to comply with regulations could harm our business and operating results. Federal, state and foreign governments and agencies have adopted and could in the future adopt regulations covering issues such as user privacy, content, and taxation of products and services. Government regulations could limit the market for our products and services or impose burdensome requirements that render our business unprofitable. Our products enable our customers to collect, manage and store a wide range of data. The United States and various state governments have adopted or proposed limitations on the collection, distribution and use of personal information. Several foreign jurisdictions, including the European Union and the United Kingdom, have adopted legislation (including directives or regulations) that increase or change the requirements governing data collection and storage in these jurisdictions. If our privacy or data security measures fail to comply with current or future laws and regulations, we may be subject to litigation, regulatory investigations or other liabilities, or our customers may terminate their relationships with us. In addition, although many regulations might not apply to our business directly, we expect that laws regulating the solicitation, collection or processing of personal and consumer information could affect our customers\\x92 ability to use and share data, potentially reducing demand for our services. The Telecommunications Act of 1996 and the European Union Data Protection Directive along with other similar laws and regulations prohibit certain types of information and content from being transmitted over the Internet. The scope of this prohibition and the liability associated with a violation are currently unsettled. In addition, although substantial portions of the Communications Decency Act were held to be unconstitutional, we cannot be certain that similar 25 Table of Contents legislation will not be enacted and upheld in the future. Legislation like the Telecommunications Act and the Communications Decency Act could dampen the growth in web usage and decrease its acceptance as a medium of communications and commerce. Moreover, if future laws and regulations limit our customers\\x92 ability to use and share consumer data or our ability to store, process and share data with our customers over the Internet, demand for our products could decrease, our costs could increase, and our results of operations and financial condition could be harmed. In addition, taxation of services provided over the Internet or other charges imposed by government agencies or by private organizations for accessing the Internet may be imposed. Any regulation imposing greater fees for Internet use or restricting information exchange over the Internet could result in a decline in the use of the Internet and the viability of Internet-based services, which could harm our business and operating results. Our stock price has been volatile and is likely to be volatile in the future. The market price of our common stock has been and is likely to be highly volatile and could be subject to significant fluctuations in response to, among other things, the risk factors described in this report and other factors beyond our control. Market prices for securities of early stage companies have historically been particularly volatile. Some, but not all, of the factors that may cause the market price of our common stock to fluctuate include: \\x95 fluctuations in our quarterly or annual financial results or the quarterly or annual financial results of companies perceived to be similar to us or relevant for our business; \\x95 changes in estimates of our financial results or recommendations by securities analysts; \\x95 failure of our products to achieve or maintain market acceptance; \\x95 changes in market valuations of similar or relevant companies; \\x95 success of competitive service offerings or technologies; \\x95 changes in our capital structure, such as the issuance of securities or the incurrence of debt; \\x95 announcements by us or by our competitors of significant services, contracts, acquisitions or strategic alliances; \\x95 regulatory developments in the United States, foreign countries, or both; \\x95 litigation; \\x95 additions or departures of key personnel; \\x95 investors\\x92 general perceptions; and \\x95 changes in general economic, industry or market conditions. In addition, if the market for technology stocks, or the stock market in general, experiences a loss of investor confidence, the trading price of our common stock could decline for reasons unrelated to our business, financial condition, or results of operations. If any of the foregoing occurs, it could cause our stock price to fall and may expose us to lawsuits that, even if unsuccessful, could be costly to defend and a distraction to management. Our business and operations could be adversely affected if we are subject to stockholder activism, which could cause us to incur significant expense and impact the market price of our common stock. In recent years, proxy contests and other forms of stockholder activism have been directed against numerous public companies. Stockholder activism, including potential proxy contests, could result in substantial costs and divert the attention of our management and our board of directors and resources from our business. Activist 26 Table of Contents campaigns can create perceived uncertainties as to our future direction, strategy or leadership and may result in the loss of potential business opportunities and harm our ability to attract new customers, employees and investors. In addition, we may be required to incur significant legal fees and other expenses related to any activist stockholder matters. Further, the market price of our common stock could be subject to significant fluctuation or otherwise be adversely affected by the events, risks, and uncertainties of any stockholder activism. If securities or industry analysts do not publish, or cease publishing, research or reports about us, our business or our market, or if they adversely change their recommendations regarding our stock, our stock price and trading volume could decline. The trading market for our common stock will be influenced by research and reports that industry or security analysts may publish about us, our business, our market or our competitors. If any of the analysts who may cover us adversely change their recommendations regarding our stock, or provide more favorable relative recommendations about our competitors, our stock price would likely decline. If any analyst who may cover us were to cease coverage of our company or fail to regularly publish reports on us, we could lose visibility in the financial markets, which in turn could cause our stock price or trading volume to decline. We are an \\x93emerging growth company\\x94 and we cannot be certain if the reduced disclosure requirements applicable to emerging growth companies will make our common stock less attractive to investors. We are an \\x93emerging growth company,\\x94 as defined in the Jumpstart Our Business Startups Act of 2012, or the JOBS Act, and we may take advantage of certain exemptions from various reporting requirements that are applicable to other public companies that are not \\x93emerging growth companies\\x94 including, but not limited to, reduced disclosure obligations regarding executive compensation in our periodic reports and proxy statements and exemptions from the requirements of holding a nonbinding advisory vote on executive compensation and shareholder approval of any golden parachute payments not previously approved. We cannot predict if investors will find our common stock less attractive because we may rely on these exemptions. If some investors find our common stock less attractive as a result, there may be a less active trading market for our common stock and our stock price may be more volatile. We may take advantage of these reporting exemptions until we are no longer an \\x93emerging growth company.\\x94 In addition, Section 107 of the JOBS Act also provides that an \\x93emerging growth company\\x94 can take advantage of the extended transition period provided in Section 7(a)(2)(B) of the Securities Act for complying with new or revised accounting standards. In other words, an \\x93emerging growth company\\x94 can delay the adoption of certain accounting standards until those standards would otherwise apply to private companies. However, we chose to \\x93opt out\\x94 of such extended transition period, and as a result, we will comply with new or revised accounting standards on the relevant dates on which adoption of such standards is required for non-emerging growth companies. Section 107 of the JOBS Act provides that our decision to opt out of the extended transition period for complying with new or revised accounting standards is irrevocable. We do not expect to declare any dividends in the foreseeable future. We do not anticipate declaring any dividends to holders of our common stock in the foreseeable future. Consequently, investors may need to rely on sales of their common stock after price appreciation, which may never occur, as the only way to realize any future gains on their investment. Investors seeking dividends should not purchase our common stock. We may be unable to meet our future capital requirements, which could limit our ability to grow. We believe our existing cash and cash equivalents will be sufficient to meet our anticipated working capital and capital expenditure needs over at least the next 12 months. We may, however, need, or could elect to seek, additional funding at any time. To the extent that existing resources are insufficient to fund our business 27 Table of Contents operations, our future activities for the expansion of our service and our product offerings, developing and sustaining our relationships and infrastructure for the distribution and delivery of digital media online, marketing, and supporting our office facilities, we may need to raise additional funds through equity or debt financing. Additional funds may not be available on terms favorable to us or our stockholders. Furthermore, if we issue equity securities, our stockholders may experience additional dilution or the new equity securities may have rights, preferences and privileges senior to those of our existing classes of stock. If we cannot raise funds on acceptable terms, we may not be able to develop or enhance our products, take advantage of future opportunities or respond to competitive pressures or unanticipated requirements. Failure to maintain effective internal control over financial reporting could result in our failure to accurately report our financial results. Any inability to report and file our financial results accurately and timely could harm our business and adversely impact investor confidence in our company and, as a result, the value of our common stock. We are required to evaluate our internal control over financial reporting in connection with Section 404 of the Sarbanes-Oxley Act, and our independent registered public accounting firm is required to attest to the effectiveness of our internal control over financial reporting. This assessment includes the disclosure of any material weaknesses in our internal control over financial reporting identified by our management, as well as our independent registered public accounting firm\\x92s attestation report on our internal control over financial reporting. During the evaluation and testing process, if we identify one or more material weaknesses in our internal control over financial reporting, we will be unable to assert that our internal control over financial reporting is effective. If we are unable to assert that our internal control over financial reporting is effective, or if our independent registered public accounting firm is unable to express an opinion on the effectiveness of our internal control over financial reporting, we could lose investor confidence in the accuracy and completeness of our financial reports, which could have a material adverse effect on the price of our common stock. Anti-takeover provisions contained in our amended and restated certificate of incorporation and amended and restated bylaws, as well as provisions of Delaware law, could impair a takeover attempt. Our amended and restated certificate of incorporation and bylaws, and Delaware law, contain provisions that could have the effect of rendering more difficult or discouraging an acquisition deemed undesirable by our board of directors. Our corporate governance documents include provisions: \\x95 authorizing blank check preferred stock, which could be issued with voting, liquidation, dividend, and other rights superior to our common stock; \\x95 limiting the liability of, and providing indemnification to, our directors and officers; \\x95 limiting the ability of our stockholders to call and bring business before special meetings and to take action by written consent in lieu of a meeting; \\x95 requiring advance notice of stockholder proposals for business to be conducted at meetings of our stockholders and for nominations of candidates for election to our board of directors; \\x95 controlling the procedures for the conduct and scheduling of board of directors and stockholder meetings; \\x95 providing our board of directors with the express power to postpone previously scheduled annual meetings and to cancel previously scheduled special meetings; \\x95 establishing a classified board of directors so that not all members of our board are selected at one time; \\x95 limiting the determination of the number of directors on our board of directors and the filling of vacancies or newly created seats on the board to our board of directors then in office; and \\x95 providing that directors may be removed by stockholders only for cause. 28 Table of Contents These provisions, alone or together, could delay hostile takeovers and changes in control of our company or changes in our management. As a Delaware corporation, we are also subject to provisions of Delaware law, including Section 203 of the Delaware General Corporation Law, which prevents some stockholders holding more than 15% of our outstanding common stock from engaging in certain business combinations without approval of the holders of substantially all of our outstanding common stock. Any provision of our amended and restated certificate of incorporation or bylaws or Delaware law that has the effect of delaying or deterring a change in control could limit the opportunity for our stockholders to receive a premium for their shares of our common stock, and could also affect the price that some investors are willing to pay for our common stock. We record substantial expenses related to our issuance of equity awards that may have a material adverse impact on our operating results for the foreseeable future. We expect our stock-based compensation expenses will continue to be significant in future periods, which will have an adverse impact on our operating results. The model used by us requires the input of highly subjective assumptions, including the price volatility of the option\\x92s underlying stock. If facts and circumstances change and we employ different assumptions for estimating stock-based compensation expense in future periods, or if we decide to use a different valuation model, the future period expenses may differ significantly from what we have recorded in the current period and could materially affect the fair value estimate of stock-based payments, our operating income, net income and net income per share. Failure of our customers to pay the amounts owed to us, or to pay such amounts in a timely manner, may adversely affect our financial condition and operating results. If any of our significant customers have insufficient liquidity, we could encounter significant delays or defaults in payments owed to us by such customers, and we may need to extend our payment terms or restructure the receivables owed to us, which could have a significant adverse effect on our financial condition, including impacting the timing of revenue recognition. Any deterioration in the financial condition of our customers will increase the risk of uncollectible receivables. Global economic uncertainty could also affect our customers\\x92 ability to pay our receivables in a timely manner or at all or result in customers going into bankruptcy or reorganization proceedings, which could also affect our ability to collect our receivables. If we do not successfully manage the transition associated with the resignation of our former Chief Executive Officer (\\x93CEO\\x94) and the appointment of a new CEO, it could be viewed negatively by our customers and shareholders and could have an adverse impact on our business. David Mendels resigned from his position as the Company\\x92s CEO and resigned from the Board effective July 24, 2017. Andrew Feinberg, formerly the Company\\x92s President and Chief Operations Officer, is serving as the Company\\x92s acting CEO. The Board has an active search process underway to select the next CEO from internal and external candidates. Such leadership transitions can be inherently difficult to manage, and an inadequate transition of our CEO may cause disruption to our business, including to our relationships with customers, vendors and employees. In addition, if we are unable to attract and retain a qualified candidate to become our permanent CEO in a timely manner, our ability to meet our financial and operational goals and strategic plans may be adversely impacted, as well as our financial performance. It may also make it more difficult to retain and hire key employees. Changes in interpretations of financial accounting standards may cause an adverse impact to our reported results of operations. In May 2014, the Financial Accounting Standards Board issued new revenue recognition rules under Accounting Standards Codification 606, Revenue from Contracts with Customers, or ASC 606, which is effective 29 Table of Contents for interim and annual periods beginning after December 31, 2017. We have elected to adopt the new standard effective January 1, 2018 using the modified retrospective method. In order to comply with the requirements of ASC 606 on January 1, 2018, we are continuing to update and enhance our internal accounting systems and our internal controls over financial reporting. If we are not successful in updating our policies, procedures, information systems and internal controls over financial reporting, the revenue that we recognize and the related disclosures that we provide under ASC 606 may not be complete or accurate, which could harm our operating results or cause us to fail to meet our reporting obligations. The effect of comprehensive U.S. tax reform legislation on the Company and its affiliates, whether adverse or favorable, is uncertain. On December 22, 2017, President Trump signed into law H.R. 1, \\x93An Act to provide for reconciliation pursuant to titles II and V of the concurrent resolution on the budget for fiscal year 2018\\x94 (informally titled the \\x93Tax Cuts and Jobs Act\\x94). Among a number of significant changes to the U.S. federal income tax rules, the Tax Cuts and Jobs Act reduces the marginal U.S. corporate income tax rate from 35% to 21%, limits the deduction for net interest expense, shifts the United States toward a more territorial tax system, and imposes new taxes to combat erosion of the U.S. federal income tax base. The effect of the Tax Cuts and Jobs Act on the Company and its affiliates, whether adverse or favorable, is uncertain, and may not become evident for some period of time.'"
            ],
            "application/vnd.google.colaboratory.intrinsic+json": {
              "type": "string"
            }
          },
          "metadata": {},
          "execution_count": 73
        }
      ]
    },
    {
      "cell_type": "code",
      "source": [
        "type(df_item1a_split_1['cleanTextNew'])"
      ],
      "metadata": {
        "colab": {
          "base_uri": "https://localhost:8080/"
        },
        "id": "NHAbtFN6HkEB",
        "outputId": "e0996610-7131-4c64-c8dc-21196849bc3e"
      },
      "execution_count": 37,
      "outputs": [
        {
          "output_type": "execute_result",
          "data": {
            "text/plain": [
              "pandas.core.series.Series"
            ]
          },
          "metadata": {},
          "execution_count": 37
        }
      ]
    },
    {
      "cell_type": "code",
      "source": [
        "from gensim.parsing.preprocessing import remove_stopwords"
      ],
      "metadata": {
        "id": "UUfaeQZRBZd5"
      },
      "execution_count": 116,
      "outputs": []
    },
    {
      "cell_type": "code",
      "source": [
        "# def preprocess(sentence):\n",
        "#     sentence=str(sentence)\n",
        "#     sentence = sentence.lower()\n",
        "#     # print(sentence)\n",
        "#     pat = r'[^a-zA-z0-9.,!?/:;\\\"\\'\\s]' \n",
        "#     text = re.sub(pat, '', sentence)\n",
        "#     text_2 = ''.join([c for c in text if c not in string.punctuation])\n",
        "#     filtered_sentence = remove_stopwords(text)\n",
        "#     # pattern = r'^\\s*|\\s\\s*'\n",
        "#     # text_4 = re.sub(pattern, ' ', text_2).strip()\n",
        "#     # return text_2\n",
        "#     return filtered_sentence\n",
        "\n",
        "\n",
        "def preprocess(sentence):\n",
        "    sentence=str(sentence)\n",
        "    sentence = sentence.lower()\n",
        "    pat = r'[^a-zA-z0-9.,!?/:;\\\"\\'\\s]' \n",
        "    text = re.sub(pat, '', sentence)\n",
        "    text_2 = ''.join([c for c in text if c not in string.punctuation])\n",
        "    stemmer = nltk.porter.PorterStemmer()\n",
        "    text_3 = ' '.join([stemmer.stem(word) for word in text_2.split()])\n",
        "    pattern = r'^\\s*|\\s\\s*'\n",
        "    text_4 = re.sub(pattern, ' ', text_2).strip()\n",
        "    tokenizer = RegexpTokenizer(r'\\w+')\n",
        "    tokens = tokenizer.tokenize(text_4)  \n",
        "\n",
        "    filtered_words = [w for w in tokens if len(w) > 2 if not w in stopwords.words('english')]\n",
        "\n",
        "    # stem_words=[stemmer.stem(w) for w in filtered_words]\n",
        "    # lemma_words=[lemmatizer.lemmatize(w) for w in stem_words]\n",
        "\n",
        "    return \" \".join(filtered_words)\n",
        "    # return text_4"
      ],
      "metadata": {
        "id": "oOPn7Bi9H_46"
      },
      "execution_count": 6,
      "outputs": []
    },
    {
      "cell_type": "code",
      "source": [
        "start_time = time.time()\n",
        "df_item1a_split_1['item1a'] = df_item1a_split_1['item1a'].astype(str).map(lambda s:preprocess(s)) \n",
        "print(\"--- %s hrs ---\" % ((time.time() - start_time) / 3600))"
      ],
      "metadata": {
        "id": "0snOcAMGBZRc"
      },
      "execution_count": null,
      "outputs": []
    },
    {
      "cell_type": "code",
      "source": [
        "df_item1a_split_1.to_csv('/content/drive/MyDrive/amf_data/item1a_split1_cleaned.csv', index=False, encoding='utf-8')"
      ],
      "metadata": {
        "id": "vzHCgNnbZU_N"
      },
      "execution_count": null,
      "outputs": []
    },
    {
      "cell_type": "code",
      "source": [
        "df_item1a_split_1['item1a'].iloc[0]"
      ],
      "metadata": {
        "colab": {
          "base_uri": "https://localhost:8080/",
          "height": 140
        },
        "id": "AGYr8EGJPdN9",
        "outputId": "eb77619a-89f2-4b89-8f11-8729e96164f2"
      },
      "execution_count": 120,
      "outputs": [
        {
          "output_type": "execute_result",
          "data": {
            "text/plain": [
              "'item 1a. risk factors carefully review risk factors described described reports file securities exchange commission, information contained annual report form 10k, evaluating business. business, prospects, financial condition, operating results harmed risks, risks currently known currently consider immaterial. risks uncertainties actually occurs, business, financial condition operating results differ materially plans, projections forwardlooking statements included section titled managements discussion analysis financial condition results operations report public filings. trading price common stock decline risks, and, result, lose investment. history losses, expect continue incur losses achieve sustain profitability future. incurred significant losses fiscal year inception 2004. experienced consolidated net loss 7.6 million year ended december 31, 2015, consolidated net loss 10.0 million year ended december 31, 2016 consolidated net loss 19.5 million year ended december 31, 2017. losses substantial investments build products services, grow maintain business acquire customers. key elements growth strategy include acquiring new customers continuing innovate build brand. result, expect operating expenses increase future expected increased sales marketing expenses, operations 13 table contents costs, research development costs general administrative costs and, therefore, operating losses continue potentially increase foreseeable future. addition, public company incur significant legal, accounting expenses incur private company. furthermore, extent successful increasing customer base, incur increased expenses costs associated generating supporting customer agreements generally incurred front, revenue generally recognized ratably committed term agreement. rely recent bookings revenue growth indicative future performance. assure reach profitability future specific time future that, profitable, sustain profitability. ultimately unable generate sufficient revenue meet financial targets, profitable sustainable positive cash flows, investors lose investment. substantially revenue historically come single product, video cloud. historically substantially dependent revenue single product, video cloud, expect revenue video cloud continue comprise significant portion revenue. business harmed decline market video cloud, increased competition market online video platforms, failure inability provide sufficient investment support video cloud needed maintain grow competitive position. unable retain existing customers, revenue results operations adversely affected. sell products pursuant agreements generally annual terms. customers obligation renew subscriptions subscription period expires, experienced losses customers elected renew, cases, reasons control. example, largest customer 2016 faced distressing financial circumstances and, result, lost substantially revenue expected generate customer 2017. addition, subscriptions renewed, renewed profitable terms. result, ability retain existing customers grow depends subscription renewals. able accurately predict future trends customer renewals, customers renewal rates continue decline fluctuate factors, including satisfaction dissatisfaction services, cost services cost services offered competitors, reductions customers spending levels introduction competitors attractive features functionality. customer retention rate decreases, need increase rate add new customers order maintain grow revenue, require incur significantly higher advertising marketing expenses currently anticipate, revenue decline. customers renew subscriptions services, renew favorable terms, purchase additional functionality subscriptions, revenue grow slowly expected decline, profitability gross margins harmed affected. long term financial targets predicated bookings revenue growth operating margin improvements fail achieve, reduce expected earnings cause fail meet expectations analysts investors cause price securities decline. projecting longterm bookings, revenue earnings growth. projections based expected growth potential premium customer base, market ondemand software solutions generally. achieve expected bookings revenue growth markets serve grow expected rates, customers purchase renew subscriptions expect, and/or able deliver products desired customers potential customers. longterm operating margin improvement targets predicated operating leverage long term revenue increases improved operating efficiencies moving additional cloudbased delivery services, lower cost goods sold, research development expenses general administrative expenses percentage total revenue. operating margins improve, earnings adversely affected price securities decline. 14 table contents actual market solutions significantly smaller estimates total potential market opportunity, customer demand services meet expectations, ability generate revenue meet financial targets adversely affected. expect strong growth markets products, possible growth markets meet expectations, materialize all. methodology estimate total potential market opportunity based includes key assumptions based industry knowledge customer experience. assumptions proves inaccurate, actual market solutions significantly smaller estimates total potential market opportunity. customer demand services adoption rate target markets meet expectations, ability generate revenue customers meet financial targets adversely affected. business substantially dependent continued growth market ondemand software solutions. derive, expect continue derive, substantially revenue sale ondemand solutions. result, widespread acceptance use ondemand business model critical future growth success. perpetual periodic license model software procurement, users software typically install operate applications hardware. companies generally predisposed maintaining control information technology, it, systems infrastructure, resistance concept accessing software service provided party. addition, market ondemand software solutions evolving, competitive dynamics cause pricing levels change market matures existing new market participants introduce new types solutions different approaches enable organizations address technology needs. result, forced reduce prices charge products unable renew existing customer agreements enter new customer agreements prices terms historically. market ondemand software solutions fails grow, grows slowly currently anticipate evolves forces reduce prices charge products, bookings growth, revenue, gross margin operating results materially adversely affected. operating results fluctuate quarter quarter, difficult predict. quarterly operating results tied certain financial operational metrics fluctuated past fluctuate significantly future. result, rely past quarterly operating results indicators future performance. operating results depend numerous factors, outside control. addition risks described risk factors section, following risks cause operating results fluctuate: ability retain existing customers attract new customers; rates customers renew; revenue generated customers use products services excess committed contractual entitlements; timing costs new existing marketing advertising efforts; timing operating costs capital expenditures relating expansion business, operations infrastructure; cost timing development introduction new product service offerings competitors; service failures, security breaches network downtime. 15 table contents relatively short operating history relatively new rapidly developing market, makes difficult evaluate business future prospects. business relatively short operating history market products services relatively new rapidly developing, makes difficult evaluate business future prospects. existence 2004, growth occurred recent periods. encountered, continue encounter, risks difficulties frequently experienced growing companies rapidly changing industries, including related to: market acceptance current future products services; customer renewal rates; ability compete companies currently in, future enter, market products; ability successfully expand business, especially internationally; ability control costs, including operating expenses; timing operating expenses, particularly sales marketing expenses, related maintenance expansion business, operations infrastructure; network outages security breaches associated expenses; foreign currency exchange rate fluctuations; writedowns, impairment charges unforeseen liabilities connection acquisitions; ability successfully manage acquisitions; general economic political conditions domestic international markets. manage risks successfully, business harmed. longterm success depends, part, ability expand sales products customers located outside united states, business susceptible risks associated international sales operations. currently maintain offices sales personnel australia, france, india, japan, singapore, south korea, spain, united arab emirates united kingdom, intend expand international operations. international expansion efforts undertake successful. addition, conducting international operations subjects new risks generally faced united states. risks include: unexpected costs errors localization products, including translation foreign languages adaptation local practices regulatory requirements; lack familiarity burdens complying foreign laws, legal standards, regulatory requirements, tariffs, barriers; unexpected changes regulatory requirements, taxes, trade laws, tariffs, export quotas, custom duties trade restrictions; difficulties managing systems integrators technology partners; differing technology standards; longer accounts receivable payment cycles difficulties collecting accounts receivable; difficulties managing staffing international operations differing employer/employee relationships; 16 table contents fluctuations exchange rates increase volatility foreignbased revenue; potentially adverse tax consequences, including complexities foreign value added tax tax systems restrictions repatriation earnings; uncertain political economic climates; reduced varied protection intellectual property rights countries. factors cause costs business geographies exceed comparable domestic costs. operating international markets requires significant management attention financial resources. negative impact international business efforts negatively impact business, results operations financial condition whole. rapid technological change remain competitive rapidly evolving industry. markets characterized rapid technological change, frequent new product service introductions evolving industry standards. future success depend ability adapt quickly rapidly changing technologies, adapt services products evolving industry standards improve performance reliability services products. achieve market acceptance products, effectively anticipate offer products meet changing customer demands timely manner. customers require features functionality current products have. fail develop products satisfy customer preferences timely costeffective manner, ability renew contracts existing customers ability create increase demand products harmed. experience difficulties software development, industry standards, design marketing delay prevent development, introduction implementation new products enhancements. introduction new products competitors, emergence new industry standards development entirely new technologies replace existing offerings render existing future products obsolete. unable successfully develop acquire new features functionality, enhance existing products anticipate meet customer requirements sell products new markets, bookings growth, revenue results operations adversely affected. face significant competition unsuccessful current future competitors. compete effectively, operating results future growth harmed. compete video sharing sites, inhouse solutions, online video platforms certain niche technology providers, larger companies offer multiple services, including substitute services products. competition intense markets and, introduction new technologies market entrants, expect competition intensify future. addition, competitors acquisitions, acquired, enter strategic relationships offer comprehensive service do. combinations difficult compete effectively. expect trends continue competitors attempt strengthen maintain market positions. demand services sensitive price. factors, including advertising, customer acquisition technology costs, commoditization products services current future competitors pricing marketing strategies, significantly affect pricing strategies. assurance forced engage pricecutting initiatives, increase advertising expenses attract retain customers response competitive pressures, material adverse effect revenue, operating results resources. likely encounter significant, growing competition business sources, including portals digital media retailers, search engines, social networking consumersharing services companies, 17 table contents broadband media distribution platforms, technology suppliers, direct broadcast satellite television service companies digital traditional cable systems. present likely future competitors substantially greater financial, marketing, technological resources do. companies choose offer services competitive cost strategy attract retain customers services. technological commercial developments lead increasing commoditization products services, including data delivery storage, increasing downward pressure prices charge. unable compete successfully traditional emerging providers competing services, business, financial condition results operations adversely affected. depend experience expertise executive officers, senior management team key technical employees, loss key employee adverse effect business, financial condition results operations. success depends continued service executive officers, senior management team key technical employees, ability continue attract retain additional highly qualified personnel. executive officers, senior management team, key technical personnel employees terminate relationship time. loss member senior management team key personnel significantly delay prevent achievement business objectives materially harm business customer relationships. addition, nature business, loss significant number existing engineering, project management sales personnel adverse effect business, financial condition results operations. business operations experienced rapid growth organizational change recent periods, placed, continue place, significant demands management infrastructure. fail manage growth effectively successfully recruit additional highlyqualified employees, unable execute business plan, maintain high levels service address competitive challenges adequately. increased number fulltime employees 413 december 31, 2015, 490 december 31, 2016 498 december 31, 2017, revenue grew 134.7 million 2015 150.3 million 2016 155.9 million 2017. headcount operations grown, domestically internationally, inception. growth placed, continue place, significant strain management, administrative, operational financial infrastructure. anticipate growth required address increases product service offerings continued international expansion. success depend ability senior management team manage growth effectively. so, continue recruit, hire, train, manage integrate significant number qualified managers, technical personnel employees specialized roles company, including technology, sales marketing. new employees perform poorly, unsuccessful recruiting, hiring, training, managing integrating new employees, retaining existing employees, business suffer. addition, manage expected continued growth headcount, operations geographic expansion, need continue improve information technology infrastructure, operational, financial management systems procedures. expected additional headcount capital investments increase costs, difficult address future revenue shortfalls reducing expenses short term. fail successfully manage growth unable successfully execute business plan, negative impact business, financial condition results operations. 18 table contents potential future acquisitions difficult integrate, divert attention key personnel, disrupt business, dilute stockholder value impair financial results. business strategy, intend consider acquisitions companies, technologies products believe accelerate ability compete core markets allow enter new markets. acquisitions involve numerous risks, harm business, including: difficulties integrating technologies, products, operations existing contracts target company realizing anticipated benefits combined businesses; difficulties integrating personnel target company; difficulties supporting transitioning customers, any, target company; diversion financial management resources existing operations; price pay resources devote exceed value realize, value realized allocated purchase price resources opportunity; risks entering new markets limited experience; potential loss key employees, customers strategic alliances current business target companys business; inability generate sufficient revenue offset acquisition costs. acquisitions frequently result recording goodwill intangible assets subject potential impairments future harm financial results. addition, finance acquisitions issuing equity securities, existing stockholders diluted. result, fail properly evaluate acquisitions investments, achieve anticipated benefits acquisitions, incur costs excess anticipate. failure successfully evaluate execute acquisitions investments adequately address risks materially harm business financial results. experience delays product service development, including delays control, prevent achieving growth objectives hurt business. problems, delays expenses encounter control. problems include, limited to, problems related technical development products services, problems infrastructure distribution delivery online media, competitive environment operate, marketing problems, consumer advertiser acceptance costs expenses exceed current estimates. problems, delays expenses areas negative impact business, financial conditions results operations. delays timely design, development, deployment commercial operation product service offerings, consequently achievement revenue targets positive cash flow, result variety causes, including causes control. delays include, limited to, delays integration new offers existing offering, changes products services correct enhance features, performance marketability response regulatory developments otherwise, delays encountered development, integration testing products services infrastructure distribution delivery online media systems, unsuccessful commercial launches new products services, delays ability obtain financing, insufficient ineffective marketing efforts slowerthananticipated consumer acceptance products. delays matters hinder prevent achievement growth objectives hurt business. assurance current cost internet connectivity network access rise increasing popularity online media services. rely thirdparty service providers principal connections internet network access, deliver media consumers. demand online media increases, assurance internet 19 table contents network service providers continue price network access services reasonable terms. distribution online media requires delivery digital content files providers network access distribution change business models increase prices significantly, slow widespread adoption services. order services successful, reasonable price model place allow continuous distribution digital media files. limited control extent circumstances occur, network access distribution prices rise, business, financial condition results operations likely adversely affected. failure infrastructure distribution delivery online media adversely affect business. success business depends, large part, ability provide consistently highquality digital experience consumers relationships infrastructure distribution delivery online media generally. guarantee relationships infrastructure experience problems performance issues, seriously impair quality reliability delivery digital media end users. example, primarily use content delivery networks, cdns, deliver content end users. cdns experience sustained technical failures, cause delays service lose customers. accurately predict infrastructure capacity requirements, customers experience service outages service degradation subject financial penalties liabilities result customer losses. past have, limited occasions, suffered temporary interruptions certain aspects service, including customers ability upload new content system, customers ability access administrative control accounts, ability deliver content end users certain geographic locations. service interruptions results human error, hardware software failures failures thirdparty networks. limited number occasions, service interruptions required provide service credits customers. guarantee service interruptions occur predict duration interruptions service impact interruptions customers. failures interruptions service impact reputation, result payment compensation service credits customers, result loss customers adversely affect financial results ability grow business. addition, hosting infrastructure capacity fails pace increased sales delivery capabilities fail, customers experience delays seek obtain additional capacity enable alternative delivery capability, harm reputation adversely affect revenue growth. difficulty scaling adapting existing infrastructure accommodate increased traffic storage, technology advances customer requirements. future, advances technology, increases traffic storage, new customer requirements require change infrastructure, expand infrastructure replace infrastructure entirely. scaling adapting infrastructure likely complex require additional technical expertise. required changes infrastructure, incur substantial costs experience delays interruptions service. delays interruptions cause customers partners dissatisfied service competing service providers. failure accommodate increased traffic storage, increased costs, inefficiencies failures adapt new technologies customer requirements associated adjustments infrastructure harm business, financial condition results operations. rely software services licensed parties. loss software services parties increase costs limit features available products services. components service product offerings include types software services licensed unaffiliated parties. software services license functional equivalents thereof longer available longer offered commercially reasonable terms, 20 table contents required redesign services products function software services available parties develop components ourselves. case, transition new service provider internallydeveloped solution result increased costs result delays product launches release new service product offerings. furthermore, forced temporarily limit features available current future products services. fail maintain renegotiate software service licenses, face significant delays diversion resources attempting license integrate functional equivalents. software products contain errors defects, lose revenue market acceptance incur costs defend settle claims. complex software applications contain errors defects, particularly introduced new versions enhancements released. despite internal testing testing customers, current future products contain defects, result lost revenue, lost customers, slower growth delay market acceptance. customers use products critical business applications, online video, errors, defects performance problems result damage customers. seek significant compensation losses suffer. customer agreements typically contain provisions designed limit exposure claims, existing future laws unfavorable judicial decisions negate limitations. successful, claim brought likely timeconsuming costly seriously damage reputation marketplace, making harder sell products. unauthorized disclosure data, unauthorized access service misuse service adversely affect business. security breaches, unauthorized access, unauthorized usage, virus similar breach disruption result loss confidential information, personal data customer content, damage reputation, early termination contracts, litigation, regulatory investigations, increased costs liabilities. security measures, partners service providers, breached result thirdparty action, employee error, malfeasance and, result, obtains unauthorized access confidential information, personal data customer content, reputation damaged, business suffer incur significant liability. measures place limit restrict access use functionality, usage entitlements support customers prospective customers breached, circumvented ineffective result thirdparty action, employee error, malfeasance and, result, obtains unauthorized access use functionality, usage entitlements support, business suffer incur significant liability and/or costs. techniques obtain unauthorized access use sabotage systems change frequently generally recognized launched target. result, unable anticipate techniques implement adequate preventative measures. actual perceived security breach occurs, market perception security measures harmed lose sales customers. significant violations data privacy unauthorized disclosure information result loss business, litigation regulatory investigations penalties damage reputation adversely impact results operations financial condition. moreover, security breach occurs respect software service, saas, provider, customers potential customers lose trust security saas business model generally, adversely impact ability retain existing customers attract new ones. use limited number data centers cloud computing services facilities deliver services. disruption service facilities harm business. manage services serve customers limited number thirdparty data center facilities cloud computing services facilities. control actual storage systems 21 table contents software runs, deploy data center facilities, control operation facilities. owners facilities obligation renew agreements commercially reasonable terms, all. unable renew agreements commercially reasonable terms, required transfer new facilities, incur significant costs possible service interruption connection so. changes thirdparty service levels facilities errors, defects, disruptions performance problems related facilities affect services harm reputation damage customers businesses. interruptions services reduce revenue, cause issue credits customers, subject potential liability, cause customers terminate subscriptions harm renewal rates. facilities vulnerable damage service interruption resulting human error, intentional bad acts, security breaches, earthquakes, hurricanes, floods, fires, war, terrorist attacks, power losses, hardware failures, systems failures, telecommunications failures similar events. example, september 18, 2014, suffered service disruption resulting distributed denialofservice attack thirdparty data center facilities us. september 20, 2014, restored services impacted attack. contacted federal law enforcement authorities denialofservice attack cooperated them. conducted assessment internet service providers data center providers, potential future vulnerability malicious activity, sufficiency infrastructure withstand recover rapidly attacks. matter material adverse effect operating results, assurance incidents occur again, occur frequently significant scale. occurrence natural disaster act terrorism, vandalism misconduct, decision close facilities adequate notice unanticipated problems result lengthy interruptions services. business adversely affected thirdparty claims, including governmental bodies, content advertising distributed service. rely customers secure rights redistribute content internet, screen content distributed service. assurance customers licensed rights necessary distribution, including internet distribution. parties claim certain rights content customers. event customers necessary distribution rights related content, required cease distributing content, subject lawsuits claims damages infringement rights. claims arise frequency, likelihood business adversely affected rise significantly. cases, rights indemnification claims customers appropriate distribution rights related specific content items, assurance successful claim. operate open publishing platform screen content distributed service. content distributed platform illegal unlawful international, federal, state local laws laws countries. face lawsuits, claims criminal charges distribution, subject civil, regulatory criminal sanctions damages distribution. claims investigations adversely affect business, financial condition results operations. 22 table contents incur substantial costs result claim infringement partys intellectual property rights. recent years, significant litigation united states involving patents intellectual property rights. companies providing internetrelated products services increasingly bringing subject suits alleging infringement proprietary rights, particularly patent rights. risks amplified increase parties sole primary business assert claims, sent letters and/or filed suit alleging infringement customers. time time, parties claim infringing intellectual property rights. information claims, i, item 3, legal proceedings. incur substantial costs prosecuting defending intellectual property litigation. additionally, defense prosecution claims timeconsuming, divert managements attention away execution business plan. moreover, settlement adverse judgment resulting claim require pay substantial amounts obtain license continue use technology subject claim, restrict prohibit use technology. assurance able obtain license party asserting claim commercially reasonable terms, all, able develop alternative technology timely basis, all, able obtain license use suitable alternative technology permit continue offering, customers continue using, affected product service. addition, required indemnify customers thirdparty intellectual property infringement claims, increase cost us. adverse determination prevent offering products services others. infringement claims asserted adverse effect business, financial condition results operations. agreements customers include contractual obligations indemnify claims products infringe intellectual property rights parties. results intellectual property litigation party, required provide indemnification, force following: cease selling products services incorporate challenged intellectual property; substantial payments costs damages; obtain license, available reasonable terms, sell use relevant technology; redesign products services avoid infringement. required substantial payments undertake actions noted result intellectual property infringement claims obligation indemnify customers claims, payments costs material adverse effect business financial results. failure adequately protect intellectual property substantially harm business operating results. business depends substantially intellectual property, protection intellectual property rights important success business. rely combination trademark, patent, trade secret copyright law contractual restrictions protect intellectual property. afford limited protection. despite efforts protect property rights, unauthorized parties attempt copy aspects products, service, software functionality obtain use information consider proprietary. moreover, policing proprietary rights difficult effective. addition, need enforce rights laws countries protect proprietary rights great extent laws united states. litigation proceedings u.s. patent trademark office governmental authorities administrative bodies united states abroad necessary future enforce 23 table contents intellectual property rights, protect patent rights, trade secrets, trademarks domain names, determine validity scope proprietary rights others. litigation proceedings costly impact financial performance. incur substantial costs defending frivolous litigation asked indemnify customers same. efforts enforce protect proprietary rights prove ineffective result substantial costs diversion resources substantially harm operating results. exposure risks associated use intellectual property increase result acquisitions, opportunity visibility development process respect acquired technology care taken safeguard infringement risks. parties infringement similar related claims acquired technology asserted prior acquisition. confidentiality agreements employees adequately prevent disclosure trade secrets proprietary information. devoted substantial resources development technology, business operations business plans. order protect trade secrets proprietary information, rely significant confidentiality agreements employees, licensees, independent contractors, advisers customers. agreements effective prevent disclosure confidential information, including trade secrets, provide adequate remedy event unauthorized disclosure confidential information. addition, independently discover trade secrets proprietary information, cases able assert trade secret rights parties. extent employees business use intellectual property owned work us, disputes arise rights related resulting knowhow inventions. laws trade secret rights certain markets operate afford little protection trade secrets. loss trade secret protection easier parties compete products copying functionality. addition, changes in, unexpected interpretations of, trade secret intellectual property laws country operate compromise ability enforce trade secret intellectual property rights. costly timeconsuming litigation necessary enforce determine scope proprietary rights, failure obtain maintain trade secret protection adversely affect competitive business position. use open source software negatively affect ability sell services subject possible litigation. portion technology licensed incorporates open source software, incorporate open source software future. open source software generally licensed authors parties open source licenses. fail comply licenses, subject certain conditions, including requirements offer services incorporate open source software cost, available source code modifications derivative works create based upon, incorporating open source software license modifications alterations terms particular open source license. author party distributes open source software allege complied conditions licenses, required incur significant legal expenses defending allegations subject significant damages, enjoined sale services contained open source software required comply foregoing conditions, disrupt distribution sale services. fluctuations exchange rate foreign currencies result currency translation losses. currently foreign sales denominated australian dollars, british pound sterling, euros, japanese yen new zealand dollars may, future, sales denominated currencies additional countries establish established sales offices. addition, incur portion operating 24 table contents expenses british pound sterling, euros, japanese yen and, lesser extent, foreign currencies. fluctuation exchange rate foreign currencies negatively impact business, financial condition operating results. previously engaged foreign currency hedging. decide hedge foreign currency exposure, able hedge effectively lack experience, unreasonable costs illiquid markets. required collect sales use taxes services sell additional jurisdictions future, decrease sales, subject liability sales use taxes related penalties prior sales. state local taxing jurisdictions differing rules regulations governing sales use taxes rules regulations subject varying interpretations change time. particular, applicability sales use taxes subscription services jurisdictions unclear. assure subject sales use taxes related penalties past sales states presently believe sales use taxes due. reserve estimated sales use taxes financial statements certain sufficient reserves cover taxes assessed. taxing authorities determines taxes have, not, paid respect services, liable past taxes addition required collect sales similar taxes respect services going forward. liability past taxes include substantial penalty charges. client contracts typically provide clients pay applicable sales similar taxes. nevertheless, clients reluctant pay taxes refuse responsibility penalties associated taxes determine feasible seek reimbursement. required collect pay taxes associated penalties clients reimburse portion amounts, incur unplanned expenses substantial. moreover, imposition taxes services going forward effectively increase cost services clients adversely affect ability retain existing clients gain new clients areas taxes imposed. government industry regulation internet evolving directly restrict business indirectly affect business limiting growth markets. unfavorable changes government regulation failure comply regulations harm business operating results. federal, state foreign governments agencies adopted future adopt regulations covering issues user privacy, content, taxation products services. government regulations limit market products services impose burdensome requirements render business unprofitable. products enable customers collect, manage store wide range data. united states state governments adopted proposed limitations collection, distribution use personal information. foreign jurisdictions, including european union united kingdom, adopted legislation including directives regulations increase change requirements governing data collection storage jurisdictions. privacy data security measures fail comply current future laws regulations, subject litigation, regulatory investigations liabilities, customers terminate relationships us. addition, regulations apply business directly, expect laws regulating solicitation, collection processing personal consumer information affect customers ability use share data, potentially reducing demand services. telecommunications act 1996 european union data protection directive similar laws regulations prohibit certain types information content transmitted internet. scope prohibition liability associated violation currently unsettled. addition, substantial portions communications decency act held unconstitutional, certain similar 25 table contents legislation enacted upheld future. legislation like telecommunications act communications decency act dampen growth web usage decrease acceptance medium communications commerce. moreover, future laws regulations limit customers ability use share consumer data ability store, process share data customers internet, demand products decrease, costs increase, results operations financial condition harmed. addition, taxation services provided internet charges imposed government agencies private organizations accessing internet imposed. regulation imposing greater fees internet use restricting information exchange internet result decline use internet viability internetbased services, harm business operating results. stock price volatile likely volatile future. market price common stock likely highly volatile subject significant fluctuations response to, things, risk factors described report factors control. market prices securities early stage companies historically particularly volatile. some, all, factors cause market price common stock fluctuate include: fluctuations quarterly annual financial results quarterly annual financial results companies perceived similar relevant business; changes estimates financial results recommendations securities analysts; failure products achieve maintain market acceptance; changes market valuations similar relevant companies; success competitive service offerings technologies; changes capital structure, issuance securities incurrence debt; announcements competitors significant services, contracts, acquisitions strategic alliances; regulatory developments united states, foreign countries, both; litigation; additions departures key personnel; investors general perceptions; changes general economic, industry market conditions. addition, market technology stocks, stock market general, experiences loss investor confidence, trading price common stock decline reasons unrelated business, financial condition, results operations. foregoing occurs, cause stock price fall expose lawsuits that, unsuccessful, costly defend distraction management. business operations adversely affected subject stockholder activism, cause incur significant expense impact market price common stock. recent years, proxy contests forms stockholder activism directed numerous public companies. stockholder activism, including potential proxy contests, result substantial costs divert attention management board directors resources business. activist 26 table contents campaigns create perceived uncertainties future direction, strategy leadership result loss potential business opportunities harm ability attract new customers, employees investors. addition, required incur significant legal fees expenses related activist stockholder matters. further, market price common stock subject significant fluctuation adversely affected events, risks, uncertainties stockholder activism. securities industry analysts publish, cease publishing, research reports us, business market, adversely change recommendations stock, stock price trading volume decline. trading market common stock influenced research reports industry security analysts publish us, business, market competitors. analysts cover adversely change recommendations stock, provide favorable relative recommendations competitors, stock price likely decline. analyst cover cease coverage company fail regularly publish reports us, lose visibility financial markets, turn cause stock price trading volume decline. emerging growth company certain reduced disclosure requirements applicable emerging growth companies common stock attractive investors. emerging growth company, defined jumpstart business startups act 2012, jobs act, advantage certain exemptions reporting requirements applicable public companies emerging growth companies including, limited to, reduced disclosure obligations executive compensation periodic reports proxy statements exemptions requirements holding nonbinding advisory vote executive compensation shareholder approval golden parachute payments previously approved. predict investors common stock attractive rely exemptions. investors common stock attractive result, active trading market common stock stock price volatile. advantage reporting exemptions longer emerging growth company. addition, section 107 jobs act provides emerging growth company advantage extended transition period provided section 7a2b securities act complying new revised accounting standards. words, emerging growth company delay adoption certain accounting standards standards apply private companies. however, chose opt extended transition period, result, comply new revised accounting standards relevant dates adoption standards required nonemerging growth companies. section 107 jobs act provides decision opt extended transition period complying new revised accounting standards irrevocable. expect declare dividends foreseeable future. anticipate declaring dividends holders common stock foreseeable future. consequently, investors need rely sales common stock price appreciation, occur, way realize future gains investment. investors seeking dividends purchase common stock. unable meet future capital requirements, limit ability grow. believe existing cash cash equivalents sufficient meet anticipated working capital capital expenditure needs 12 months. may, however, need, elect seek, additional funding time. extent existing resources insufficient fund business 27 table contents operations, future activities expansion service product offerings, developing sustaining relationships infrastructure distribution delivery digital media online, marketing, supporting office facilities, need raise additional funds equity debt financing. additional funds available terms favorable stockholders. furthermore, issue equity securities, stockholders experience additional dilution new equity securities rights, preferences privileges senior existing classes stock. raise funds acceptable terms, able develop enhance products, advantage future opportunities respond competitive pressures unanticipated requirements. failure maintain effective internal control financial reporting result failure accurately report financial results. inability report file financial results accurately timely harm business adversely impact investor confidence company and, result, value common stock. required evaluate internal control financial reporting connection section 404 sarbanesoxley act, independent registered public accounting firm required attest effectiveness internal control financial reporting. assessment includes disclosure material weaknesses internal control financial reporting identified management, independent registered public accounting firms attestation report internal control financial reporting. evaluation testing process, identify material weaknesses internal control financial reporting, unable assert internal control financial reporting effective. unable assert internal control financial reporting effective, independent registered public accounting firm unable express opinion effectiveness internal control financial reporting, lose investor confidence accuracy completeness financial reports, material adverse effect price common stock. antitakeover provisions contained amended restated certificate incorporation amended restated bylaws, provisions delaware law, impair takeover attempt. amended restated certificate incorporation bylaws, delaware law, contain provisions effect rendering difficult discouraging acquisition deemed undesirable board directors. corporate governance documents include provisions: authorizing blank check preferred stock, issued voting, liquidation, dividend, rights superior common stock; limiting liability of, providing indemnification to, directors officers; limiting ability stockholders bring business special meetings action written consent lieu meeting; requiring advance notice stockholder proposals business conducted meetings stockholders nominations candidates election board directors; controlling procedures conduct scheduling board directors stockholder meetings; providing board directors express power postpone previously scheduled annual meetings cancel previously scheduled special meetings; establishing classified board directors members board selected time; limiting determination number directors board directors filling vacancies newly created seats board board directors office; providing directors removed stockholders cause. 28 table contents provisions, together, delay hostile takeovers changes control company changes management. delaware corporation, subject provisions delaware law, including section 203 delaware general corporation law, prevents stockholders holding 15 outstanding common stock engaging certain business combinations approval holders substantially outstanding common stock. provision amended restated certificate incorporation bylaws delaware law effect delaying deterring change control limit opportunity stockholders receive premium shares common stock, affect price investors willing pay common stock. record substantial expenses related issuance equity awards material adverse impact operating results foreseeable future. expect stockbased compensation expenses continue significant future periods, adverse impact operating results. model requires input highly subjective assumptions, including price volatility options underlying stock. facts circumstances change employ different assumptions estimating stockbased compensation expense future periods, decide use different valuation model, future period expenses differ significantly recorded current period materially affect fair value estimate stockbased payments, operating income, net income net income share. failure customers pay amounts owed us, pay amounts timely manner, adversely affect financial condition operating results. significant customers insufficient liquidity, encounter significant delays defaults payments owed customers, need extend payment terms restructure receivables owed us, significant adverse effect financial condition, including impacting timing revenue recognition. deterioration financial condition customers increase risk uncollectible receivables. global economic uncertainty affect customers ability pay receivables timely manner result customers going bankruptcy reorganization proceedings, affect ability collect receivables. successfully manage transition associated resignation chief executive officer ceo appointment new ceo, viewed negatively customers shareholders adverse impact business. david mendels resigned position companys ceo resigned board effective july 24, 2017. andrew feinberg, companys president chief operations officer, serving companys acting ceo. board active search process underway select ceo internal external candidates. leadership transitions inherently difficult manage, inadequate transition ceo cause disruption business, including relationships customers, vendors employees. addition, unable attract retain qualified candidate permanent ceo timely manner, ability meet financial operational goals strategic plans adversely impacted, financial performance. difficult retain hire key employees. changes interpretations financial accounting standards cause adverse impact reported results operations. 2014, financial accounting standards board issued new revenue recognition rules accounting standards codification 606, revenue contracts customers, asc 606, effective 29 table contents interim annual periods beginning december 31, 2017. elected adopt new standard effective january 1, 2018 modified retrospective method. order comply requirements asc 606 january 1, 2018, continuing update enhance internal accounting systems internal controls financial reporting. successful updating policies, procedures, information systems internal controls financial reporting, revenue recognize related disclosures provide asc 606 complete accurate, harm operating results cause fail meet reporting obligations. effect comprehensive u.s. tax reform legislation company affiliates, adverse favorable, uncertain. december 22, 2017, president trump signed law h.r. 1, act provide reconciliation pursuant titles ii v concurrent resolution budget fiscal year 2018 informally titled tax cuts jobs act. number significant changes u.s. federal income tax rules, tax cuts jobs act reduces marginal u.s. corporate income tax rate 35 21, limits deduction net expense, shifts united states territorial tax system, imposes new taxes combat erosion u.s. federal income tax base. effect tax cuts jobs act company affiliates, adverse favorable, uncertain, evident period time.'"
            ],
            "application/vnd.google.colaboratory.intrinsic+json": {
              "type": "string"
            }
          },
          "metadata": {},
          "execution_count": 120
        }
      ]
    },
    {
      "cell_type": "code",
      "source": [
        ""
      ],
      "metadata": {
        "id": "au4Q_BX4RYhw"
      },
      "execution_count": null,
      "outputs": []
    },
    {
      "cell_type": "code",
      "source": [
        "df['item1a'] = pd.Series(df['item1a'], dtype=\"string\")"
      ],
      "metadata": {
        "id": "WzS0TSIsIHTM"
      },
      "execution_count": 16,
      "outputs": []
    },
    {
      "cell_type": "code",
      "source": [
        "df['item1a'].iloc[0]"
      ],
      "metadata": {
        "colab": {
          "base_uri": "https://localhost:8080/",
          "height": 140
        },
        "id": "cYaM6ws4IK6L",
        "outputId": "3191f144-b796-4ce9-8c6b-ab71674d730a"
      },
      "execution_count": 18,
      "outputs": [
        {
          "output_type": "execute_result",
          "data": {
            "text/plain": [
              "'item risk factors carefully review risk factors described described reports file securities exchange commission well information contained annual report form 10k evaluating business business prospects financial condition operating results could harmed risks well risks currently known currently consider immaterial risks uncertainties actually occurs business financial condition operating results could differ materially plans projections forwardlooking statements included section titled managements discussion analysis financial condition results operations elsewhere report public filings trading price common stock could decline due risks result may lose part investment history losses expect continue incur losses may achieve sustain profitability future incurred significant losses fiscal year since inception 2004 experienced consolidated net loss million year ended december 2015 consolidated net loss 100 million year ended december 2016 consolidated net loss 195 million year ended december 2017 losses due substantial investments made build products services grow maintain business acquire customers key elements growth strategy include acquiring new customers continuing innovate build brand result expect operating expenses increase future due expected increased sales marketing expenses operations table contents costs research development costs general administrative costs therefore operating losses continue even potentially increase foreseeable future addition public company incur significant legal accounting expenses incur private company furthermore extent successful increasing customer base also incur increased expenses costs associated generating supporting customer agreements generally incurred front revenue generally recognized ratably committed term agreement rely upon recent bookings revenue growth indicative future performance cannot assure reach profitability future specific time future become profitable sustain profitability ultimately unable generate sufficient revenue meet financial targets become profitable sustainable positive cash flows investors could lose investment substantially revenue historically come single product video cloud historically substantially dependent revenue single product video cloud expect revenue video cloud continue comprise significant portion revenue business would harmed decline market video cloud increased competition market online video platforms failure inability provide sufficient investment support video cloud needed maintain grow competitive position unable retain existing customers revenue results operations adversely affected sell products pursuant agreements generally annual terms customers obligation renew subscriptions subscription period expires experienced losses customers elected renew cases reasons beyond control example largest customer 2016 faced distressing financial circumstances result lost substantially revenue expected generate customer 2017 addition even subscriptions renewed may renewed profitable terms result ability retain existing customers grow depends part subscription renewals may able accurately predict future trends customer renewals customers renewal rates may continue decline fluctuate several factors including satisfaction dissatisfaction services cost services cost services offered competitors reductions customers spending levels introduction competitors attractive features functionality customer retention rate decreases may need increase rate add new customers order maintain grow revenue may require incur significantly higher advertising marketing expenses currently anticipate revenue may decline customers renew subscriptions services renew less favorable terms purchase additional functionality subscriptions revenue may grow slowly expected decline profitability gross margins may harmed affected long term financial targets predicated bookings revenue growth operating margin improvements may fail achieve could reduce expected earnings cause fail meet expectations analysts investors cause price securities decline projecting longterm bookings revenue earnings growth projections based expected growth potential premium customer base well market ondemand software solutions generally may achieve expected bookings revenue growth markets serve grow expected rates customers purchase renew subscriptions expect andor able deliver products desired customers potential customers longterm operating margin improvement targets predicated operating leverage long term revenue increases improved operating efficiencies moving additional cloudbased delivery services together lower cost goods sold research development expenses general administrative expenses percentage total revenue operating margins improve earnings could adversely affected price securities could decline table contents actual market solutions could significantly smaller estimates total potential market opportunity customer demand services meet expectations ability generate revenue meet financial targets could adversely affected expect strong growth markets products possible growth markets may meet expectations materialize methodology estimate total potential market opportunity based includes several key assumptions based industry knowledge customer experience assumptions proves inaccurate actual market solutions could significantly smaller estimates total potential market opportunity customer demand services adoption rate target markets meet expectations ability generate revenue customers meet financial targets could adversely affected business substantially dependent upon continued growth market ondemand software solutions derive expect continue derive substantially revenue sale ondemand solutions result widespread acceptance use ondemand business model critical future growth success perpetual periodic license model software procurement users software would typically install operate applications hardware many companies generally predisposed maintaining control information technology systems infrastructure may resistance concept accessing software service provided third party addition market ondemand software solutions still evolving competitive dynamics may cause pricing levels change market matures existing new market participants introduce new types solutions different approaches enable organizations address technology needs result may forced reduce prices charge products may unable renew existing customer agreements enter new customer agreements prices upon terms historically market ondemand software solutions fails grow grows slowly currently anticipate evolves forces reduce prices charge products bookings growth revenue gross margin operating results could materially adversely affected operating results may fluctuate quarter quarter could make difficult predict quarterly operating results tied certain financial operational metrics fluctuated past may fluctuate significantly future result rely upon past quarterly operating results indicators future performance operating results depend numerous factors many outside control addition risks described risk factors section following risks could cause operating results fluctuate ability retain existing customers attract new customers rates customers renew amount revenue generated customers use products services excess committed contractual entitlements timing amount costs new existing marketing advertising efforts timing amount operating costs capital expenditures relating expansion business operations infrastructure cost timing development introduction new product service offerings competitors system service failures security breaches network downtime table contents relatively short operating history relatively new rapidly developing market makes difficult evaluate business future prospects business relatively short operating history market products services relatively new rapidly developing makes difficult evaluate business future prospects existence since 2004 much growth occurred recent periods encountered continue encounter risks difficulties frequently experienced growing companies rapidly changing industries including related market acceptance current future products services customer renewal rates ability compete companies currently may future enter market products ability successfully expand business especially internationally ability control costs including operating expenses amount timing operating expenses particularly sales marketing expenses related maintenance expansion business operations infrastructure network outages security breaches associated expenses foreign currency exchange rate fluctuations writedowns impairment charges unforeseen liabilities connection acquisitions ability successfully manage acquisitions general economic political conditions domestic international markets manage risks successfully business harmed longterm success depends part ability expand sales products customers located outside united states thus business susceptible risks associated international sales operations currently maintain offices sales personnel australia france india japan singapore south korea spain united arab emirates united kingdom intend expand international operations international expansion efforts may undertake may successful addition conducting international operations subjects new risks generally faced united states risks include unexpected costs errors localization products including translation foreign languages adaptation local practices regulatory requirements lack familiarity burdens complying foreign laws legal standards regulatory requirements tariffs barriers unexpected changes regulatory requirements taxes trade laws tariffs export quotas custom duties trade restrictions difficulties managing systems integrators technology partners differing technology standards longer accounts receivable payment cycles difficulties collecting accounts receivable difficulties managing staffing international operations differing employeremployee relationships table contents fluctuations exchange rates may increase volatility foreignbased revenue potentially adverse tax consequences including complexities foreign value added tax tax systems restrictions repatriation earnings uncertain political economic climates reduced varied protection intellectual property rights countries factors may cause costs business geographies exceed comparable domestic costs operating international markets also requires significant management attention financial resources negative impact international business efforts could negatively impact business results operations financial condition whole must keep rapid technological change remain competitive rapidly evolving industry markets characterized rapid technological change frequent new product service introductions evolving industry standards future success depend ability adapt quickly rapidly changing technologies adapt services products evolving industry standards improve performance reliability services products achieve market acceptance products must effectively anticipate offer products meet changing customer demands timely manner customers may require features functionality current products fail develop products satisfy customer preferences timely costeffective manner ability renew contracts existing customers ability create increase demand products harmed may experience difficulties software development industry standards design marketing could delay prevent development introduction implementation new products enhancements introduction new products competitors emergence new industry standards development entirely new technologies replace existing offerings could render existing future products obsolete unable successfully develop acquire new features functionality enhance existing products anticipate meet customer requirements sell products new markets bookings growth revenue results operations adversely affected face significant competition may unsuccessful current future competitors compete effectively operating results future growth could harmed compete video sharing sites inhouse solutions online video platforms certain niche technology providers well larger companies offer multiple services including may used substitute services products competition already intense markets introduction new technologies market entrants expect competition intensify future addition competitors may make acquisitions acquired enter strategic relationships offer comprehensive service combinations may make difficult compete effectively expect trends continue competitors attempt strengthen maintain market positions demand services sensitive price many factors including advertising customer acquisition technology costs commoditization products services current future competitors pricing marketing strategies significantly affect pricing strategies assurance forced engage pricecutting initiatives increase advertising expenses attract retain customers response competitive pressures either could material adverse effect revenue operating results resources likely encounter significant growing competition business many sources including portals digital media retailers search engines social networking consumersharing services companies table contents broadband media distribution platforms technology suppliers direct broadcast satellite television service companies digital traditional cable systems many present likely future competitors substantially greater financial marketing technological resources companies may even choose offer services competitive cost strategy attract retain customers services technological commercial developments may lead increasing commoditization products services including data delivery storage increasing downward pressure prices charge unable compete successfully traditional emerging providers competing services business financial condition results operations could adversely affected depend experience expertise executive officers senior management team key technical employees loss key employee could adverse effect business financial condition results operations success depends upon continued service executive officers senior management team key technical employees well ability continue attract retain additional highly qualified personnel executive officers senior management team key technical personnel employees could terminate relationship time loss member senior management team key personnel might significantly delay prevent achievement business objectives could materially harm business customer relationships addition nature business loss significant number existing engineering project management sales personnel could adverse effect business financial condition results operations business operations experienced rapid growth organizational change recent periods placed may continue place significant demands management infrastructure fail manage growth effectively successfully recruit additional highlyqualified employees may unable execute business plan maintain high levels service address competitive challenges adequately increased number fulltime employees 413 december 2015 490 december 2016 498 december 2017 revenue grew 1347 million 2015 1503 million 2016 1559 million 2017 headcount operations grown domestically internationally since inception growth placed continue place significant strain management administrative operational financial infrastructure anticipate growth required address increases product service offerings continued international expansion success depend part upon ability senior management team manage growth effectively must continue recruit hire train manage integrate significant number qualified managers technical personnel employees specialized roles within company including technology sales marketing new employees perform poorly unsuccessful recruiting hiring training managing integrating new employees retaining existing employees business may suffer addition manage expected continued growth headcount operations geographic expansion need continue improve information technology infrastructure operational financial management systems procedures expected additional headcount capital investments increase costs make difficult address future revenue shortfalls reducing expenses short term fail successfully manage growth unable successfully execute business plan could negative impact business financial condition results operations table contents potential future acquisitions could difficult integrate divert attention key personnel disrupt business dilute stockholder value impair financial results part business strategy intend consider acquisitions companies technologies products believe could accelerate ability compete core markets allow enter new markets acquisitions involve numerous risks could harm business including difficulties integrating technologies products operations existing contracts target company realizing anticipated benefits combined businesses difficulties integrating personnel target company difficulties supporting transitioning customers target company diversion financial management resources existing operations price pay resources devote may exceed value realize value could realized allocated purchase price resources another opportunity risks entering new markets limited experience potential loss key employees customers strategic alliances either current business target companys business inability generate sufficient revenue offset acquisition costs acquisitions also frequently result recording goodwill intangible assets subject potential impairments future could harm financial results addition finance acquisitions issuing equity securities existing stockholders may diluted result fail properly evaluate acquisitions investments may achieve anticipated benefits acquisitions may incur costs excess anticipate failure successfully evaluate execute acquisitions investments otherwise adequately address risks could materially harm business financial results may experience delays product service development including delays beyond control could prevent achieving growth objectives hurt business many problems delays expenses may encounter may beyond control problems may include limited problems related technical development products services problems infrastructure distribution delivery online media competitive environment operate marketing problems consumer advertiser acceptance costs expenses may exceed current estimates problems delays expenses areas could negative impact business financial conditions results operations delays timely design development deployment commercial operation product service offerings consequently achievement revenue targets positive cash flow could result variety causes including many causes beyond control delays include limited delays integration new offers existing offering changes products services made correct enhance features performance marketability response regulatory developments otherwise delays encountered development integration testing products services infrastructure distribution delivery online media systems unsuccessful commercial launches new products services delays ability obtain financing insufficient ineffective marketing efforts slowerthananticipated consumer acceptance products delays matters could hinder prevent achievement growth objectives hurt business assurance current cost internet connectivity network access rise increasing popularity online media services rely thirdparty service providers principal connections internet network access deliver media consumers demand online media increases assurance internet table contents network service providers continue price network access services reasonable terms distribution online media requires delivery digital content files providers network access distribution may change business models increase prices significantly could slow widespread adoption services order services successful must reasonable price model place allow continuous distribution digital media files limited control extent circumstances may occur network access distribution prices rise business financial condition results operations would likely adversely affected failure infrastructure distribution delivery online media could adversely affect business success business depends large part ability provide consistently highquality digital experience consumers via relationships infrastructure distribution delivery online media generally guarantee relationships infrastructure experience problems performance issues could seriously impair quality reliability delivery digital media end users example primarily use three content delivery networks cdns deliver content end users one cdns experience sustained technical failures could cause delays service could lose customers accurately predict infrastructure capacity requirements customers could experience service outages service degradation may subject financial penalties liabilities result customer losses past limited occasions suffered temporary interruptions certain aspects service including customers ability upload new content system customers ability access administrative control accounts ability deliver content end users certain geographic locations service interruptions results human error hardware software failures failures thirdparty networks limited number occasions service interruptions required provide service credits customers cannot guarantee service interruptions occur predict duration interruptions service impact interruptions customers failures interruptions service may impact reputation result payment compensation service credits customers result loss customers adversely affect financial results ability grow business addition hosting infrastructure capacity fails keep pace increased sales delivery capabilities fail customers may experience delays seek obtain additional capacity enable alternative delivery capability could harm reputation adversely affect revenue growth may difficulty scaling adapting existing infrastructure accommodate increased traffic storage technology advances customer requirements future advances technology increases traffic storage new customer requirements may require change infrastructure expand infrastructure replace infrastructure entirely scaling adapting infrastructure likely complex require additional technical expertise required make changes infrastructure may incur substantial costs experience delays interruptions service delays interruptions may cause customers partners become dissatisfied service move competing service providers failure accommodate increased traffic storage increased costs inefficiencies failures adapt new technologies customer requirements associated adjustments infrastructure could harm business financial condition results operations rely software services licensed parties loss software services third parties could increase costs limit features available products services components service product offerings include various types software services licensed unaffiliated parties software services license others functional equivalents thereof either longer available longer offered commercially reasonable terms would table contents required either redesign services products function software services available parties develop components either case transition new service provider internallydeveloped solution could result increased costs could result delays product launches release new service product offerings furthermore might forced temporarily limit features available current future products services fail maintain renegotiate software service licenses could face significant delays diversion resources attempting license integrate functional equivalents software products contain serious errors defects may lose revenue market acceptance may incur costs defend settle claims complex software applications often contain errors defects particularly first introduced new versions enhancements released despite internal testing testing customers current future products may contain serious defects could result lost revenue lost customers slower growth delay market acceptance since customers use products critical business applications online video errors defects performance problems could result damage customers could seek significant compensation losses suffer although customer agreements typically contain provisions designed limit exposure claims existing future laws unfavorable judicial decisions could negate limitations even successful claim brought would likely timeconsuming costly could seriously damage reputation marketplace making harder sell products unauthorized disclosure data unauthorized access service misuse service could adversely affect business security breaches unauthorized access unauthorized usage virus similar breach disruption could result loss confidential information personal data customer content damage reputation early termination contracts litigation regulatory investigations increased costs liabilities security measures partners service providers breached result thirdparty action employee error malfeasance otherwise result someone obtains unauthorized access confidential information personal data customer content reputation damaged business may suffer could incur significant liability measures put place limit restrict access use functionality usage entitlements support customers prospective customers breached circumvented ineffective result thirdparty action employee error malfeasance otherwise result someone obtains unauthorized access use functionality usage entitlements support business may suffer could incur significant liability andor costs techniques used obtain unauthorized access use sabotage systems change frequently generally recognized launched target result may unable anticipate techniques implement adequate preventative measures actual perceived security breach occurs market perception security measures could harmed could lose sales customers significant violations data privacy unauthorized disclosure information could result loss business litigation regulatory investigations penalties could damage reputation adversely impact results operations financial condition moreover security breach occurs respect another software service saas provider customers potential customers may lose trust security saas business model generally could adversely impact ability retain existing customers attract new ones use limited number data centers cloud computing services facilities deliver services disruption service facilities could harm business manage services serve customers limited number thirdparty data center facilities cloud computing services facilities control actual computer storage systems upon table contents software runs deploy data center facilities control operation facilities owners facilities obligation renew agreements commercially reasonable terms unable renew agreements commercially reasonable terms may required transfer new facilities may incur significant costs possible service interruption connection changes thirdparty service levels facilities errors defects disruptions performance problems related facilities affect services could harm reputation may damage customers businesses interruptions services might reduce revenue cause issue credits customers subject potential liability cause customers terminate subscriptions harm renewal rates facilities vulnerable damage service interruption resulting human error intentional bad acts security breaches earthquakes hurricanes floods fires war terrorist attacks power losses hardware failures systems failures telecommunications failures similar events example september 2014 suffered service disruption resulting distributed denialofservice attack thirdparty data center facilities used september 2014 restored services impacted attack contacted federal law enforcement authorities regarding denialofservice attack cooperated also conducted assessment internet service providers data center providers potential future vulnerability malicious activity sufficiency infrastructure withstand recover rapidly attacks matter material adverse effect operating results assurance incidents occur could occur frequently significant scale occurrence natural disaster act terrorism vandalism misconduct decision close facilities without adequate notice unanticipated problems could result lengthy interruptions services business may adversely affected thirdparty claims including governmental bodies regarding content advertising distributed service rely customers secure rights redistribute content internet screen content distributed service assurance customers licensed rights necessary distribution including internet distribution parties may claim certain rights content customers event customers necessary distribution rights related content may required cease distributing content may subject lawsuits claims damages infringement rights claims arise frequency likelihood business adversely affected would rise significantly cases may rights indemnification claims customers appropriate distribution rights related specific content items however assurance would successful claim operate open publishing platform screen content distributed service content may distributed platform illegal unlawful international federal state local laws laws countries may face lawsuits claims even criminal charges distribution may subject civil regulatory criminal sanctions damages distribution claims investigations could adversely affect business financial condition results operations table contents could incur substantial costs result claim infringement another partys intellectual property rights recent years significant litigation united states involving patents intellectual property rights companies providing internetrelated products services increasingly bringing becoming subject suits alleging infringement proprietary rights particularly patent rights risks amplified increase third parties whose sole primary business assert claims sent letters andor filed suit alleging infringement customers time time third parties claim infringing upon intellectual property rights information regarding claims see part item legal proceedings could incur substantial costs prosecuting defending intellectual property litigation additionally defense prosecution claims could timeconsuming could divert managements attention away execution business plan moreover settlement adverse judgment resulting claim could require pay substantial amounts obtain license continue use technology subject claim otherwise restrict prohibit use technology assurance would able obtain license third party asserting claim commercially reasonable terms would able develop alternative technology timely basis would able obtain license use suitable alternative technology permit continue offering customers continue using affected product service addition may required indemnify customers thirdparty intellectual property infringement claims would increase cost adverse determination could also prevent offering products services others infringement claims asserted may adverse effect business financial condition results operations agreements customers often include contractual obligations indemnify claims products infringe intellectual property rights third parties results intellectual property litigation might become party required provide indemnification may force one following cease selling using products services incorporate challenged intellectual property make substantial payments costs damages obtain license may available reasonable terms sell use relevant technology redesign products services avoid infringement required make substantial payments undertake actions noted result intellectual property infringement claims obligation indemnify customers claims payments costs could material adverse effect upon business financial results failure adequately protect intellectual property could substantially harm business operating results business depends substantially intellectual property protection intellectual property rights important success business rely upon combination trademark patent trade secret copyright law contractual restrictions protect intellectual property afford limited protection despite efforts protect property rights unauthorized parties may attempt copy aspects products service software functionality obtain use information consider proprietary moreover policing proprietary rights difficult may always effective addition may need enforce rights laws countries protect proprietary rights great extent laws united states litigation proceedings patent trademark office governmental authorities administrative bodies united states abroad may necessary future enforce table contents intellectual property rights protect patent rights trade secrets trademarks domain names determine validity scope proprietary rights others litigation proceedings may costly impact financial performance may also incur substantial costs defending frivolous litigation asked indemnify customers efforts enforce protect proprietary rights may prove ineffective could result substantial costs diversion resources could substantially harm operating results exposure risks associated use intellectual property may increase result acquisitions less opportunity visibility development process respect acquired technology care taken safeguard infringement risks third parties may make infringement similar related claims acquired technology asserted prior acquisition confidentiality agreements employees others may adequately prevent disclosure trade secrets proprietary information devoted substantial resources development technology business operations business plans order protect trade secrets proprietary information rely significant part confidentiality agreements employees licensees independent contractors advisers customers agreements may effective prevent disclosure confidential information including trade secrets may provide adequate remedy event unauthorized disclosure confidential information addition others may independently discover trade secrets proprietary information cases would able assert trade secret rights parties extent employees others business use intellectual property owned others work disputes may arise rights related resulting knowhow inventions laws regarding trade secret rights certain markets operate may afford little protection trade secrets loss trade secret protection could make easier third parties compete products copying functionality addition changes unexpected interpretations trade secret intellectual property laws country operate may compromise ability enforce trade secret intellectual property rights costly timeconsuming litigation could necessary enforce determine scope proprietary rights failure obtain maintain trade secret protection could adversely affect competitive business position use open source software could negatively affect ability sell services subject possible litigation portion technology licensed incorporates open source software may incorporate open source software future open source software generally licensed authors third parties open source licenses fail comply licenses may subject certain conditions including requirements offer services incorporate open source software cost make available source code modifications derivative works create based upon incorporating using open source software license modifications alterations terms particular open source license author third party distributes open source software allege complied conditions one licenses could required incur significant legal expenses defending allegations could subject significant damages enjoined sale services contained open source software required comply foregoing conditions could disrupt distribution sale services fluctuations exchange rate foreign currencies could result currency translation losses currently foreign sales denominated australian dollars british pound sterling euros japanese yen new zealand dollars may future sales denominated currencies additional countries establish established sales offices addition incur portion operating table contents expenses british pound sterling euros japanese yen lesser extent foreign currencies fluctuation exchange rate foreign currencies may negatively impact business financial condition operating results previously engaged foreign currency hedging decide hedge foreign currency exposure may able hedge effectively due lack experience unreasonable costs illiquid markets may required collect sales use taxes services sell additional jurisdictions future may decrease sales may subject liability sales use taxes related interest penalties prior sales state local taxing jurisdictions differing rules regulations governing sales use taxes rules regulations subject varying interpretations may change time particular applicability sales use taxes subscription services various jurisdictions unclear cannot assure subject sales use taxes related penalties past sales states presently believe sales use taxes due reserve estimated sales use taxes financial statements cannot certain made sufficient reserves cover taxes might assessed one taxing authorities determines taxes paid respect services may liable past taxes addition required collect sales similar taxes respect services going forward liability past taxes may also include substantial interest penalty charges client contracts typically provide clients must pay applicable sales similar taxes nevertheless clients may reluctant pay back taxes may refuse responsibility interest penalties associated taxes may determine would feasible seek reimbursement required collect pay back taxes associated interest penalties clients reimburse portion amounts incur unplanned expenses may substantial moreover imposition taxes services going forward effectively increase cost services clients may adversely affect ability retain existing clients gain new clients areas taxes imposed government industry regulation internet evolving could directly restrict business indirectly affect business limiting growth markets unfavorable changes government regulation failure comply regulations could harm business operating results federal state foreign governments agencies adopted could future adopt regulations covering issues user privacy content taxation products services government regulations could limit market products services impose burdensome requirements render business unprofitable products enable customers collect manage store wide range data united states various state governments adopted proposed limitations collection distribution use personal information several foreign jurisdictions including european union united kingdom adopted legislation including directives regulations increase change requirements governing data collection storage jurisdictions privacy data security measures fail comply current future laws regulations may subject litigation regulatory investigations liabilities customers may terminate relationships addition although many regulations might apply business directly expect laws regulating solicitation collection processing personal consumer information could affect customers ability use share data potentially reducing demand services telecommunications act 1996 european union data protection directive along similar laws regulations prohibit certain types information content transmitted internet scope prohibition liability associated violation currently unsettled addition although substantial portions communications decency act held unconstitutional cannot certain similar table contents legislation enacted upheld future legislation like telecommunications act communications decency act could dampen growth web usage decrease acceptance medium communications commerce moreover future laws regulations limit customers ability use share consumer data ability store process share data customers internet demand products could decrease costs could increase results operations financial condition could harmed addition taxation services provided internet charges imposed government agencies private organizations accessing internet may imposed regulation imposing greater fees internet use restricting information exchange internet could result decline use internet viability internetbased services could harm business operating results stock price volatile likely volatile future market price common stock likely highly volatile could subject significant fluctuations response among things risk factors described report factors beyond control market prices securities early stage companies historically particularly volatile factors may cause market price common stock fluctuate include fluctuations quarterly annual financial results quarterly annual financial results companies perceived similar relevant business changes estimates financial results recommendations securities analysts failure products achieve maintain market acceptance changes market valuations similar relevant companies success competitive service offerings technologies changes capital structure issuance securities incurrence debt announcements competitors significant services contracts acquisitions strategic alliances regulatory developments united states foreign countries litigation additions departures key personnel investors general perceptions changes general economic industry market conditions addition market technology stocks stock market general experiences loss investor confidence trading price common stock could decline reasons unrelated business financial condition results operations foregoing occurs could cause stock price fall may expose lawsuits even unsuccessful could costly defend distraction management business operations could adversely affected subject stockholder activism could cause incur significant expense impact market price common stock recent years proxy contests forms stockholder activism directed numerous public companies stockholder activism including potential proxy contests could result substantial costs divert attention management board directors resources business activist table contents campaigns create perceived uncertainties future direction strategy leadership may result loss potential business opportunities harm ability attract new customers employees investors addition may required incur significant legal fees expenses related activist stockholder matters market price common stock could subject significant fluctuation otherwise adversely affected events risks uncertainties stockholder activism securities industry analysts publish cease publishing research reports business market adversely change recommendations regarding stock stock price trading volume could decline trading market common stock influenced research reports industry security analysts may publish business market competitors analysts may cover adversely change recommendations regarding stock provide favorable relative recommendations competitors stock price would likely decline analyst may cover cease coverage company fail regularly publish reports could lose visibility financial markets turn could cause stock price trading volume decline emerging growth company cannot certain reduced disclosure requirements applicable emerging growth companies make common stock less attractive investors emerging growth company defined jumpstart business startups act 2012 jobs act may take advantage certain exemptions various reporting requirements applicable public companies emerging growth companies including limited reduced disclosure obligations regarding executive compensation periodic reports proxy statements exemptions requirements holding nonbinding advisory vote executive compensation shareholder approval golden parachute payments previously approved cannot predict investors find common stock less attractive may rely exemptions investors find common stock less attractive result may less active trading market common stock stock price may volatile may take advantage reporting exemptions longer emerging growth company addition section 107 jobs act also provides emerging growth company take advantage extended transition period provided section 7a2b securities act complying new revised accounting standards words emerging growth company delay adoption certain accounting standards standards would otherwise apply private companies however chose opt extended transition period result comply new revised accounting standards relevant dates adoption standards required nonemerging growth companies section 107 jobs act provides decision opt extended transition period complying new revised accounting standards irrevocable expect declare dividends foreseeable future anticipate declaring dividends holders common stock foreseeable future consequently investors may need rely sales common stock price appreciation may never occur way realize future gains investment investors seeking dividends purchase common stock may unable meet future capital requirements could limit ability grow believe existing cash cash equivalents sufficient meet anticipated working capital capital expenditure needs least next months may however need could elect seek additional funding time extent existing resources insufficient fund business table contents operations future activities expansion service product offerings developing sustaining relationships infrastructure distribution delivery digital media online marketing supporting office facilities may need raise additional funds equity debt financing additional funds may available terms favorable stockholders furthermore issue equity securities stockholders may experience additional dilution new equity securities may rights preferences privileges senior existing classes stock cannot raise funds acceptable terms may able develop enhance products take advantage future opportunities respond competitive pressures unanticipated requirements failure maintain effective internal control financial reporting could result failure accurately report financial results inability report file financial results accurately timely could harm business adversely impact investor confidence company result value common stock required evaluate internal control financial reporting connection section 404 sarbanesoxley act independent registered public accounting firm required attest effectiveness internal control financial reporting assessment includes disclosure material weaknesses internal control financial reporting identified management well independent registered public accounting firms attestation report internal control financial reporting evaluation testing process identify one material weaknesses internal control financial reporting unable assert internal control financial reporting effective unable assert internal control financial reporting effective independent registered public accounting firm unable express opinion effectiveness internal control financial reporting could lose investor confidence accuracy completeness financial reports could material adverse effect price common stock antitakeover provisions contained amended restated certificate incorporation amended restated bylaws well provisions delaware law could impair takeover attempt amended restated certificate incorporation bylaws delaware law contain provisions could effect rendering difficult discouraging acquisition deemed undesirable board directors corporate governance documents include provisions authorizing blank check preferred stock could issued voting liquidation dividend rights superior common stock limiting liability providing indemnification directors officers limiting ability stockholders call bring business special meetings take action written consent lieu meeting requiring advance notice stockholder proposals business conducted meetings stockholders nominations candidates election board directors controlling procedures conduct scheduling board directors stockholder meetings providing board directors express power postpone previously scheduled annual meetings cancel previously scheduled special meetings establishing classified board directors members board selected one time limiting determination number directors board directors filling vacancies newly created seats board board directors office providing directors may removed stockholders cause table contents provisions alone together could delay hostile takeovers changes control company changes management delaware corporation also subject provisions delaware law including section 203 delaware general corporation law prevents stockholders holding outstanding common stock engaging certain business combinations without approval holders substantially outstanding common stock provision amended restated certificate incorporation bylaws delaware law effect delaying deterring change control could limit opportunity stockholders receive premium shares common stock could also affect price investors willing pay common stock record substantial expenses related issuance equity awards may material adverse impact operating results foreseeable future expect stockbased compensation expenses continue significant future periods adverse impact operating results model used requires input highly subjective assumptions including price volatility options underlying stock facts circumstances change employ different assumptions estimating stockbased compensation expense future periods decide use different valuation model future period expenses may differ significantly recorded current period could materially affect fair value estimate stockbased payments operating income net income net income per share failure customers pay amounts owed pay amounts timely manner may adversely affect financial condition operating results significant customers insufficient liquidity could encounter significant delays defaults payments owed customers may need extend payment terms restructure receivables owed could significant adverse effect financial condition including impacting timing revenue recognition deterioration financial condition customers increase risk uncollectible receivables global economic uncertainty could also affect customers ability pay receivables timely manner result customers going bankruptcy reorganization proceedings could also affect ability collect receivables successfully manage transition associated resignation former chief executive officer ceo appointment new ceo could viewed negatively customers shareholders could adverse impact business david mendels resigned position companys ceo resigned board effective july 2017 andrew feinberg formerly companys president chief operations officer serving companys acting ceo board active search process underway select next ceo internal external candidates leadership transitions inherently difficult manage inadequate transition ceo may cause disruption business including relationships customers vendors employees addition unable attract retain qualified candidate become permanent ceo timely manner ability meet financial operational goals strategic plans may adversely impacted well financial performance may also make difficult retain hire key employees changes interpretations financial accounting standards may cause adverse impact reported results operations may 2014 financial accounting standards board issued new revenue recognition rules accounting standards codification 606 revenue contracts customers asc 606 effective table contents interim annual periods beginning december 2017 elected adopt new standard effective january 2018 using modified retrospective method order comply requirements asc 606 january 2018 continuing update enhance internal accounting systems internal controls financial reporting successful updating policies procedures information systems internal controls financial reporting revenue recognize related disclosures provide asc 606 may complete accurate could harm operating results cause fail meet reporting obligations effect comprehensive tax reform legislation company affiliates whether adverse favorable uncertain december 2017 president trump signed law act provide reconciliation pursuant titles concurrent resolution budget fiscal year 2018 informally titled tax cuts jobs act among number significant changes federal income tax rules tax cuts jobs act reduces marginal corporate income tax rate limits deduction net interest expense shifts united states toward territorial tax system imposes new taxes combat erosion federal income tax base effect tax cuts jobs act company affiliates whether adverse favorable uncertain may become evident period time'"
            ],
            "application/vnd.google.colaboratory.intrinsic+json": {
              "type": "string"
            }
          },
          "metadata": {},
          "execution_count": 18
        }
      ]
    },
    {
      "cell_type": "code",
      "source": [
        "for i in range(1,len(df['item1a'])):\n",
        "  df['item1a'][i] = gensim.utils.simple_preprocess(df['item1a'][i])\n",
        "\n",
        "# df['item1a'] = gensim.utils.simple_preprocess(df['item1a'].astype('str'))\n",
        "# gensim.utils.simple_preprocess(doc, deacc=False, min_len=2, max_len=15)"
      ],
      "metadata": {
        "colab": {
          "base_uri": "https://localhost:8080/",
          "height": 433
        },
        "id": "b8hm8elHlzyx",
        "outputId": "63b3417b-fd62-4347-ddbb-6ac0730df8bb"
      },
      "execution_count": 19,
      "outputs": [
        {
          "output_type": "error",
          "ename": "ValueError",
          "evalue": "ignored",
          "traceback": [
            "\u001b[0;31m---------------------------------------------------------------------------\u001b[0m",
            "\u001b[0;31mValueError\u001b[0m                                Traceback (most recent call last)",
            "\u001b[0;32m/usr/local/lib/python3.7/dist-packages/pandas/core/series.py\u001b[0m in \u001b[0;36m__setitem__\u001b[0;34m(self, key, value)\u001b[0m\n\u001b[1;32m   1061\u001b[0m         \u001b[0;32mtry\u001b[0m\u001b[0;34m:\u001b[0m\u001b[0;34m\u001b[0m\u001b[0;34m\u001b[0m\u001b[0m\n\u001b[0;32m-> 1062\u001b[0;31m             \u001b[0mself\u001b[0m\u001b[0;34m.\u001b[0m\u001b[0m_set_with_engine\u001b[0m\u001b[0;34m(\u001b[0m\u001b[0mkey\u001b[0m\u001b[0;34m,\u001b[0m \u001b[0mvalue\u001b[0m\u001b[0;34m)\u001b[0m\u001b[0;34m\u001b[0m\u001b[0;34m\u001b[0m\u001b[0m\n\u001b[0m\u001b[1;32m   1063\u001b[0m         \u001b[0;32mexcept\u001b[0m \u001b[0;34m(\u001b[0m\u001b[0mKeyError\u001b[0m\u001b[0;34m,\u001b[0m \u001b[0mValueError\u001b[0m\u001b[0;34m)\u001b[0m\u001b[0;34m:\u001b[0m\u001b[0;34m\u001b[0m\u001b[0;34m\u001b[0m\u001b[0m\n",
            "\u001b[0;32m/usr/local/lib/python3.7/dist-packages/pandas/core/series.py\u001b[0m in \u001b[0;36m_set_with_engine\u001b[0;34m(self, key, value)\u001b[0m\n\u001b[1;32m   1098\u001b[0m         \u001b[0mvalidate_numeric_casting\u001b[0m\u001b[0;34m(\u001b[0m\u001b[0mself\u001b[0m\u001b[0;34m.\u001b[0m\u001b[0mdtype\u001b[0m\u001b[0;34m,\u001b[0m \u001b[0mvalue\u001b[0m\u001b[0;34m)\u001b[0m  \u001b[0;31m# type: ignore[arg-type]\u001b[0m\u001b[0;34m\u001b[0m\u001b[0;34m\u001b[0m\u001b[0m\n\u001b[0;32m-> 1099\u001b[0;31m         \u001b[0mself\u001b[0m\u001b[0;34m.\u001b[0m\u001b[0m_values\u001b[0m\u001b[0;34m[\u001b[0m\u001b[0mloc\u001b[0m\u001b[0;34m]\u001b[0m \u001b[0;34m=\u001b[0m \u001b[0mvalue\u001b[0m\u001b[0;34m\u001b[0m\u001b[0;34m\u001b[0m\u001b[0m\n\u001b[0m\u001b[1;32m   1100\u001b[0m \u001b[0;34m\u001b[0m\u001b[0m\n",
            "\u001b[0;32m/usr/local/lib/python3.7/dist-packages/pandas/core/arrays/string_.py\u001b[0m in \u001b[0;36m__setitem__\u001b[0;34m(self, key, value)\u001b[0m\n\u001b[1;32m    398\u001b[0m         \u001b[0;32mif\u001b[0m \u001b[0mscalar_key\u001b[0m \u001b[0;32mand\u001b[0m \u001b[0;32mnot\u001b[0m \u001b[0mscalar_value\u001b[0m\u001b[0;34m:\u001b[0m\u001b[0;34m\u001b[0m\u001b[0;34m\u001b[0m\u001b[0m\n\u001b[0;32m--> 399\u001b[0;31m             \u001b[0;32mraise\u001b[0m \u001b[0mValueError\u001b[0m\u001b[0;34m(\u001b[0m\u001b[0;34m\"setting an array element with a sequence.\"\u001b[0m\u001b[0;34m)\u001b[0m\u001b[0;34m\u001b[0m\u001b[0;34m\u001b[0m\u001b[0m\n\u001b[0m\u001b[1;32m    400\u001b[0m \u001b[0;34m\u001b[0m\u001b[0m\n",
            "\u001b[0;31mValueError\u001b[0m: setting an array element with a sequence.",
            "\nDuring handling of the above exception, another exception occurred:\n",
            "\u001b[0;31mValueError\u001b[0m                                Traceback (most recent call last)",
            "\u001b[0;32m<ipython-input-19-e159e4f510c1>\u001b[0m in \u001b[0;36m<module>\u001b[0;34m()\u001b[0m\n\u001b[1;32m      1\u001b[0m \u001b[0;32mfor\u001b[0m \u001b[0mi\u001b[0m \u001b[0;32min\u001b[0m \u001b[0mrange\u001b[0m\u001b[0;34m(\u001b[0m\u001b[0;36m1\u001b[0m\u001b[0;34m,\u001b[0m\u001b[0mlen\u001b[0m\u001b[0;34m(\u001b[0m\u001b[0mdf\u001b[0m\u001b[0;34m[\u001b[0m\u001b[0;34m'item1a'\u001b[0m\u001b[0;34m]\u001b[0m\u001b[0;34m)\u001b[0m\u001b[0;34m)\u001b[0m\u001b[0;34m:\u001b[0m\u001b[0;34m\u001b[0m\u001b[0;34m\u001b[0m\u001b[0m\n\u001b[0;32m----> 2\u001b[0;31m   \u001b[0mdf\u001b[0m\u001b[0;34m[\u001b[0m\u001b[0;34m'item1a'\u001b[0m\u001b[0;34m]\u001b[0m\u001b[0;34m[\u001b[0m\u001b[0mi\u001b[0m\u001b[0;34m]\u001b[0m \u001b[0;34m=\u001b[0m \u001b[0mgensim\u001b[0m\u001b[0;34m.\u001b[0m\u001b[0mutils\u001b[0m\u001b[0;34m.\u001b[0m\u001b[0msimple_preprocess\u001b[0m\u001b[0;34m(\u001b[0m\u001b[0mdf\u001b[0m\u001b[0;34m[\u001b[0m\u001b[0;34m'item1a'\u001b[0m\u001b[0;34m]\u001b[0m\u001b[0;34m[\u001b[0m\u001b[0mi\u001b[0m\u001b[0;34m]\u001b[0m\u001b[0;34m)\u001b[0m\u001b[0;34m\u001b[0m\u001b[0;34m\u001b[0m\u001b[0m\n\u001b[0m\u001b[1;32m      3\u001b[0m \u001b[0;34m\u001b[0m\u001b[0m\n\u001b[1;32m      4\u001b[0m \u001b[0;31m# df['item1a'] = gensim.utils.simple_preprocess(df['item1a'].astype('str'))\u001b[0m\u001b[0;34m\u001b[0m\u001b[0;34m\u001b[0m\u001b[0;34m\u001b[0m\u001b[0m\n\u001b[1;32m      5\u001b[0m \u001b[0;31m# gensim.utils.simple_preprocess(doc, deacc=False, min_len=2, max_len=15)\u001b[0m\u001b[0;34m\u001b[0m\u001b[0;34m\u001b[0m\u001b[0;34m\u001b[0m\u001b[0m\n",
            "\u001b[0;32m/usr/local/lib/python3.7/dist-packages/pandas/core/series.py\u001b[0m in \u001b[0;36m__setitem__\u001b[0;34m(self, key, value)\u001b[0m\n\u001b[1;32m   1068\u001b[0m             \u001b[0;32melse\u001b[0m\u001b[0;34m:\u001b[0m\u001b[0;34m\u001b[0m\u001b[0;34m\u001b[0m\u001b[0m\n\u001b[1;32m   1069\u001b[0m                 \u001b[0;31m# GH#12862 adding a new key to the Series\u001b[0m\u001b[0;34m\u001b[0m\u001b[0;34m\u001b[0m\u001b[0;34m\u001b[0m\u001b[0m\n\u001b[0;32m-> 1070\u001b[0;31m                 \u001b[0mself\u001b[0m\u001b[0;34m.\u001b[0m\u001b[0mloc\u001b[0m\u001b[0;34m[\u001b[0m\u001b[0mkey\u001b[0m\u001b[0;34m]\u001b[0m \u001b[0;34m=\u001b[0m \u001b[0mvalue\u001b[0m\u001b[0;34m\u001b[0m\u001b[0;34m\u001b[0m\u001b[0m\n\u001b[0m\u001b[1;32m   1071\u001b[0m \u001b[0;34m\u001b[0m\u001b[0m\n\u001b[1;32m   1072\u001b[0m         \u001b[0;32mexcept\u001b[0m \u001b[0mTypeError\u001b[0m \u001b[0;32mas\u001b[0m \u001b[0merr\u001b[0m\u001b[0;34m:\u001b[0m\u001b[0;34m\u001b[0m\u001b[0;34m\u001b[0m\u001b[0m\n",
            "\u001b[0;32m/usr/local/lib/python3.7/dist-packages/pandas/core/indexing.py\u001b[0m in \u001b[0;36m__setitem__\u001b[0;34m(self, key, value)\u001b[0m\n\u001b[1;32m    721\u001b[0m \u001b[0;34m\u001b[0m\u001b[0m\n\u001b[1;32m    722\u001b[0m         \u001b[0miloc\u001b[0m \u001b[0;34m=\u001b[0m \u001b[0mself\u001b[0m \u001b[0;32mif\u001b[0m \u001b[0mself\u001b[0m\u001b[0;34m.\u001b[0m\u001b[0mname\u001b[0m \u001b[0;34m==\u001b[0m \u001b[0;34m\"iloc\"\u001b[0m \u001b[0;32melse\u001b[0m \u001b[0mself\u001b[0m\u001b[0;34m.\u001b[0m\u001b[0mobj\u001b[0m\u001b[0;34m.\u001b[0m\u001b[0miloc\u001b[0m\u001b[0;34m\u001b[0m\u001b[0;34m\u001b[0m\u001b[0m\n\u001b[0;32m--> 723\u001b[0;31m         \u001b[0miloc\u001b[0m\u001b[0;34m.\u001b[0m\u001b[0m_setitem_with_indexer\u001b[0m\u001b[0;34m(\u001b[0m\u001b[0mindexer\u001b[0m\u001b[0;34m,\u001b[0m \u001b[0mvalue\u001b[0m\u001b[0;34m,\u001b[0m \u001b[0mself\u001b[0m\u001b[0;34m.\u001b[0m\u001b[0mname\u001b[0m\u001b[0;34m)\u001b[0m\u001b[0;34m\u001b[0m\u001b[0;34m\u001b[0m\u001b[0m\n\u001b[0m\u001b[1;32m    724\u001b[0m \u001b[0;34m\u001b[0m\u001b[0m\n\u001b[1;32m    725\u001b[0m     \u001b[0;32mdef\u001b[0m \u001b[0m_validate_key\u001b[0m\u001b[0;34m(\u001b[0m\u001b[0mself\u001b[0m\u001b[0;34m,\u001b[0m \u001b[0mkey\u001b[0m\u001b[0;34m,\u001b[0m \u001b[0maxis\u001b[0m\u001b[0;34m:\u001b[0m \u001b[0mint\u001b[0m\u001b[0;34m)\u001b[0m\u001b[0;34m:\u001b[0m\u001b[0;34m\u001b[0m\u001b[0;34m\u001b[0m\u001b[0m\n",
            "\u001b[0;32m/usr/local/lib/python3.7/dist-packages/pandas/core/indexing.py\u001b[0m in \u001b[0;36m_setitem_with_indexer\u001b[0;34m(self, indexer, value, name)\u001b[0m\n\u001b[1;32m   1730\u001b[0m             \u001b[0mself\u001b[0m\u001b[0;34m.\u001b[0m\u001b[0m_setitem_with_indexer_split_path\u001b[0m\u001b[0;34m(\u001b[0m\u001b[0mindexer\u001b[0m\u001b[0;34m,\u001b[0m \u001b[0mvalue\u001b[0m\u001b[0;34m,\u001b[0m \u001b[0mname\u001b[0m\u001b[0;34m)\u001b[0m\u001b[0;34m\u001b[0m\u001b[0;34m\u001b[0m\u001b[0m\n\u001b[1;32m   1731\u001b[0m         \u001b[0;32melse\u001b[0m\u001b[0;34m:\u001b[0m\u001b[0;34m\u001b[0m\u001b[0;34m\u001b[0m\u001b[0m\n\u001b[0;32m-> 1732\u001b[0;31m             \u001b[0mself\u001b[0m\u001b[0;34m.\u001b[0m\u001b[0m_setitem_single_block\u001b[0m\u001b[0;34m(\u001b[0m\u001b[0mindexer\u001b[0m\u001b[0;34m,\u001b[0m \u001b[0mvalue\u001b[0m\u001b[0;34m,\u001b[0m \u001b[0mname\u001b[0m\u001b[0;34m)\u001b[0m\u001b[0;34m\u001b[0m\u001b[0;34m\u001b[0m\u001b[0m\n\u001b[0m\u001b[1;32m   1733\u001b[0m \u001b[0;34m\u001b[0m\u001b[0m\n\u001b[1;32m   1734\u001b[0m     \u001b[0;32mdef\u001b[0m \u001b[0m_setitem_with_indexer_split_path\u001b[0m\u001b[0;34m(\u001b[0m\u001b[0mself\u001b[0m\u001b[0;34m,\u001b[0m \u001b[0mindexer\u001b[0m\u001b[0;34m,\u001b[0m \u001b[0mvalue\u001b[0m\u001b[0;34m,\u001b[0m \u001b[0mname\u001b[0m\u001b[0;34m:\u001b[0m \u001b[0mstr\u001b[0m\u001b[0;34m)\u001b[0m\u001b[0;34m:\u001b[0m\u001b[0;34m\u001b[0m\u001b[0;34m\u001b[0m\u001b[0m\n",
            "\u001b[0;32m/usr/local/lib/python3.7/dist-packages/pandas/core/indexing.py\u001b[0m in \u001b[0;36m_setitem_single_block\u001b[0;34m(self, indexer, value, name)\u001b[0m\n\u001b[1;32m   1966\u001b[0m \u001b[0;34m\u001b[0m\u001b[0m\n\u001b[1;32m   1967\u001b[0m         \u001b[0;31m# actually do the set\u001b[0m\u001b[0;34m\u001b[0m\u001b[0;34m\u001b[0m\u001b[0;34m\u001b[0m\u001b[0m\n\u001b[0;32m-> 1968\u001b[0;31m         \u001b[0mself\u001b[0m\u001b[0;34m.\u001b[0m\u001b[0mobj\u001b[0m\u001b[0;34m.\u001b[0m\u001b[0m_mgr\u001b[0m \u001b[0;34m=\u001b[0m \u001b[0mself\u001b[0m\u001b[0;34m.\u001b[0m\u001b[0mobj\u001b[0m\u001b[0;34m.\u001b[0m\u001b[0m_mgr\u001b[0m\u001b[0;34m.\u001b[0m\u001b[0msetitem\u001b[0m\u001b[0;34m(\u001b[0m\u001b[0mindexer\u001b[0m\u001b[0;34m=\u001b[0m\u001b[0mindexer\u001b[0m\u001b[0;34m,\u001b[0m \u001b[0mvalue\u001b[0m\u001b[0;34m=\u001b[0m\u001b[0mvalue\u001b[0m\u001b[0;34m)\u001b[0m\u001b[0;34m\u001b[0m\u001b[0;34m\u001b[0m\u001b[0m\n\u001b[0m\u001b[1;32m   1969\u001b[0m         \u001b[0mself\u001b[0m\u001b[0;34m.\u001b[0m\u001b[0mobj\u001b[0m\u001b[0;34m.\u001b[0m\u001b[0m_maybe_update_cacher\u001b[0m\u001b[0;34m(\u001b[0m\u001b[0mclear\u001b[0m\u001b[0;34m=\u001b[0m\u001b[0;32mTrue\u001b[0m\u001b[0;34m)\u001b[0m\u001b[0;34m\u001b[0m\u001b[0;34m\u001b[0m\u001b[0m\n\u001b[1;32m   1970\u001b[0m \u001b[0;34m\u001b[0m\u001b[0m\n",
            "\u001b[0;32m/usr/local/lib/python3.7/dist-packages/pandas/core/internals/managers.py\u001b[0m in \u001b[0;36msetitem\u001b[0;34m(self, indexer, value)\u001b[0m\n\u001b[1;32m    353\u001b[0m \u001b[0;34m\u001b[0m\u001b[0m\n\u001b[1;32m    354\u001b[0m     \u001b[0;32mdef\u001b[0m \u001b[0msetitem\u001b[0m\u001b[0;34m(\u001b[0m\u001b[0mself\u001b[0m\u001b[0;34m:\u001b[0m \u001b[0mT\u001b[0m\u001b[0;34m,\u001b[0m \u001b[0mindexer\u001b[0m\u001b[0;34m,\u001b[0m \u001b[0mvalue\u001b[0m\u001b[0;34m)\u001b[0m \u001b[0;34m->\u001b[0m \u001b[0mT\u001b[0m\u001b[0;34m:\u001b[0m\u001b[0;34m\u001b[0m\u001b[0;34m\u001b[0m\u001b[0m\n\u001b[0;32m--> 355\u001b[0;31m         \u001b[0;32mreturn\u001b[0m \u001b[0mself\u001b[0m\u001b[0;34m.\u001b[0m\u001b[0mapply\u001b[0m\u001b[0;34m(\u001b[0m\u001b[0;34m\"setitem\"\u001b[0m\u001b[0;34m,\u001b[0m \u001b[0mindexer\u001b[0m\u001b[0;34m=\u001b[0m\u001b[0mindexer\u001b[0m\u001b[0;34m,\u001b[0m \u001b[0mvalue\u001b[0m\u001b[0;34m=\u001b[0m\u001b[0mvalue\u001b[0m\u001b[0;34m)\u001b[0m\u001b[0;34m\u001b[0m\u001b[0;34m\u001b[0m\u001b[0m\n\u001b[0m\u001b[1;32m    356\u001b[0m \u001b[0;34m\u001b[0m\u001b[0m\n\u001b[1;32m    357\u001b[0m     \u001b[0;32mdef\u001b[0m \u001b[0mputmask\u001b[0m\u001b[0;34m(\u001b[0m\u001b[0mself\u001b[0m\u001b[0;34m,\u001b[0m \u001b[0mmask\u001b[0m\u001b[0;34m,\u001b[0m \u001b[0mnew\u001b[0m\u001b[0;34m,\u001b[0m \u001b[0malign\u001b[0m\u001b[0;34m:\u001b[0m \u001b[0mbool\u001b[0m \u001b[0;34m=\u001b[0m \u001b[0;32mTrue\u001b[0m\u001b[0;34m)\u001b[0m\u001b[0;34m:\u001b[0m\u001b[0;34m\u001b[0m\u001b[0;34m\u001b[0m\u001b[0m\n",
            "\u001b[0;32m/usr/local/lib/python3.7/dist-packages/pandas/core/internals/managers.py\u001b[0m in \u001b[0;36mapply\u001b[0;34m(self, f, align_keys, ignore_failures, **kwargs)\u001b[0m\n\u001b[1;32m    325\u001b[0m                     \u001b[0mapplied\u001b[0m \u001b[0;34m=\u001b[0m \u001b[0mb\u001b[0m\u001b[0;34m.\u001b[0m\u001b[0mapply\u001b[0m\u001b[0;34m(\u001b[0m\u001b[0mf\u001b[0m\u001b[0;34m,\u001b[0m \u001b[0;34m**\u001b[0m\u001b[0mkwargs\u001b[0m\u001b[0;34m)\u001b[0m\u001b[0;34m\u001b[0m\u001b[0;34m\u001b[0m\u001b[0m\n\u001b[1;32m    326\u001b[0m                 \u001b[0;32melse\u001b[0m\u001b[0;34m:\u001b[0m\u001b[0;34m\u001b[0m\u001b[0;34m\u001b[0m\u001b[0m\n\u001b[0;32m--> 327\u001b[0;31m                     \u001b[0mapplied\u001b[0m \u001b[0;34m=\u001b[0m \u001b[0mgetattr\u001b[0m\u001b[0;34m(\u001b[0m\u001b[0mb\u001b[0m\u001b[0;34m,\u001b[0m \u001b[0mf\u001b[0m\u001b[0;34m)\u001b[0m\u001b[0;34m(\u001b[0m\u001b[0;34m**\u001b[0m\u001b[0mkwargs\u001b[0m\u001b[0;34m)\u001b[0m\u001b[0;34m\u001b[0m\u001b[0;34m\u001b[0m\u001b[0m\n\u001b[0m\u001b[1;32m    328\u001b[0m             \u001b[0;32mexcept\u001b[0m \u001b[0;34m(\u001b[0m\u001b[0mTypeError\u001b[0m\u001b[0;34m,\u001b[0m \u001b[0mNotImplementedError\u001b[0m\u001b[0;34m)\u001b[0m\u001b[0;34m:\u001b[0m\u001b[0;34m\u001b[0m\u001b[0;34m\u001b[0m\u001b[0m\n\u001b[1;32m    329\u001b[0m                 \u001b[0;32mif\u001b[0m \u001b[0;32mnot\u001b[0m \u001b[0mignore_failures\u001b[0m\u001b[0;34m:\u001b[0m\u001b[0;34m\u001b[0m\u001b[0;34m\u001b[0m\u001b[0m\n",
            "\u001b[0;32m/usr/local/lib/python3.7/dist-packages/pandas/core/internals/blocks.py\u001b[0m in \u001b[0;36msetitem\u001b[0;34m(self, indexer, value)\u001b[0m\n\u001b[1;32m   1489\u001b[0m \u001b[0;34m\u001b[0m\u001b[0m\n\u001b[1;32m   1490\u001b[0m         \u001b[0mcheck_setitem_lengths\u001b[0m\u001b[0;34m(\u001b[0m\u001b[0mindexer\u001b[0m\u001b[0;34m,\u001b[0m \u001b[0mvalue\u001b[0m\u001b[0;34m,\u001b[0m \u001b[0mself\u001b[0m\u001b[0;34m.\u001b[0m\u001b[0mvalues\u001b[0m\u001b[0;34m)\u001b[0m\u001b[0;34m\u001b[0m\u001b[0;34m\u001b[0m\u001b[0m\n\u001b[0;32m-> 1491\u001b[0;31m         \u001b[0mself\u001b[0m\u001b[0;34m.\u001b[0m\u001b[0mvalues\u001b[0m\u001b[0;34m[\u001b[0m\u001b[0mindexer\u001b[0m\u001b[0;34m]\u001b[0m \u001b[0;34m=\u001b[0m \u001b[0mvalue\u001b[0m\u001b[0;34m\u001b[0m\u001b[0;34m\u001b[0m\u001b[0m\n\u001b[0m\u001b[1;32m   1492\u001b[0m         \u001b[0;32mreturn\u001b[0m \u001b[0mself\u001b[0m\u001b[0;34m\u001b[0m\u001b[0;34m\u001b[0m\u001b[0m\n\u001b[1;32m   1493\u001b[0m \u001b[0;34m\u001b[0m\u001b[0m\n",
            "\u001b[0;32m/usr/local/lib/python3.7/dist-packages/pandas/core/arrays/string_.py\u001b[0m in \u001b[0;36m__setitem__\u001b[0;34m(self, key, value)\u001b[0m\n\u001b[1;32m    397\u001b[0m         \u001b[0mscalar_value\u001b[0m \u001b[0;34m=\u001b[0m \u001b[0mlib\u001b[0m\u001b[0;34m.\u001b[0m\u001b[0mis_scalar\u001b[0m\u001b[0;34m(\u001b[0m\u001b[0mvalue\u001b[0m\u001b[0;34m)\u001b[0m\u001b[0;34m\u001b[0m\u001b[0;34m\u001b[0m\u001b[0m\n\u001b[1;32m    398\u001b[0m         \u001b[0;32mif\u001b[0m \u001b[0mscalar_key\u001b[0m \u001b[0;32mand\u001b[0m \u001b[0;32mnot\u001b[0m \u001b[0mscalar_value\u001b[0m\u001b[0;34m:\u001b[0m\u001b[0;34m\u001b[0m\u001b[0;34m\u001b[0m\u001b[0m\n\u001b[0;32m--> 399\u001b[0;31m             \u001b[0;32mraise\u001b[0m \u001b[0mValueError\u001b[0m\u001b[0;34m(\u001b[0m\u001b[0;34m\"setting an array element with a sequence.\"\u001b[0m\u001b[0;34m)\u001b[0m\u001b[0;34m\u001b[0m\u001b[0;34m\u001b[0m\u001b[0m\n\u001b[0m\u001b[1;32m    400\u001b[0m \u001b[0;34m\u001b[0m\u001b[0m\n\u001b[1;32m    401\u001b[0m         \u001b[0;31m# validate new items\u001b[0m\u001b[0;34m\u001b[0m\u001b[0;34m\u001b[0m\u001b[0;34m\u001b[0m\u001b[0m\n",
            "\u001b[0;31mValueError\u001b[0m: setting an array element with a sequence."
          ]
        }
      ]
    },
    {
      "cell_type": "code",
      "source": [
        "w2v_data_all = list(df['cleanTextNew'])"
      ],
      "metadata": {
        "id": "k0Y0ueRHGvMc"
      },
      "execution_count": null,
      "outputs": []
    },
    {
      "cell_type": "code",
      "source": [
        "tag_data = [TaggedDocument(words=word_tokenize(_d.lower()), tags=[str(i)]) for i, _d in enumerate(w2v_data_all)]"
      ],
      "metadata": {
        "id": "3CBiFGxfmuJw"
      },
      "execution_count": null,
      "outputs": []
    },
    {
      "cell_type": "code",
      "source": [
        "def build_model(max_epochs, vec_size, alpha, tagged_data):\n",
        "    \n",
        "    model = Doc2Vec(vector_size=vec_size,\n",
        "               alpha=alpha,\n",
        "               min_alpha=0.00025,\n",
        "               min_count=1,\n",
        "               dm=1)\n",
        "    \n",
        "    model.build_vocab(tag_data)\n",
        "    \n",
        "    # With the model built we simply train on the data.\n",
        "    \n",
        "    for epoch in range(max_epochs):\n",
        "        print(f\"Iteration {epoch}\")\n",
        "        model.train(tag_data,\n",
        "                   total_examples=model.corpus_count,\n",
        "                   epochs=model.epochs)\n",
        "\n",
        "        # Here I decrease the learning rate. \n",
        "\n",
        "        model.alpha -= 0.0002\n",
        "\n",
        "        model.min_alpha = model.alpha\n",
        "    \n",
        "    # Now simply save the model to avoid training again. \n",
        "    \n",
        "    model.save(\"/content/drive/MyDrive/amf_data/item1a_new.model\")\n",
        "    print(\"Model Saved\")\n",
        "    return model"
      ],
      "metadata": {
        "id": "lU-K3XE_dH5x"
      },
      "execution_count": null,
      "outputs": []
    },
    {
      "cell_type": "code",
      "source": [
        "model = build_model(vec_size=200, alpha=0.025, window_size=5, tagged_data=tag_data)\n"
      ],
      "metadata": {
        "id": "feQe3uNfdor7"
      },
      "execution_count": null,
      "outputs": []
    }
  ],
  "metadata": {
    "colab": {
      "machine_shape": "hm",
      "name": "doc2vec.ipynb",
      "provenance": [],
      "collapsed_sections": [],
      "mount_file_id": "1gJa3wiH-A2oDW-rIF45ZLA2LFrl9RS4y",
      "authorship_tag": "ABX9TyOma9Y9oysVSeIG9kVLacuP",
      "include_colab_link": true
    },
    "gpuClass": "standard",
    "kernelspec": {
      "display_name": "Python 3",
      "name": "python3"
    },
    "language_info": {
      "name": "python"
    }
  },
  "nbformat": 4,
  "nbformat_minor": 0
}